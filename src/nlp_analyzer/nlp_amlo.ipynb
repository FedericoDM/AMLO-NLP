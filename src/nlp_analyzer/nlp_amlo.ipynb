{
 "cells": [
  {
   "cell_type": "markdown",
   "metadata": {},
   "source": [
    "# AMLO Exploratory Data Analysis"
   ]
  },
  {
   "cell_type": "code",
   "execution_count": 14,
   "metadata": {},
   "outputs": [],
   "source": [
    "import re\n",
    "import os\n",
    "import pandas as pd\n",
    "from tqdm import tqdm\n",
    "\n",
    "from sklearn.feature_extraction.text import TfidfVectorizer\n",
    "\n",
    "from amlo_parser import AMLOParser\n",
    "from training_set import TrainingSet"
   ]
  },
  {
   "cell_type": "markdown",
   "metadata": {},
   "source": [
    "#### CONSTANTS"
   ]
  },
  {
   "cell_type": "code",
   "execution_count": 15,
   "metadata": {},
   "outputs": [],
   "source": [
    "PATH = \"C:/Users/fdmol/Desktop/AMLO-NLP/src/data/text_files/\"\n",
    "LABELED_PATH = \"C:/Users/fdmol/Desktop/AMLO-NLP/src/data/amlo_labeling.xlsx\""
   ]
  },
  {
   "cell_type": "markdown",
   "metadata": {},
   "source": [
    "### Pipeline"
   ]
  },
  {
   "cell_type": "markdown",
   "metadata": {},
   "source": [
    "### Classification Task"
   ]
  },
  {
   "cell_type": "code",
   "execution_count": 16,
   "metadata": {},
   "outputs": [
    {
     "name": "stderr",
     "output_type": "stream",
     "text": [
      " 21%|██▏       | 266/1246 [00:00<00:00, 2531.07it/s]"
     ]
    },
    {
     "name": "stdout",
     "output_type": "stream",
     "text": [
      "Conference 20181207 is not agressive\n",
      "Conference 20190102 is not agressive\n",
      "Conference 20190111 is not agressive\n",
      "Conference 20190227 is not agressive\n",
      "Conference 20200128 is not agressive\n",
      "Conference 20210510 is not agressive\n"
     ]
    },
    {
     "name": "stderr",
     "output_type": "stream",
     "text": [
      "100%|██████████| 1246/1246 [00:00<00:00, 3618.92it/s]"
     ]
    },
    {
     "name": "stdout",
     "output_type": "stream",
     "text": [
      "Conference 20221125 is not agressive\n"
     ]
    },
    {
     "name": "stderr",
     "output_type": "stream",
     "text": [
      "\n"
     ]
    }
   ],
   "source": [
    "all_files = os.listdir(PATH)\n",
    "\n",
    "training_set = TrainingSet(remove_stopwords=True)\n",
    "training_set.create_training_set()"
   ]
  },
  {
   "cell_type": "markdown",
   "metadata": {},
   "source": [
    "### REGRESSION TASK"
   ]
  },
  {
   "cell_type": "code",
   "execution_count": 17,
   "metadata": {},
   "outputs": [],
   "source": [
    "import os\n",
    "import numpy as np\n",
    "\n",
    "from sklearn.feature_extraction.text import TfidfVectorizer\n",
    "from sklearn.model_selection import train_test_split\n",
    "from sklearn.metrics import accuracy_score, classification_report\n",
    "\n",
    "\n",
    "from sklearn.preprocessing import MinMaxScaler\n",
    "\n",
    "\n",
    "from sklearn.metrics import mean_squared_error, r2_score\n",
    "\n",
    "import xgboost as xgb"
   ]
  },
  {
   "cell_type": "code",
   "execution_count": 18,
   "metadata": {},
   "outputs": [],
   "source": [
    "def create_regression_training_df(folder_path, dialogues_path):\n",
    "    \"\"\"\n",
    "    Creates a DataFrame with the training data for the classification model\n",
    "    \"\"\"\n",
    "\n",
    "    # Initialize an empty list to store data\n",
    "    data = []\n",
    "\n",
    "    # Iterate through each file in the folder\n",
    "    for file in os.listdir(folder_path):\n",
    "        if file.endswith(\".txt\"):\n",
    "            # Determine the label based on the file name\n",
    "            label = 0 if \"non\" in file else 1\n",
    "            id = int(re.findall(r\"\\d+\", file)[0])\n",
    "            # Read the text file\n",
    "            with open(os.path.join(folder_path, file), \"r\", encoding=\"utf-8\") as f:\n",
    "                text = f.read()\n",
    "            if label == 1:\n",
    "                # Get text from president's dialogues\n",
    "                with open(\n",
    "                    os.path.join(dialogues_path, f\"{id}_president_dialogues.txt\"),\n",
    "                    \"r\",\n",
    "                    encoding=\"utf-8\",\n",
    "                ) as f:\n",
    "                    dialogues = f.read()\n",
    "\n",
    "                # Ratio of agressive phrases\n",
    "                length_agressive = len(text.split())\n",
    "                length_total = len(dialogues.split())\n",
    "\n",
    "                ratio = length_agressive / length_total\n",
    "\n",
    "                data.append({\"id\": id, \"text\": text, \"score\": ratio})\n",
    "\n",
    "            else:\n",
    "                continue\n",
    "\n",
    "    # Convert the list to a DataFrame\n",
    "    df = pd.DataFrame(data)\n",
    "\n",
    "    return df"
   ]
  },
  {
   "cell_type": "code",
   "execution_count": 19,
   "metadata": {},
   "outputs": [],
   "source": [
    "def train_xgboost(df):\n",
    "    \"\"\"\n",
    "    Trains an XGBoost model to predict\n",
    "    the score of agressivity\n",
    "    \"\"\"\n",
    "\n",
    "    # Import the XGBoost library\n",
    "    tfidf_vectorizer = TfidfVectorizer(max_features=1000)\n",
    "\n",
    "    # Fit and transform the 'text' column\n",
    "    X = tfidf_vectorizer.fit_transform(df[\"text\"])\n",
    "\n",
    "    # Assuming 'label' is your target variable\n",
    "    y = df[\"score\"]\n",
    "\n",
    "    # Assuming `X` is your matrix of embeddings and `y` is your vector of normalized aggressivity scores\n",
    "    X_train, X_test, y_train, y_test = train_test_split(\n",
    "        X, y, test_size=0.2, random_state=42\n",
    "    )\n",
    "    # Create the DMatrix\n",
    "    dtrain = xgb.DMatrix(X_train, label=y_train)\n",
    "    dtest = xgb.DMatrix(X_test, label=y_test)\n",
    "\n",
    "    # Define the parameters\n",
    "    param = {\n",
    "        \"max_depth\": 8,\n",
    "        \"eta\": 0.15,\n",
    "        \"objective\": \"reg:squarederror\",\n",
    "        \"eval_metric\": \"rmse\",\n",
    "    }\n",
    "\n",
    "    # Train the model\n",
    "    num_round = 250\n",
    "    bst = xgb.train(param, dtrain, num_round)\n",
    "\n",
    "    # Make predictions\n",
    "    y_pred = bst.predict(dtest)\n",
    "\n",
    "    # Evaluate the model\n",
    "    mse = mean_squared_error(y_test, y_pred)\n",
    "    r2 = r2_score(y_test, y_pred)\n",
    "\n",
    "    print(f\"Mean Squared Error: {mse}\")\n",
    "    print(f\"R^2 Score: {r2}\")\n",
    "\n",
    "    return bst, tfidf_vectorizer"
   ]
  },
  {
   "cell_type": "code",
   "execution_count": 20,
   "metadata": {},
   "outputs": [],
   "source": [
    "def create_unseen_df(training_set, df):\n",
    "    # Now, let us do it for the entire dataset\n",
    "    data = []\n",
    "\n",
    "    labeled_ids = df[\"id\"].values\n",
    "\n",
    "    # Iterate through each file in the folder\n",
    "    for file in os.listdir(training_set.DIALOGUES_PATH):\n",
    "        if file.endswith(\".txt\"):\n",
    "            # Determine the label based on the file name\n",
    "            conference_id = int(re.findall(r\"\\d+\", file)[0])\n",
    "\n",
    "            if conference_id not in labeled_ids:\n",
    "                # Read the text file\n",
    "                with open(\n",
    "                    os.path.join(training_set.DIALOGUES_PATH, file),\n",
    "                    \"r\",\n",
    "                    encoding=\"utf-8\",\n",
    "                ) as f:\n",
    "                    text = f.read()\n",
    "                    data.append({\"id\": conference_id, \"text\": text})\n",
    "\n",
    "    unseen_df = pd.DataFrame(data)\n",
    "\n",
    "    return unseen_df"
   ]
  },
  {
   "cell_type": "code",
   "execution_count": 21,
   "metadata": {},
   "outputs": [],
   "source": [
    "def predict_unseen_data(model, unseen_df, tfidf_vectorizer, regression=False):\n",
    "    \"\"\"\n",
    "    Predicts the labels for the unseen data\n",
    "    \"\"\"\n",
    "    # Fit and transform the 'text' column\n",
    "    X_unseen = tfidf_vectorizer.fit_transform(unseen_df[\"text\"])\n",
    "\n",
    "    # Make predictions on the unseen data\n",
    "    y_unseen = model.predict(X_unseen)\n",
    "\n",
    "    # Add the predictions to the DataFrame\n",
    "    if regression:\n",
    "        unseen_df[\"score\"] = y_unseen\n",
    "    else:\n",
    "        unseen_df[\"label\"] = y_unseen\n",
    "\n",
    "    return unseen_df"
   ]
  },
  {
   "cell_type": "code",
   "execution_count": 22,
   "metadata": {},
   "outputs": [],
   "source": [
    "def predict_xgboost(model, unseen_df, tfidf_vectorizer):\n",
    "    \"\"\"\n",
    "    Predicts the labels for the unseen data\n",
    "    \"\"\"\n",
    "    # Fit and transform the 'text' column\n",
    "    X_unseen = tfidf_vectorizer.fit_transform(unseen_df[\"text\"])\n",
    "\n",
    "    # Create the DMatrix\n",
    "    d_unseen = xgb.DMatrix(X_unseen)\n",
    "\n",
    "    # Make predictions\n",
    "    y_unseen = model.predict(d_unseen)\n",
    "\n",
    "    # Add the predictions to the DataFrame\n",
    "    unseen_df[\"score\"] = y_unseen\n",
    "\n",
    "    return unseen_df"
   ]
  },
  {
   "cell_type": "markdown",
   "metadata": {},
   "source": [
    "#### MODELING PIPELINE"
   ]
  },
  {
   "cell_type": "code",
   "execution_count": 23,
   "metadata": {},
   "outputs": [],
   "source": [
    "# Specify the path to your training data folder\n",
    "folder_path = \"C:/Users/fdmol/Desktop/AMLO-NLP/src/data/training_data/\""
   ]
  },
  {
   "cell_type": "code",
   "execution_count": 24,
   "metadata": {},
   "outputs": [
    {
     "name": "stdout",
     "output_type": "stream",
     "text": [
      "Mean Squared Error: 0.0020967836410646984\n",
      "R^2 Score: 0.04109913896256623\n"
     ]
    }
   ],
   "source": [
    "# Train the XGBoost model\n",
    "\n",
    "training_df = create_regression_training_df(\n",
    "    \"C:/Users/fdmol/Desktop/AMLO-NLP/src/data/training_data/\",\n",
    "    \"C:/Users/fdmol/Desktop/AMLO-NLP/src/data/presidents_dialogues/\",\n",
    ")\n",
    "\n",
    "xgboost_model, tfidf_vectorizer = train_xgboost(training_df)\n",
    "\n",
    "# Create the unseen data DataFrame\n",
    "unseen_df = create_unseen_df(training_set)\n",
    "\n",
    "# Predict the labels for the unseen data\n",
    "results_df = predict_xgboost(xgboost_model, unseen_df, tfidf_vectorizer)\n",
    "\n",
    "# Concat the results and the training data\n",
    "\n",
    "complete_df = pd.concat([training_df, results_df], ignore_index=True)\n",
    "\n",
    "scaler = MinMaxScaler()\n",
    "\n",
    "# Normalize the score\n",
    "scores = np.array(complete_df[\"score\"]).reshape(-1, 1)\n",
    "\n",
    "scaler.fit(scores)\n",
    "\n",
    "complete_df[\"score\"] = scaler.transform(scores)\n",
    "\n",
    "complete_df.head()\n",
    "\n",
    "# Save the results to a CSV file\n",
    "\n",
    "# Add a column with the length of the text\n",
    "\n",
    "complete_df[\"num_words\"] = complete_df[\"text\"].apply(lambda x: len(x.split()))\n",
    "\n",
    "complete_df.to_csv(\n",
    "    \"C:/Users/fdmol/Desktop/AMLO-NLP/src/data/xgb_agressivity_scores.csv\", index=False\n",
    ")"
   ]
  },
  {
   "cell_type": "code",
   "execution_count": 25,
   "metadata": {},
   "outputs": [],
   "source": [
    "# Remove text column\n",
    "complete_df = complete_df.drop(\"text\", axis=1)\n",
    "\n",
    "# Save the results to a CSV file\n",
    "complete_df.to_csv(\n",
    "    \"C:/Users/fdmol/Desktop/AMLO-NLP/src/data/xgb_agressivity_scores_no_words.csv\",\n",
    "    index=False,\n",
    ")"
   ]
  },
  {
   "cell_type": "code",
   "execution_count": 26,
   "metadata": {},
   "outputs": [
    {
     "data": {
      "text/plain": [
       "Text(0.5, 1.0, 'Distribution of Aggressivity Scores')"
      ]
     },
     "execution_count": 26,
     "metadata": {},
     "output_type": "execute_result"
    },
    {
     "data": {
      "image/png": "[encoded data removed]",
      "text/plain": [
       "<Figure size 640x480 with 1 Axes>"
      ]
     },
     "metadata": {},
     "output_type": "display_data"
    }
   ],
   "source": [
    "# Plot histogram of the scores\n",
    "\n",
    "import matplotlib.pyplot as plt\n",
    "import seaborn as sns\n",
    "\n",
    "sns.set()\n",
    "plt.hist(complete_df[\"score\"], bins=20)\n",
    "plt.xlabel(\"Score\")\n",
    "plt.ylabel(\"Frequency\")\n",
    "plt.title(\"Distribution of Aggressivity Scores\")"
   ]
  },
  {
   "cell_type": "markdown",
   "metadata": {},
   "source": [
    "### Possible models to use:\n",
    "\n",
    "Summarization:\n",
    "\n",
    "https://huggingface.co/mrm8488/bert2bert_shared-spanish-finetuned-summarization\n",
    "\n",
    "\n",
    "Sentiment Analysis:\n",
    "\n",
    "https://huggingface.co/finiteautomata/beto-sentiment-analysis\n",
    "\n",
    "\n",
    "Emotion Analysis:\n",
    "\n",
    "https://huggingface.co/finiteautomata/beto-emotion-analysis\n"
   ]
  }
 ],
 "metadata": {
  "kernelspec": {
   "display_name": "Python 3",
   "language": "python",
   "name": "python3"
  },
  "language_info": {
   "codemirror_mode": {
    "name": "ipython",
    "version": 3
   },
   "file_extension": ".py",
   "mimetype": "text/x-python",
   "name": "python",
   "nbconvert_exporter": "python",
   "pygments_lexer": "ipython3",
   "version": "3.11.3"
  }
 },
 "nbformat": 4,
 "nbformat_minor": 2
}
