{
 "cells": [
  {
   "cell_type": "markdown",
   "metadata": {},
   "source": [
    "# AMLO Exploratory Data Analysis"
   ]
  },
  {
   "cell_type": "code",
   "execution_count": 50,
   "metadata": {},
   "outputs": [],
   "source": [
    "import re\n",
    "import os\n",
    "import pandas as pd\n",
    "from tqdm import tqdm\n",
    "\n",
    "from sklearn.feature_extraction.text import TfidfVectorizer"
   ]
  },
  {
   "cell_type": "code",
   "execution_count": 51,
   "metadata": {},
   "outputs": [],
   "source": [
    "PATH = \"C:/Users/fdmol/Desktop/AMLO-NLP/src/data/text_files/\"\n",
    "REGEX_PATTERNS = [\n",
    "    r\"copyright derechos reservados 2011-2020 - sitio oficial de andrés manuel lópez obrador\",\n",
    "    r\"versión estenográfica de la conferencia de prensa matutina del presidente de méxico, andrés manuel lópez obrador – amlo \\| \\d+/\\d+/\\d+\",\n",
    "    r\" descarga audio: \\d+-\\d+-\\d+ audio conferencia de prensa presidente de méxico palacio nacional,\",\n",
    "]\n",
    "\n",
    "STOPWORDS = [\n",
    "    \"el\",\n",
    "    \"ella\",\n",
    "    \"ellos\",\n",
    "    \"ellas\",\n",
    "    \"con\",\n",
    "    \"contra\",\n",
    "    \"como\",\n",
    "    \"de\",\n",
    "    \"por\",\n",
    "    \"para\",\n",
    "    \"a\",\n",
    "    \"ante\",\n",
    "    \"bajo\",\n",
    "    \"cabe\",\n",
    "    \"con\",\n",
    "    \"contra\",\n",
    "    \"de\",\n",
    "    \"desde\",\n",
    "    \"durante\",\n",
    "    \"en\",\n",
    "    \"entre\",\n",
    "    \"hacia\",\n",
    "    \"hasta\",\n",
    "    \"mediante\",\n",
    "    \"para\",\n",
    "    \"por\",\n",
    "    \"según\",\n",
    "    \"sin\",\n",
    "    \"so\",\n",
    "    \"sobre\",\n",
    "    \"tras\",\n",
    "    \"versus\",\n",
    "    \"vía\",\n",
    "    \"y\",\n",
    "    \"e\",\n",
    "    \"ni\",\n",
    "    \"o\",\n",
    "    \"u\",\n",
    "    \"pero\",\n",
    "    \"aunque\",\n",
    "    \"la\",\n",
    "    \"las\",\n",
    "    \"los\",\n",
    "    \"lo\",\n",
    "    \"un\",\n",
    "    \"una\",\n",
    "    \"unos\",\n",
    "    \"unas\",\n",
    "    \"al\",\n",
    "    \"del\",\n",
    "    \"lo\",\n",
    "    \"le\",\n",
    "    \"les\",\n",
    "    \"me\",\n",
    "    \"te\",\n",
    "    \"se\",\n",
    "    \"nos\",\n",
    "    \"os\",\n",
    "    \"les\",\n",
    "    \"le\",\n",
    "    \"me\",\n",
    "    \"te\",\n",
    "    \"se\",\n",
    "    \"nos\",\n",
    "    \"que\",\n",
    "    \"esta\",\n",
    "    \"este\",\n",
    "    \"estas\",\n",
    "    \"estos\",\n",
    "    \"porque\",\n",
    "    \"si\",\n",
    "    \"yo\",\n",
    "    \"no\",\n",
    "    \"le\",\n",
    "    \"va\",\n",
    "    \"ya\",\n",
    "    \"es\",\n",
    "    \"mil\",\n",
    "    \"ciento\",\n",
    "    \"tu\",\n",
    "    \"ha\",\n",
    "    \"he\",\n",
    "    \"han\",\n",
    "]\n",
    "\n",
    "\n",
    "PRESIDENT_REGEXES = [\n",
    "    r\"pregunta:.*\",\n",
    "    r\"interlocutor:.*\",\n",
    "    r\"intervención:.*\",\n",
    "    r\"interlocutora:.*\",\n",
    "]"
   ]
  },
  {
   "cell_type": "markdown",
   "metadata": {},
   "source": [
    "#### Defining classes and functions"
   ]
  },
  {
   "cell_type": "code",
   "execution_count": 52,
   "metadata": {},
   "outputs": [],
   "source": [
    "class TextParser:\n",
    "    REGEX_PATTERNS = REGEX_PATTERNS\n",
    "    STOPWORDS = STOPWORDS\n",
    "    PRESIDENT_REGEXES = PRESIDENT_REGEXES\n",
    "\n",
    "    def __init__(self, path):\n",
    "        self.path = path\n",
    "        self.president_split = \"presidente andrés manuel lópez obrador:\"\n",
    "\n",
    "    def txt_to_list(self, filename):\n",
    "        \"\"\"\n",
    "        Add each line of a text file to a list\n",
    "        \"\"\"\n",
    "\n",
    "        file_path = os.path.join(self.path, filename)\n",
    "        lines = []\n",
    "        with open(file_path, \"r\", encoding=\"utf-8\") as f:\n",
    "            for line in f:\n",
    "                line = line.strip().split()\n",
    "                lines.append(line)\n",
    "\n",
    "        return lines\n",
    "\n",
    "    def file_to_string(self, filename):\n",
    "        \"\"\"\n",
    "        Add each line of a text file to a string\n",
    "        \"\"\"\n",
    "        text = \"\"\n",
    "        file_path = os.path.join(self.path, filename)\n",
    "        with open(file_path, \"r\", encoding=\"utf-8\") as f:\n",
    "            for line in f:\n",
    "                text += line\n",
    "\n",
    "        text = text.strip()\n",
    "        text = text.lower()\n",
    "        text = re.sub(r\"\\s+\", \" \", text)\n",
    "\n",
    "        for pattern in self.REGEX_PATTERNS:\n",
    "            text = re.sub(pattern, \"\", text)\n",
    "\n",
    "        return text\n",
    "\n",
    "    def remove_stopwords(self, text):\n",
    "        \"\"\"\n",
    "        Removes predefined stopwords from a string\n",
    "        \"\"\"\n",
    "        text = text.split()\n",
    "        text = [word for word in text if word not in self.STOPWORDS]\n",
    "\n",
    "        # Remove digits with regex\n",
    "        text = [re.sub(r\"\\d+\", \"\", word) for word in text]\n",
    "        text = \" \".join(text)\n",
    "        return text\n",
    "\n",
    "    def get_presidents_dialogues(self, filename, remove_stopwords=False):\n",
    "        \"\"\"\n",
    "        Get the president's dialogues from a text file\n",
    "        \"\"\"\n",
    "        text = self.file_to_string(filename)\n",
    "        text = text.split(self.president_split)\n",
    "\n",
    "        # Apply regex to only get the president's dialogues\n",
    "        for regex in self.PRESIDENT_REGEXES:\n",
    "            text = [re.sub(regex, \"\", line) for line in text]\n",
    "\n",
    "        if remove_stopwords:\n",
    "            text = [self.remove_stopwords(line) for line in text]\n",
    "\n",
    "        text = [line.strip() for line in text if line.strip() != \"\"]\n",
    "        text = text[1:]\n",
    "        return text\n",
    "\n",
    "    def save_all_presidents_dialogues(self, filename):\n",
    "        \"\"\"\n",
    "        Save the president's dialogues to a text file\n",
    "        \"\"\"\n",
    "\n",
    "        all_files = os.listdir(self.path)\n",
    "\n",
    "        for file in all_files:\n",
    "            if file.endswith(\".txt\"):\n",
    "                text = self.get_presidents_dialogues(file)\n",
    "                file_path = os.path.join(self.path, file)\n",
    "                file_path = file_path.replace(\".txt\", \"_president_dialogues.txt\")\n",
    "                with open(file_path, \"w\", encoding=\"utf-8\") as f:\n",
    "                    for line in text:\n",
    "                        f.write(line)\n",
    "                        f.write(\"\\n\")"
   ]
  },
  {
   "cell_type": "code",
   "execution_count": 53,
   "metadata": {},
   "outputs": [],
   "source": [
    "# Use TF-IDF to find the most important words in the text\n",
    "def get_most_important_words(text, filename, save=False):\n",
    "    # Create a TfidfVectorizer\n",
    "    tfidf_vectorizer = TfidfVectorizer()\n",
    "\n",
    "    # Apply the vectorizer\n",
    "    tfidf_matrix = tfidf_vectorizer.fit_transform(text)\n",
    "\n",
    "    # Print the result\n",
    "    scores = tfidf_matrix.toarray()[0]\n",
    "    words = tfidf_vectorizer.get_feature_names_out()\n",
    "\n",
    "    # Create a DataFrame with the result\n",
    "    df = pd.DataFrame({\"Word\": words, \"Score\": scores})\n",
    "    df.sort_values(\"Score\", ascending=False, inplace=True)\n",
    "\n",
    "    if save:\n",
    "        df.to_csv(filename, index=False)\n",
    "\n",
    "    return df"
   ]
  },
  {
   "cell_type": "code",
   "execution_count": 54,
   "metadata": {},
   "outputs": [
    {
     "name": "stdout",
     "output_type": "stream",
     "text": [
      "['20181207.txt', '20181210.txt', '201812112.txt', '20181212.txt', '201812175.txt', '201812186.txt', '201812197.txt', '2018122410.txt', '2018122611.txt', '2018122712.txt', '2018122813.txt', '2019010214.txt', '2019010315.txt', '2019010416.txt', '2019010717.txt', '2019010818.txt', '2019010919.txt', '2019011020.txt', '2019011121.txt', '2019011422.txt', '2019011523.txt', '2019011624.txt', '2019011725.txt', '2019011826.txt', '20190119.txt', '201901192.txt', '201901203.txt', '2019012127.txt', '2019012228.txt', '2019012329.txt', '2019012430.txt', '2019012531.txt', '2019012832.txt', '2019012933.txt', '2019013034.txt', '2019013135.txt', '2019020136.txt', '2019020437.txt', '2019020538.txt', '2019020639.txt', '2019020740.txt', '2019020841.txt', '2019021142.txt', '2019021243.txt', '2019021344.txt', '2019021445.txt', '2019021546.txt', '2019021847.txt', '2019021948.txt', '20190220.txt', '20190221.txt', '201902222.txt', '2019022549.txt', '2019022650.txt', '201902273.txt', '201902284.txt', '201903015.txt', '201903046.txt', '201903057.txt', '201903079.txt', '2019031111.txt', '2019031251.txt', '2019031312.txt', '2019031413.txt', '2019031552.txt', '2019031814.txt', '2019031915.txt', '2019032016.txt', '2019032117.txt', '2019032253.txt', '2019032554.txt', '2019032618.txt', '20190327.txt', '2019032855.txt', '2019032956.txt', '2019040157.txt', '2019040258.txt', '2019040359.txt', '2019040460.txt', '20190405.txt', '2019040861.txt', '20190409.txt', '2019041062.txt', '2019041264.txt', '2019041565.txt', '2019041666.txt', '2019041767.txt', '20190422.txt', '2019042368.txt', '2019042469.txt', '2019042570.txt', '2019042671.txt', '2019042972.txt', '2019043073.txt', '2019050174.txt', '2019050275.txt', '2019050376.txt', '2019050677.txt', '2019050778.txt', '2019050919.txt', '2019051079.txt', '2019051380.txt', '2019051481.txt', '2019051582.txt', '2019051683.txt', '2019051784.txt', '2019052085.txt', '2019052186.txt', '2019052287.txt', '2019052388.txt', '2019052489.txt', '2019052790.txt', '2019052891.txt', '2019052992.txt', '2019053093.txt', '2019053194.txt', '20190601.txt', '2019060395.txt', '2019060496.txt', '2019060597.txt', '2019060698.txt', '2019060799.txt', '20190610100.txt', '20190611101.txt', '20190612102.txt', '20190613103.txt', '20190614104.txt', '20190617105.txt', '20190618106.txt', '20190620107.txt', '20190621108.txt', '20190624.txt', '20190625109.txt', '20190626110.txt', '20190627111.txt', '20190628112.txt', '20190702113.txt', '20190703114.txt', '20190704115.txt', '20190705116.txt', '20190708117.txt', '20190709118.txt', '20190710119.txt', '2019071120.txt', '20190712120.txt', '20190715121.txt', '20190716122.txt', '20190717123.txt', '20190718124.txt', '20190719125.txt', '20190722126.txt', '20190723127.txt', '20190724128.txt', '20190725129.txt', '20190726130.txt', '20190729.txt', '20190730131.txt', '20190731132.txt', '20190801133.txt', '20190802134.txt', '20190805135.txt', '20190807136.txt', '20190808137.txt', '20190809.txt', '20190812138.txt', '20190813139.txt', '20190814140.txt', '20190815141.txt', '20190816142.txt', '20190819143.txt', '20190820144.txt', '20190821145.txt', '20190822146.txt', '20190823.txt', '20190826.txt', '20190827147.txt', '20190828148.txt', '20190829149.txt', '20190830150.txt', '20190902.txt', '20190903151.txt', '20190904152.txt', '20190905153.txt', '20190906154.txt', '20190909155.txt', '20190910156.txt', '20190911157.txt', '20190912158.txt', '20190913159.txt', '20190918160.txt', '20190920.txt', '20190923161.txt', '20190924162.txt', '20190925163.txt', '20190926164.txt', '20190927165.txt', '20190930166.txt', '20191001167.txt', '20191002168.txt', '20191003169.txt', '20191004.txt', '20191007170.txt', '20191008171.txt', '20191009172.txt', '20191010173.txt', '20191011174.txt', '20191014175.txt', '20191015176.txt', '20191016177.txt', '20191017178.txt', '20191018.txt', '20191021179.txt', '20191022180.txt', '20191023181.txt', '20191024182.txt', '20191025183.txt', '20191028184.txt', '20191029185.txt', '20191030186.txt', '20191031187.txt', '20191101188.txt', '20191104189.txt', '20191105190.txt', '20191106191.txt', '20191107192.txt', '20191108193.txt', '20191111194.txt', '20191112195.txt', '20191113196.txt', '20191114197.txt', '20191115198.txt', '20191118199.txt', '20191119200.txt', '20191121201.txt', '20191122202.txt', '20191125203.txt', '20191126204.txt', '20191127205.txt', '20191128206.txt', '20191129207.txt', '20191202208.txt', '20191203209.txt', '20191204210.txt', '20191205211.txt', '20191206212.txt', '20191209213.txt', '20191210214.txt', '20191211215.txt', '20191212216.txt', '20191213217.txt', '2019121622.txt', '20191217218.txt', '20191218219.txt', '20191219220.txt', '20191220221.txt', '20191223222.txt', '20191224223.txt', '20191226224.txt', '20191227225.txt', '20200102226.txt', '20200103227.txt', '20200106228.txt', '20200107229.txt', '20200108230.txt', '20200109231.txt', '20200110232.txt', '20200113233.txt', '20200114234.txt', '20200115235.txt', '20200116236.txt', '20200117237.txt', '20200120238.txt', '20200121239.txt', '20200122240.txt', '20200123241.txt', '20200124242.txt', '20200127243.txt', '20200128244.txt', '20200129245.txt', '20200130246.txt', '20200131247.txt', '20200203248.txt', '20200204249.txt', '20200205250.txt', '20200206251.txt', '20200207252.txt', '20200210253.txt', '20200211254.txt', '20200212255.txt', '20200213256.txt', '20200214257.txt', '20200217258.txt', '20200218259.txt', '20200219260.txt', '20200220261.txt', '20200221.txt', '20200224262.txt', '20200225263.txt', '20200226264.txt', '20200227265.txt', '20200228266.txt', '20200302267.txt', '20200303268.txt', '20200304269.txt', '20200305270.txt', '20200306271.txt', '20200309272.txt', '20200310273.txt', '20200311274.txt', '20200312275.txt', '20200313276.txt', '20200316277.txt', '20200317278.txt', '20200318279.txt', '20200319280.txt', '20200320281.txt', '20200323282.txt', '20200324283.txt', '20200325284.txt', '20200326285.txt', '20200327286.txt', '20200330287.txt', '20200331288.txt', '20200401289.txt', '20200402290.txt', '20200403291.txt', '20200404292.txt', '20200406293.txt', '20200407294.txt', '20200408295.txt', '20200409296.txt', '20200410297.txt', '20200413298.txt', '20200414299.txt', '20200415300.txt', '20200416301.txt', '20200417302.txt', '20200420303.txt', '20200421304.txt', '20200422305.txt', '20200423306.txt', '20200424307.txt', '20200427308.txt', '20200428309.txt', '20200429310.txt', '20200430311.txt', '20200501312.txt', '20200504313.txt', '20200505314.txt', '20200506315.txt', '20200507316.txt', '20200508317.txt', '20200511318.txt', '20200512319.txt', '20200513320.txt', '20200514321.txt', '20200515322.txt', '20200518323.txt', '20200519324.txt', '20200520325.txt', '20200521326.txt', '20200522327.txt', '20200525328.txt', '20200526329.txt', '20200527330.txt', '20200528331.txt', '20200529332.txt', '20200601.txt', '20200602.txt', '20200603.txt', '20200604.txt', '20200605.txt', '20200608333.txt', '20200609334.txt', '20200610335.txt', '20200611336.txt', '20200612337.txt', '20200615.txt', '20200616.txt', '20200617.txt', '20200618.txt', '20200619.txt', '202006222.txt', '202006233.txt', '202006244.txt', '202006255.txt', '20200626.txt', '20200629338.txt', '20200630339.txt', '20200701340.txt', '20200702341.txt', '20200703342.txt', '20200706343.txt', '20200707344.txt', '20200710345.txt', '20200713346.txt', '20200714347.txt', '20200715.txt', '202007162.txt', '20200717.txt', '20200720348.txt', '20200721349.txt', '20200722350.txt', '20200723351.txt', '20200724.txt', '20200728352.txt', '20200729353.txt', '20200730354.txt', '20200731355.txt', '20200803356.txt', '20200804.txt', '20200805.txt', '20200806.txt', '20200807.txt', '20200810357.txt', '20200811358.txt', '20200812359.txt', '20200813360.txt', '20200814361.txt', '20200817362.txt', '20200818363.txt', '20200819.txt', '20200820365.txt', '20200821.txt', '20200824364.txt', '20200825366.txt', '20200826.txt', '20200827.txt', '20200828.txt', '20200831367.txt', '20200902368.txt', '20200903369.txt', '202009046.txt', '20200907370.txt', '20200908371.txt', '20200909372.txt', '20200910373.txt', '20200911374.txt', '20200914375.txt', '20200915376.txt', '20200917377.txt', '20200918378.txt', '20200921379.txt', '20200922380.txt', '20200923381.txt', '20200924382.txt', '20200925383.txt', '20200928384.txt', '20200929385.txt', '20200930386.txt', '20201001387.txt', '20201002388.txt', '20201005389.txt', '20201006390.txt', '20201007391.txt', '20201008392.txt', '20201009393.txt', '20201012394.txt', '20201013395.txt', '20201014396.txt', '20201015397.txt', '20201016398.txt', '20201019399.txt', '20201020400.txt', '20201021401.txt', '20201022402.txt', '20201023403.txt', '20201026404.txt', '20201027405.txt', '20201028406.txt', '20201029407.txt', '20201030408.txt', '20201103409.txt', '20201104410.txt', '20201105411.txt', '20201106412.txt', '20201107.txt', '20201109413.txt', '20201110414.txt', '20201111415.txt', '20201112416.txt', '20201113417.txt', '20201114.txt', '20201116418.txt', '20201117419.txt', '20201118420.txt', '20201119421.txt', '20201120422.txt', '20201123423.txt', '20201124424.txt', '20201125425.txt', '20201126426.txt', '20201127427.txt', '20201130428.txt', '20201202429.txt', '20201203430.txt', '20201204431.txt', '20201207432.txt', '20201208433.txt', '20201209434.txt', '20201210435.txt', '20201211436.txt', '20201214437.txt', '20201215438.txt', '20201216439.txt', '20201217440.txt', '20201218441.txt', '20201221442.txt', '20201222443.txt', '20201223444.txt', '20201224445.txt', '20201228446.txt', '20201229447.txt', '20201230448.txt', '20201231449.txt', '20210104450.txt', '20210105451.txt', '20210106452.txt', '20210107453.txt', '20210108454.txt', '20210111455.txt', '20210112456.txt', '20210113457.txt', '20210114458.txt', '20210115459.txt', '20210118460.txt', '20210119461.txt', '20210120462.txt', '20210121463.txt', '20210122464.txt', '20210208465.txt', '20210209466.txt', '20210210467.txt', '20210211.txt', '20210212468.txt', '202102142.txt', '20210215469.txt', '20210216470.txt', '20210217471.txt', '20210218472.txt', '20210219473.txt', '20210222474.txt', '20210223475.txt', '20210224476.txt', '20210225477.txt', '20210226478.txt', '20210301479.txt', '20210302480.txt', '20210303481.txt', '20210304482.txt', '20210305483.txt', '20210308484.txt', '20210309485.txt', '20210310486.txt', '20210311487.txt', '20210312488.txt', '20210315489.txt', '20210316490.txt', '20210317491.txt', '20210318492.txt', '20210319493.txt', '20210322494.txt', '20210323495.txt', '20210324496.txt', '202103252.txt', '20210326497.txt', '20210329498.txt', '20210330499.txt', '20210331500.txt', '20210405501.txt', '20210406502.txt', '20210407503.txt', '20210408504.txt', '20210409505.txt', '20210412506.txt', '20210413507.txt', '20210414508.txt', '20210415509.txt', '20210416510.txt', '20210419511.txt', '20210420512.txt', '20210421513.txt', '20210422514.txt', '20210426516.txt', '20210427517.txt', '20210428518.txt', '20210429519.txt', '20210430520.txt', '20210503521.txt', '20210504522.txt', '20210505523.txt', '20210506524.txt', '20210507525.txt', '20210510526.txt', '20210511527.txt', '20210512528.txt', '20210513529.txt', '20210514530.txt', '20210517531.txt', '20210518532.txt', '20210519533.txt', '20210520534.txt', '20210521535.txt', '20210524536.txt', '20210525537.txt', '20210526538.txt', '20210527539.txt', '20210528540.txt', '20210531541.txt', '20210601542.txt', '20210602543.txt', '20210603544.txt', '20210604545.txt', '20210607546.txt', '20210608547.txt', '20210609548.txt', '20210610549.txt', '20210611550.txt', '20210614551.txt', '20210615552.txt', '20210616553.txt', '20210617554.txt', '20210618555.txt', '20210621556.txt', '20210622557.txt', '20210623558.txt', '20210624559.txt', '20210625560.txt', '20210629562.txt', '20210630563.txt', '20210702564.txt', '20210705565.txt', '20210706566.txt', '20210707567.txt', '20210708568.txt', '20210709569.txt', '20210712570.txt', '20210713571.txt', '20210714572.txt', '20210715573.txt', '20210716574.txt', '20210719.txt', '20210720575.txt', '20210721576.txt', '20210722577.txt', '20210723578.txt', '202107262.txt', '20210727579.txt', '20210728580.txt', '20210729581.txt', '20210730582.txt', '202108023.txt', '20210803583.txt', '20210804584.txt', '20210805585.txt', '202108062.txt', '20210809.txt', '20210810586.txt', '20210811587.txt', '20210812588.txt', '20210813589.txt', '20210816590.txt', '20210817591.txt', '20210818592.txt', '20210819593.txt', '20210820594.txt', '20210823595.txt', '20210824596.txt', '202108253.txt', '20210826597.txt', '20210827598.txt', '20210830599.txt', '20210831600.txt', '20210902601.txt', '20210903602.txt', '20210906603.txt', '20210907604.txt', '20210908605.txt', '20210909606.txt', '20210910607.txt', '20210913608.txt', '20210914609.txt', '20210917610.txt', '202109203.txt', '20210921612.txt', '20210923613.txt', '20210924614.txt', '20210927611.txt', '20210929615.txt', '20210930616.txt', '202110012.txt', '202110042.txt', '202110054.txt', '20211006617.txt', '20211007618.txt', '20211008619.txt', '20211011620.txt', '20211012621.txt', '20211013622.txt', '20211014623.txt', '20211015624.txt', '20211018625.txt', '20211019626.txt', '20211020627.txt', '20211021628.txt', '20211022629.txt', '20211025630.txt', '20211026631.txt', '20211027632.txt', '20211028633.txt', '20211029634.txt', '20211103635.txt', '20211104636.txt', '20211105637.txt', '20211108638.txt', '20211110639.txt', '202111112.txt', '202111122.txt', '20211115640.txt', '20211116641.txt', '202111172.txt', '20211122642.txt', '20211123643.txt', '20211125.txt', '202111262.txt', '202111294.txt', '20211130.txt', '20211202644.txt', '20211203.txt', '20211204.txt', '20211206645.txt', '202112074.txt', '202112082.txt', '20211209646.txt', '20211210647.txt', '20211211.txt', '20211213648.txt', '20211214649.txt', '20211215650.txt', '20211216651.txt', '202112172.txt', '20211220652.txt', '20211221653.txt', '20211222654.txt', '20211223655.txt', '20211227656.txt', '20211228657.txt', '20211229658.txt', '20211230659.txt', '20220103660.txt', '20220104661.txt', '20220105662.txt', '20220106663.txt', '20220107664.txt', '20220110665.txt', '20220117666.txt', '20220118667.txt', '20220119668.txt', '20220120669.txt', '20220121670.txt', '20220124671.txt', '20220125672.txt', '20220126673.txt', '20220127674.txt', '20220128675.txt', '20220131676.txt', '20220201677.txt', '20220203679.txt', '20220204680.txt', '20220207681.txt', '20220208682.txt', '20220209683.txt', '20220210684.txt', '202202113.txt', '20220214685.txt', '20220215686.txt', '20220216687.txt', '202202172.txt', '20220218.txt', '20220221688.txt', '20220222689.txt', '20220223690.txt', '20220224691.txt', '202202253.txt', '20220228692.txt', '20220301693.txt', '20220302694.txt', '20220303695.txt', '20220304696.txt', '20220307697.txt', '20220308698.txt', '20220309699.txt', '20220310700.txt', '202203112.txt', '20220315702.txt', '20220316703.txt', '20220317704.txt', '202203185.txt', '20220321.txt', '20220322705.txt', '20220323706.txt', '20220324707.txt', '202203253.txt', '20220328708.txt', '20220329709.txt', '20220330710.txt', '20220331711.txt', '20220401712.txt', '20220404713.txt', '20220405714.txt', '20220406715.txt', '20220407716.txt', '20220408717.txt', '20220411718.txt', '20220413719.txt', '20220418720.txt', '20220419721.txt', '20220420722.txt', '20220421723.txt', '202204226.txt', '20220425724.txt', '20220426725.txt', '20220427726.txt', '20220428727.txt', '202204293.txt', '20220502728.txt', '20220503729.txt', '20220504730.txt', '202205053.txt', '20220509731.txt', '20220510732.txt', '20220511733.txt', '20220512734.txt', '202205132.txt', '20220516735.txt', '20220517736.txt', '20220518737.txt', '20220519738.txt', '202205204.txt', '20220523739.txt', '20220524740.txt', '20220525741.txt', '20220526742.txt', '202205272.txt', '20220530743.txt', '20220531744.txt', '20220601745.txt', '20220602746.txt', '20220603747.txt', '20220606748.txt', '20220607749.txt', '20220608750.txt', '20220609751.txt', '202206105.txt', '20220613752.txt', '20220614753.txt', '20220615754.txt', '20220616755.txt', '20220617756.txt', '20220620757.txt', '20220621758.txt', '20220622759.txt', '20220623760.txt', '20220624761.txt', '20220627762.txt', '20220628763.txt', '20220629764.txt', '20220630765.txt', '20220704766.txt', '20220705767.txt', '20220706768.txt', '20220707769.txt', '20220708770.txt', '20220711771.txt', '20220714772.txt', '20220715773.txt', '20220718774.txt', '20220719775.txt', '20220720776.txt', '20220721777.txt', '20220722.txt', '20220725778.txt', '20220726779.txt', '20220727780.txt', '20220728781.txt', '20220729782.txt', '20220801783.txt', '20220802784.txt', '20220803785.txt', '20220804786.txt', '20220805787.txt', '20220808788.txt', '20220809789.txt', '20220810790.txt', '20220811791.txt', '20220812792.txt', '20220815793.txt', '20220816794.txt', '20220817795.txt', '20220818796.txt', '20220819797.txt', '20220822798.txt', '20220823799.txt', '20220824800.txt', '20220825801.txt', '20220826802.txt', '20220829803.txt', '20220830804.txt', '20220831805.txt', '20220902806.txt', '20220905807.txt', '20220906808.txt', '20220907809.txt', '20220908810.txt', '202209092.txt', '20220912811.txt', '20220913812.txt', '20220914813.txt', '20220915814.txt', '20220919815.txt', '20220920816.txt', '20220921817.txt', '20220922818.txt', '20220923819.txt', '20220926820.txt', '20220927821.txt', '20220928822.txt', '20220929823.txt', '20220930824.txt', '20221003825.txt', '20221004826.txt', '20221005827.txt', '20221006828.txt', '20221007829.txt', '20221010830.txt', '20221011831.txt', '20221012832.txt', '20221013833.txt', '20221014834.txt', '20221017835.txt', '20221018836.txt', '20221019837.txt', '20221020838.txt', '20221021839.txt', '20221024840.txt', '20221025841.txt', '20221026842.txt', '20221027843.txt', '202210283.txt', '20221031844.txt', '20221101845.txt', '20221103846.txt', '20221104847.txt', '20221107848.txt', '20221108849.txt', '20221109850.txt', '20221110851.txt', '202211112.txt', '20221114852.txt', '20221115853.txt', '20221116854.txt', '20221117855.txt', '20221118856.txt', '20221121857.txt', '20221122858.txt', '202211234.txt', '20221124859.txt', '20221125860.txt', '20221128861.txt', '20221129862.txt', '20221130863.txt', '20221201864.txt', '20221202865.txt', '202212053.txt', '20221206866.txt', '20221207867.txt', '20221208868.txt', '20221209869.txt', '20221213870.txt', '20221214871.txt', '20221215872.txt', '20221216873.txt', '20221219874.txt', '20221220875.txt', '20221221876.txt', '202212224.txt', '202212233.txt', '20221226877.txt', '20221227878.txt', '20221228879.txt', '20221230881.txt', '20230102882.txt', '20230105885.txt', '20230109887.txt', '20230112888.txt', '20230113889.txt', '20230116890.txt', '20230117891.txt', '20230118892.txt', '20230120894.txt', '20230123895.txt', '20230124896.txt', '20230125897.txt', '20230126898.txt', '20230127899.txt', '20230130900.txt', '20230131901.txt', '20230201902.txt', '20230202903.txt', '20230203904.txt', '20230206905.txt', '20230207906.txt', '20230208907.txt', '20230209908.txt', '202302105.txt', '20230213909.txt', '20230214910.txt', '20230215911.txt', '20230216912.txt', '202302175.txt', '20230220913.txt', '20230221914.txt', '20230222915.txt', '20230223916.txt', '20230224917.txt', '20230227918.txt', '20230228919.txt', '20230301920.txt', '20230302921.txt', '20230303922.txt', '20230306923.txt', '20230307924.txt', '20230308925.txt', '20230309926.txt', '20230310927.txt', '20230313928.txt', '20230314929.txt', '20230315930.txt', '20230316931.txt', '202303174.txt', '202303203.txt', '202303216.txt', '20230322932.txt', '20230323933.txt', '20230324934.txt', '20230327935.txt', '20230328936.txt', '20230331937.txt', '2023040321.txt', '20230404938.txt', '20230405939.txt', '20230410940.txt', '20230411941.txt', '20230412942.txt', '20230413943.txt', '20230414944.txt', '20230417945.txt', '20230418946.txt', '20230419947.txt', '20230420948.txt', '20230421949.txt', '20230428950.txt', '20230501951.txt', '20230502952.txt', '20230503953.txt', '20230504954.txt', '202305054.txt', '20230508955.txt', '20230509956.txt', '20230510957.txt', '20230511958.txt', '20230512959.txt', '20230515960.txt', '20230516961.txt', '20230517962.txt', '20230518963.txt', '20230519964.txt', '20230522965.txt', '20230523966.txt', '20230524967.txt', '20230525968.txt', '20230526969.txt', '20230529970.txt', '20230530971.txt', '20230531972.txt', '20230601973.txt', '20230602974.txt', '20230605975.txt', '20230606976.txt', '20230607977.txt', '20230608978.txt', '20230609979.txt', '20230612980.txt', '20230613981.txt', '20230614982.txt', '20230615983.txt', '20230616984.txt', '20230619985.txt', '20230620986.txt', '20230621987.txt', '202306234.txt', '20230626989.txt', '20230627990.txt', '20230628991.txt', '20230629992.txt', '20230630993.txt', '20230703994.txt', '20230704995.txt', '20230705996.txt', '20230706997.txt', '20230707998.txt', '20230710999.txt', '202307111000.txt', '202307131002.txt', '202307141003.txt', '202307171004.txt', '202307181005.txt', '202307191006.txt', '202307201007.txt', '202307211008.txt', '202307251010.txt', '202307261011.txt', '202307271012.txt', '202307283.txt', '202307311013.txt', '202308011014.txt', '202308021015.txt', '202308031016.txt', '202308041017.txt', '202308071018.txt', '202308081019.txt', '202308091020.txt', '202308101021.txt', '202308111022.txt', '202308141023.txt', '202308151024.txt', '202308161025.txt', '202308171026.txt', '202308181027.txt', '202308211028.txt', '202308221029.txt', '202308231030.txt', '202308241031.txt', '20230825.txt', '202308281032.txt', '202308291033.txt', '202308301034.txt', '202308311035.txt', '202309041036.txt', '202309051037.txt', '202309061038.txt', '202309071039.txt', '202309081040.txt', '202309131041.txt', '202309141042.txt', '202309181043.txt', '202309211046.txt', '202309261049.txt', '202309271050.txt', '202309281051.txt', '202309291052.txt', '202310021053.txt', '202310031054.txt', '202310041055.txt', '202310051056.txt', '202310061057.txt', '202310091058.txt', '202310101059.txt', '202310111060.txt', '202310131061.txt', '202310171063.txt', '202310181065.txt', '202310191064.txt', '202310201066.txt', '202310231067.txt', '202310241068.txt', '202310261070.txt', '202310271071.txt', '202310301072.txt', '202310311073.txt', '202311011074.txt', '202311031075.txt', '202311061076.txt', '202311081078.txt', '202311091079.txt', '202311102.txt', '202311136.txt', '202311143.txt', '202311151080.txt', '202311211081.txt', '202311221082.txt', '20231123.txt', '202311247.txt', '202311271083.txt', '202311281084.txt', '202311291085.txt', '202311301086.txt', '202312011087.txt', '202312041088.txt', '202312051089.txt', '202312061090.txt', '202312071091.txt', '202312081092.txt', '202312111093.txt', '202312131094.txt', '202312141095.txt', '20231215.txt', '202312181096.txt', '202312191097.txt', '202312202.txt', '202312211098.txt', '202312228.txt', '202312261099.txt', '202312291102.txt', '202401025.txt', '202401033.txt', '202401041103.txt', '202401051104.txt', '202401081105.txt', '202401091106.txt', '202401101107.txt', '202401111108.txt', '202401121109.txt', '202401151110.txt', '202401171112.txt', '202401181113.txt', '2024011922.txt', '202401222.txt', '202401241115.txt', '202401251116.txt', '202401261117.txt', '202401291118.txt', '202401311120.txt', '202402011121.txt', '202402021122.txt']\n"
     ]
    },
    {
     "name": "stderr",
     "output_type": "stream",
     "text": [
      "  0%|          | 0/1235 [00:00<?, ?it/s]"
     ]
    },
    {
     "name": "stderr",
     "output_type": "stream",
     "text": [
      "100%|██████████| 1235/1235 [00:36<00:00, 34.07it/s]\n"
     ]
    }
   ],
   "source": [
    "text_parser = TextParser(PATH)\n",
    "\n",
    "# List of all the text files\n",
    "all_files = os.listdir(PATH)\n",
    "\n",
    "print(all_files)\n",
    "\n",
    "# Get the president's dialogues from a text file\n",
    "new_path = \"C:/Users/fdmol/Desktop/AMLO-NLP/src/data/word_scores/\"\n",
    "\n",
    "for file in tqdm(all_files):\n",
    "    if file.endswith(\".txt\"):\n",
    "        text = text_parser.get_presidents_dialogues(file, remove_stopwords=True)\n",
    "        new_file_path = os.path.join(new_path, file)\n",
    "        new_file_path = new_file_path.replace(\".txt\", \"_important_words.csv\")\n",
    "        get_most_important_words(text, new_file_path, save=True)"
   ]
  },
  {
   "cell_type": "markdown",
   "metadata": {},
   "source": [
    "### TDF-IDF for word scoring"
   ]
  },
  {
   "cell_type": "code",
   "execution_count": 15,
   "metadata": {},
   "outputs": [],
   "source": [
    "df.to_csv(\"C:/Users/fdmol/Desktop/AMLO-NLP/src/data/word_scores.csv\", index=False)"
   ]
  },
  {
   "cell_type": "markdown",
   "metadata": {},
   "source": [
    "### Possible models to use:\n",
    "\n",
    "Summarization:\n",
    "\n",
    "https://huggingface.co/mrm8488/bert2bert_shared-spanish-finetuned-summarization\n",
    "\n",
    "\n",
    "Sentiment Analysis:\n",
    "\n",
    "https://huggingface.co/finiteautomata/beto-sentiment-analysis\n",
    "\n",
    "\n",
    "Emotion Analysis:\n",
    "\n",
    "https://huggingface.co/finiteautomata/beto-emotion-analysis\n"
   ]
  },
  {
   "cell_type": "code",
   "execution_count": 16,
   "metadata": {},
   "outputs": [],
   "source": [
    "# pip install transformers"
   ]
  },
  {
   "cell_type": "code",
   "execution_count": 30,
   "metadata": {},
   "outputs": [
    {
     "data": {
      "text/plain": [
       "'jurados ciudadanos. bueno, pero tenemos que seguir avanzando en todo esto. y sí es importante iniciando el año recordar eso, que se necesita una reforma constitucional y que, para llevar a cabo una reforma constitucional se necesita contar con el apoyo de mayoría calificada; es decir, no sólo es la mayoría simple en las cámaras, 50 más uno, 50 por ciento más uno, sino se requieren dos terceras partes, a eso se le llama mayoría calificada. si no se tiene esa mayoría calificada, no se puede llevar a cabo ninguna reforma constitucional; tomar eso en cuenta, informarlo, porque ni modo que, a los manipuladores, a los que les conviene que siga este régimen de injusticias vayan a informarlo. ¿cuánto tiempo ha pasado, y quién sabía que para reformar la constitución se necesitaba de mayoría calificada? ¿quién sabía qué cosa es una mayoría calificada? ¿quién sabía cuántos votos de los 500 de la cámara de diputados son mayoría calificada? no son 251, sino son 374. jesús ramírez cuevas: trescientos treinta y cuatro.'"
      ]
     },
     "execution_count": 30,
     "metadata": {},
     "output_type": "execute_result"
    }
   ],
   "source": [
    "presidents_dialogues[9]"
   ]
  },
  {
   "cell_type": "code",
   "execution_count": 24,
   "metadata": {},
   "outputs": [
    {
     "name": "stderr",
     "output_type": "stream",
     "text": [
      "The following encoder weights were not tied to the decoder ['bert/pooler']\n",
      "The following encoder weights were not tied to the decoder ['bert/pooler']\n",
      "The following encoder weights were not tied to the decoder ['bert/pooler']\n",
      "The following encoder weights were not tied to the decoder ['bert/pooler']\n"
     ]
    },
    {
     "data": {
      "text/plain": [
       "'¿ Cómo gestionar la libertad de cualquier persona, aun tratándose de delincuentes peligrosos, que hacen lo que les da la gana, se enriquecen?'"
      ]
     },
     "execution_count": 24,
     "metadata": {},
     "output_type": "execute_result"
    }
   ],
   "source": [
    "import torch\n",
    "from transformers import BertTokenizerFast, EncoderDecoderModel\n",
    "\n",
    "device = \"cuda\" if torch.cuda.is_available() else \"cpu\"\n",
    "ckpt = \"mrm8488/bert2bert_shared-spanish-finetuned-summarization\"\n",
    "tokenizer = BertTokenizerFast.from_pretrained(ckpt)\n",
    "model = EncoderDecoderModel.from_pretrained(ckpt).to(device)\n",
    "\n",
    "\n",
    "def generate_summary(text):\n",
    "    inputs = tokenizer(\n",
    "        [text],\n",
    "        padding=\"max_length\",\n",
    "        truncation=True,\n",
    "        max_length=512,\n",
    "        return_tensors=\"pt\",\n",
    "    )\n",
    "    input_ids = inputs.input_ids.to(device)\n",
    "    attention_mask = inputs.attention_mask.to(device)\n",
    "    output = model.generate(input_ids, attention_mask=attention_mask)\n",
    "    return tokenizer.decode(output[0], skip_special_tokens=True)\n",
    "\n",
    "\n",
    "text = presidents_dialogues[8]\n",
    "generate_summary(text)"
   ]
  },
  {
   "cell_type": "code",
   "execution_count": 28,
   "metadata": {},
   "outputs": [
    {
     "name": "stdout",
     "output_type": "stream",
     "text": [
      "SequenceClassifierOutput(loss=None, logits=tensor([[ 4.6140, -0.8551, -0.1549,  0.8921, -1.5799, -2.1146, -1.5987]],\n",
      "       grad_fn=<AddmmBackward0>), hidden_states=None, attentions=None)\n"
     ]
    }
   ],
   "source": [
    "from transformers import AutoTokenizer, AutoModelForSequenceClassification\n",
    "\n",
    "tokenizer = AutoTokenizer.from_pretrained(\"finiteautomata/beto-emotion-analysis\")\n",
    "model = AutoModelForSequenceClassification.from_pretrained(\n",
    "    \"finiteautomata/beto-emotion-analysis\"\n",
    ")"
   ]
  }
 ],
 "metadata": {
  "kernelspec": {
   "display_name": "Python 3",
   "language": "python",
   "name": "python3"
  },
  "language_info": {
   "codemirror_mode": {
    "name": "ipython",
    "version": 3
   },
   "file_extension": ".py",
   "mimetype": "text/x-python",
   "name": "python",
   "nbconvert_exporter": "python",
   "pygments_lexer": "ipython3",
   "version": "3.11.3"
  }
 },
 "nbformat": 4,
 "nbformat_minor": 2
}
