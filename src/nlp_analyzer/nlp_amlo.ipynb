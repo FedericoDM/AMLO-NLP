{
 "cells": [
  {
   "cell_type": "markdown",
   "metadata": {},
   "source": [
    "# AMLO Exploratory Data Analysis"
   ]
  },
  {
   "cell_type": "code",
   "execution_count": 1,
   "metadata": {},
   "outputs": [],
   "source": [
    "import re\n",
    "import os\n",
    "import pandas as pd\n",
    "from tqdm import tqdm\n",
    "\n",
    "from sklearn.feature_extraction.text import TfidfVectorizer\n",
    "\n",
    "from amlo_parser import AMLOParser"
   ]
  },
  {
   "cell_type": "markdown",
   "metadata": {},
   "source": [
    "#### CONSTANTS"
   ]
  },
  {
   "cell_type": "code",
   "execution_count": 2,
   "metadata": {},
   "outputs": [],
   "source": [
    "PATH = \"C:/Users/fdmol/Desktop/AMLO-NLP/src/data/text_files/\"\n",
    "LABELED_PATH = \"C:/Users/fdmol/Desktop/AMLO-NLP/src/data/amlo_labeling.xlsx\""
   ]
  },
  {
   "cell_type": "markdown",
   "metadata": {},
   "source": [
    "#### Defining some classes and functions to help us with the analysis"
   ]
  },
  {
   "cell_type": "code",
   "execution_count": 27,
   "metadata": {},
   "outputs": [],
   "source": [
    "# Use TF-IDF to find the most important words in the text\n",
    "def get_most_important_words(text, filename, save=False):\n",
    "    # Create a TfidfVectorizer\n",
    "    tfidf_vectorizer = TfidfVectorizer()\n",
    "\n",
    "    # Apply the vectorizer\n",
    "    tfidf_matrix = tfidf_vectorizer.fit_transform(text)\n",
    "\n",
    "    # Print the result\n",
    "    scores = tfidf_matrix.toarray()[0]\n",
    "    words = tfidf_vectorizer.get_feature_names_out()\n",
    "\n",
    "    # Create a DataFrame with the result\n",
    "    df = pd.DataFrame({\"Word\": words, \"Score\": scores})\n",
    "    df.sort_values(\"Score\", ascending=False, inplace=True)\n",
    "\n",
    "    if save:\n",
    "        df.to_csv(filename, index=False)\n",
    "\n",
    "    return df"
   ]
  },
  {
   "cell_type": "markdown",
   "metadata": {},
   "source": [
    "### Pipeline"
   ]
  },
  {
   "cell_type": "markdown",
   "metadata": {},
   "source": [
    " Word Scoring"
   ]
  },
  {
   "cell_type": "code",
   "execution_count": 28,
   "metadata": {},
   "outputs": [
    {
     "name": "stdout",
     "output_type": "stream",
     "text": [
      "['20181207.txt', '20181210.txt', '20181211.txt', '20181212.txt', '20181217.txt', '20181218.txt', '20181219.txt', '20181224.txt', '20181226.txt', '20181227.txt', '20181228.txt', '20190102.txt', '20190103.txt', '20190104.txt', '20190107.txt', '20190108.txt', '20190109.txt', '20190110.txt', '20190111.txt', '20190114.txt', '20190115.txt', '20190116.txt', '20190117.txt', '20190118.txt', '20190119.txt', '20190120.txt', '20190121.txt', '20190122.txt', '20190123.txt', '20190124.txt', '20190125.txt', '20190128.txt', '20190129.txt', '20190130.txt', '20190131.txt', '20190201.txt', '20190204.txt', '20190205.txt', '20190206.txt', '20190207.txt', '20190208.txt', '20190211.txt', '20190212.txt', '20190213.txt', '20190214.txt', '20190215.txt', '20190218.txt', '20190219.txt', '20190220.txt', '20190221.txt', '20190222.txt', '20190225.txt', '20190226.txt', '20190227.txt', '20190228.txt', '20190301.txt', '20190304.txt', '20190305.txt', '20190307.txt', '20190311.txt', '20190312.txt', '20190313.txt', '20190314.txt', '20190315.txt', '20190318.txt', '20190319.txt', '20190320.txt', '20190321.txt', '20190322.txt', '20190325.txt', '20190326.txt', '20190327.txt', '20190328.txt', '20190329.txt', '20190401.txt', '20190402.txt', '20190403.txt', '20190404.txt', '20190405.txt', '20190408.txt', '20190409.txt', '20190410.txt', '20190412.txt', '20190415.txt', '20190416.txt', '20190417.txt', '20190422.txt', '20190423.txt', '20190424.txt', '20190425.txt', '20190426.txt', '20190429.txt', '20190430.txt', '20190501.txt', '20190502.txt', '20190503.txt', '20190506.txt', '20190507.txt', '20190509.txt', '20190510.txt', '20190513.txt', '20190514.txt', '20190515.txt', '20190516.txt', '20190517.txt', '20190520.txt', '20190521.txt', '20190522.txt', '20190523.txt', '20190524.txt', '20190527.txt', '20190528.txt', '20190529.txt', '20190530.txt', '20190531.txt', '20190601.txt', '20190603.txt', '20190604.txt', '20190605.txt', '20190606.txt', '20190607.txt', '20190610.txt', '20190611.txt', '20190612.txt', '20190613.txt', '20190614.txt', '20190617.txt', '20190618.txt', '20190620.txt', '20190621.txt', '20190624.txt', '20190625.txt', '20190626.txt', '20190627.txt', '20190628.txt', '20190702.txt', '20190703.txt', '20190704.txt', '20190705.txt', '20190708.txt', '20190709.txt', '20190710.txt', '20190711.txt', '20190712.txt', '20190715.txt', '20190716.txt', '20190717.txt', '20190718.txt', '20190719.txt', '20190722.txt', '20190723.txt', '20190724.txt', '20190725.txt', '20190726.txt', '20190729.txt', '20190730.txt', '20190731.txt', '20190801.txt', '20190802.txt', '20190805.txt', '20190807.txt', '20190808.txt', '20190809.txt', '20190812.txt', '20190813.txt', '20190814.txt', '20190815.txt', '20190816.txt', '20190819.txt', '20190820.txt', '20190821.txt', '20190822.txt', '20190823.txt', '20190826.txt', '20190827.txt', '20190828.txt', '20190829.txt', '20190830.txt', '20190902.txt', '20190903.txt', '20190904.txt', '20190905.txt', '20190906.txt', '20190909.txt', '20190910.txt', '20190911.txt', '20190912.txt', '20190913.txt', '20190918.txt', '20190920.txt', '20190923.txt', '20190924.txt', '20190925.txt', '20190926.txt', '20190927.txt', '20190930.txt', '20191001.txt', '20191002.txt', '20191003.txt', '20191004.txt', '20191007.txt', '20191008.txt', '20191009.txt', '20191010.txt', '20191011.txt', '20191014.txt', '20191015.txt', '20191016.txt', '20191017.txt', '20191018.txt', '20191021.txt', '20191022.txt', '20191023.txt', '20191024.txt', '20191025.txt', '20191028.txt', '20191029.txt', '20191030.txt', '20191031.txt', '20191101.txt', '20191104.txt', '20191105.txt', '20191106.txt', '20191107.txt', '20191108.txt', '20191111.txt', '20191112.txt', '20191113.txt', '20191114.txt', '20191115.txt', '20191118.txt', '20191119.txt', '20191121.txt', '20191122.txt', '20191125.txt', '20191126.txt', '20191127.txt', '20191128.txt', '20191129.txt', '20191202.txt', '20191203.txt', '20191204.txt', '20191205.txt', '20191206.txt', '20191209.txt', '20191210.txt', '20191211.txt', '20191212.txt', '20191213.txt', '20191216.txt', '20191217.txt', '20191218.txt', '20191219.txt', '20191220.txt', '20191223.txt', '20191224.txt', '20191226.txt', '20191227.txt', '20200102.txt', '20200103.txt', '20200106.txt', '20200107.txt', '20200108.txt', '20200109.txt', '20200110.txt', '20200113.txt', '20200114.txt', '20200115.txt', '20200116.txt', '20200117.txt', '20200120.txt', '20200121.txt', '20200122.txt', '20200123.txt', '20200124.txt', '20200127.txt', '20200128.txt', '20200129.txt', '20200130.txt', '20200131.txt', '20200203.txt', '20200204.txt', '20200205.txt', '20200206.txt', '20200207.txt', '20200210.txt', '20200211.txt', '20200212.txt', '20200213.txt', '20200214.txt', '20200217.txt', '20200218.txt', '20200219.txt', '20200220.txt', '20200221.txt', '20200224.txt', '20200225.txt', '20200226.txt', '20200227.txt', '20200228.txt', '20200302.txt', '20200303.txt', '20200304.txt', '20200305.txt', '20200306.txt', '20200309.txt', '20200310.txt', '20200311.txt', '20200312.txt', '20200313.txt', '20200316.txt', '20200317.txt', '20200318.txt', '20200319.txt', '20200320.txt', '20200323.txt', '20200324.txt', '20200325.txt', '20200326.txt', '20200327.txt', '20200330.txt', '20200331.txt', '20200401.txt', '20200402.txt', '20200403.txt', '20200404.txt', '20200406.txt', '20200407.txt', '20200408.txt', '20200409.txt', '20200410.txt', '20200413.txt', '20200414.txt', '20200415.txt', '20200416.txt', '20200417.txt', '20200420.txt', '20200421.txt', '20200422.txt', '20200423.txt', '20200424.txt', '20200427.txt', '20200428.txt', '20200429.txt', '20200430.txt', '20200501.txt', '20200504.txt', '20200505.txt', '20200506.txt', '20200507.txt', '20200508.txt', '20200511.txt', '20200512.txt', '20200513.txt', '20200514.txt', '20200515.txt', '20200518.txt', '20200519.txt', '20200520.txt', '20200521.txt', '20200522.txt', '20200525.txt', '20200526.txt', '20200527.txt', '20200528.txt', '20200529.txt', '20200601.txt', '20200602.txt', '20200603.txt', '20200604.txt', '20200605.txt', '20200608.txt', '20200609.txt', '20200610.txt', '20200611.txt', '20200612.txt', '20200615.txt', '20200616.txt', '20200617.txt', '20200618.txt', '20200619.txt', '20200622.txt', '20200623.txt', '20200624.txt', '20200625.txt', '20200626.txt', '20200629.txt', '20200630.txt', '20200701.txt', '20200702.txt', '20200703.txt', '20200706.txt', '20200707.txt', '20200710.txt', '20200713.txt', '20200714.txt', '20200715.txt', '20200716.txt', '20200717.txt', '20200720.txt', '20200721.txt', '20200722.txt', '20200723.txt', '20200724.txt', '20200728.txt', '20200729.txt', '20200730.txt', '20200731.txt', '20200803.txt', '20200804.txt', '20200805.txt', '20200806.txt', '20200807.txt', '20200810.txt', '20200811.txt', '20200812.txt', '20200813.txt', '20200814.txt', '20200817.txt', '20200818.txt', '20200819.txt', '20200820.txt', '20200821.txt', '20200824.txt', '20200825.txt', '20200826.txt', '20200827.txt', '20200828.txt', '20200831.txt', '20200902.txt', '20200903.txt', '20200904.txt', '20200907.txt', '20200908.txt', '20200909.txt', '20200910.txt', '20200911.txt', '20200914.txt', '20200915.txt', '20200917.txt', '20200918.txt', '20200921.txt', '20200922.txt', '20200923.txt', '20200924.txt', '20200925.txt', '20200928.txt', '20200929.txt', '20200930.txt', '20201001.txt', '20201002.txt', '20201005.txt', '20201006.txt', '20201007.txt', '20201008.txt', '20201009.txt', '20201012.txt', '20201013.txt', '20201014.txt', '20201015.txt', '20201016.txt', '20201019.txt', '20201020.txt', '20201021.txt', '20201022.txt', '20201023.txt', '20201026.txt', '20201027.txt', '20201028.txt', '20201029.txt', '20201030.txt', '20201103.txt', '20201104.txt', '20201105.txt', '20201106.txt', '20201107.txt', '20201109.txt', '20201110.txt', '20201111.txt', '20201112.txt', '20201113.txt', '20201114.txt', '20201116.txt', '20201117.txt', '20201118.txt', '20201119.txt', '20201120.txt', '20201123.txt', '20201124.txt', '20201125.txt', '20201126.txt', '20201127.txt', '20201130.txt', '20201202.txt', '20201203.txt', '20201204.txt', '20201207.txt', '20201208.txt', '20201209.txt', '20201210.txt', '20201211.txt', '20201214.txt', '20201215.txt', '20201216.txt', '20201217.txt', '20201218.txt', '20201221.txt', '20201222.txt', '20201223.txt', '20201224.txt', '20201228.txt', '20201229.txt', '20201230.txt', '20201231.txt', '20210104.txt', '20210105.txt', '20210106.txt', '20210107.txt', '20210108.txt', '20210111.txt', '20210112.txt', '20210113.txt', '20210114.txt', '20210115.txt', '20210118.txt', '20210119.txt', '20210120.txt', '20210121.txt', '20210122.txt', '20210208.txt', '20210209.txt', '20210210.txt', '20210211.txt', '20210212.txt', '20210214.txt', '20210215.txt', '20210216.txt', '20210217.txt', '20210218.txt', '20210219.txt', '20210222.txt', '20210223.txt', '20210224.txt', '20210225.txt', '20210226.txt', '20210301.txt', '20210302.txt', '20210303.txt', '20210304.txt', '20210305.txt', '20210308.txt', '20210309.txt', '20210310.txt', '20210311.txt', '20210312.txt', '20210315.txt', '20210316.txt', '20210317.txt', '20210318.txt', '20210319.txt', '20210322.txt', '20210323.txt', '20210324.txt', '20210325.txt', '20210326.txt', '20210329.txt', '20210330.txt', '20210331.txt', '20210405.txt', '20210406.txt', '20210407.txt', '20210408.txt', '20210409.txt', '20210412.txt', '20210413.txt', '20210414.txt', '20210415.txt', '20210416.txt', '20210419.txt', '20210420.txt', '20210421.txt', '20210422.txt', '20210426.txt', '20210427.txt', '20210428.txt', '20210429.txt', '20210430.txt', '20210503.txt', '20210504.txt', '20210505.txt', '20210506.txt', '20210507.txt', '20210510.txt', '20210511.txt', '20210512.txt', '20210513.txt', '20210514.txt', '20210517.txt', '20210518.txt', '20210519.txt', '20210520.txt', '20210521.txt', '20210524.txt', '20210525.txt', '20210526.txt', '20210527.txt', '20210528.txt', '20210531.txt', '20210601.txt', '20210602.txt', '20210603.txt', '20210604.txt', '20210607.txt', '20210608.txt', '20210609.txt', '20210610.txt', '20210611.txt', '20210614.txt', '20210615.txt', '20210616.txt', '20210617.txt', '20210618.txt', '20210621.txt', '20210622.txt', '20210623.txt', '20210624.txt', '20210625.txt', '20210629.txt', '20210630.txt', '20210702.txt', '20210705.txt', '20210706.txt', '20210707.txt', '20210708.txt', '20210709.txt', '20210712.txt', '20210713.txt', '20210714.txt', '20210715.txt', '20210716.txt', '20210719.txt', '20210720.txt', '20210721.txt', '20210722.txt', '20210723.txt', '20210726.txt', '20210727.txt', '20210728.txt', '20210729.txt', '20210730.txt', '20210802.txt', '20210803.txt', '20210804.txt', '20210805.txt', '20210806.txt', '20210809.txt', '20210810.txt', '20210811.txt', '20210812.txt', '20210813.txt', '20210816.txt', '20210817.txt', '20210818.txt', '20210819.txt', '20210820.txt', '20210823.txt', '20210824.txt', '20210825.txt', '20210826.txt', '20210827.txt', '20210830.txt', '20210831.txt', '20210902.txt', '20210903.txt', '20210906.txt', '20210907.txt', '20210908.txt', '20210909.txt', '20210910.txt', '20210913.txt', '20210914.txt', '20210917.txt', '20210920.txt', '20210921.txt', '20210923.txt', '20210924.txt', '20210927.txt', '20210929.txt', '20210930.txt', '20211001.txt', '20211004.txt', '20211005.txt', '20211006.txt', '20211007.txt', '20211008.txt', '20211011.txt', '20211012.txt', '20211013.txt', '20211014.txt', '20211015.txt', '20211018.txt', '20211019.txt', '20211020.txt', '20211021.txt', '20211022.txt', '20211025.txt', '20211026.txt', '20211027.txt', '20211028.txt', '20211029.txt', '20211103.txt', '20211104.txt', '20211105.txt', '20211108.txt', '20211110.txt', '20211111.txt', '20211112.txt', '20211115.txt', '20211116.txt', '20211117.txt', '20211122.txt', '20211123.txt', '20211125.txt', '20211126.txt', '20211129.txt', '20211130.txt', '20211202.txt', '20211203.txt', '20211204.txt', '20211206.txt', '20211207.txt', '20211208.txt', '20211209.txt', '20211210.txt', '20211211.txt', '20211213.txt', '20211214.txt', '20211215.txt', '20211216.txt', '20211217.txt', '20211220.txt', '20211221.txt', '20211222.txt', '20211223.txt', '20211227.txt', '20211228.txt', '20211229.txt', '20211230.txt', '20220103.txt', '20220104.txt', '20220105.txt', '20220106.txt', '20220107.txt', '20220110.txt', '20220117.txt', '20220118.txt', '20220119.txt', '20220120.txt', '20220121.txt', '20220124.txt', '20220125.txt', '20220126.txt', '20220127.txt', '20220128.txt', '20220131.txt', '20220201.txt', '20220203.txt', '20220204.txt', '20220207.txt', '20220208.txt', '20220209.txt', '20220210.txt', '20220211.txt', '20220214.txt', '20220215.txt', '20220216.txt', '20220217.txt', '20220218.txt', '20220221.txt', '20220222.txt', '20220223.txt', '20220224.txt', '20220225.txt', '20220228.txt', '20220301.txt', '20220302.txt', '20220303.txt', '20220304.txt', '20220307.txt', '20220308.txt', '20220309.txt', '20220310.txt', '20220311.txt', '20220315.txt', '20220316.txt', '20220317.txt', '20220318.txt', '20220321.txt', '20220322.txt', '20220323.txt', '20220324.txt', '20220325.txt', '20220328.txt', '20220329.txt', '20220330.txt', '20220331.txt', '20220401.txt', '20220404.txt', '20220405.txt', '20220406.txt', '20220407.txt', '20220408.txt', '20220411.txt', '20220413.txt', '20220418.txt', '20220419.txt', '20220420.txt', '20220421.txt', '20220422.txt', '20220425.txt', '20220426.txt', '20220427.txt', '20220428.txt', '20220429.txt', '20220502.txt', '20220503.txt', '20220504.txt', '20220505.txt', '20220509.txt', '20220510.txt', '20220511.txt', '20220512.txt', '20220513.txt', '20220516.txt', '20220517.txt', '20220518.txt', '20220519.txt', '20220520.txt', '20220523.txt', '20220524.txt', '20220525.txt', '20220526.txt', '20220527.txt', '20220530.txt', '20220531.txt', '20220601.txt', '20220602.txt', '20220603.txt', '20220606.txt', '20220607.txt', '20220608.txt', '20220609.txt', '20220610.txt', '20220613.txt', '20220614.txt', '20220615.txt', '20220616.txt', '20220617.txt', '20220620.txt', '20220621.txt', '20220622.txt', '20220623.txt', '20220624.txt', '20220627.txt', '20220628.txt', '20220629.txt', '20220630.txt', '20220704.txt', '20220705.txt', '20220706.txt', '20220707.txt', '20220708.txt', '20220711.txt', '20220714.txt', '20220715.txt', '20220718.txt', '20220719.txt', '20220720.txt', '20220721.txt', '20220722.txt', '20220725.txt', '20220726.txt', '20220727.txt', '20220728.txt', '20220729.txt', '20220801.txt', '20220802.txt', '20220803.txt', '20220804.txt', '20220805.txt', '20220808.txt', '20220809.txt', '20220810.txt', '20220811.txt', '20220812.txt', '20220815.txt', '20220816.txt', '20220817.txt', '20220818.txt', '20220819.txt', '20220822.txt', '20220823.txt', '20220824.txt', '20220825.txt', '20220826.txt', '20220829.txt', '20220830.txt', '20220831.txt', '20220902.txt', '20220905.txt', '20220906.txt', '20220907.txt', '20220908.txt', '20220909.txt', '20220912.txt', '20220913.txt', '20220914.txt', '20220915.txt', '20220919.txt', '20220920.txt', '20220921.txt', '20220922.txt', '20220923.txt', '20220926.txt', '20220927.txt', '20220928.txt', '20220929.txt', '20220930.txt', '20221003.txt', '20221004.txt', '20221005.txt', '20221006.txt', '20221007.txt', '20221010.txt', '20221011.txt', '20221012.txt', '20221013.txt', '20221014.txt', '20221017.txt', '20221018.txt', '20221019.txt', '20221020.txt', '20221021.txt', '20221024.txt', '20221025.txt', '20221026.txt', '20221027.txt', '20221028.txt', '20221031.txt', '20221101.txt', '20221103.txt', '20221104.txt', '20221107.txt', '20221108.txt', '20221109.txt', '20221110.txt', '20221111.txt', '20221114.txt', '20221115.txt', '20221116.txt', '20221117.txt', '20221118.txt', '20221121.txt', '20221122.txt', '20221123.txt', '20221124.txt', '20221125.txt', '20221128.txt', '20221129.txt', '20221130.txt', '20221201.txt', '20221202.txt', '20221205.txt', '20221206.txt', '20221207.txt', '20221208.txt', '20221209.txt', '20221213.txt', '20221214.txt', '20221215.txt', '20221216.txt', '20221219.txt', '20221220.txt', '20221221.txt', '20221222.txt', '20221223.txt', '20221226.txt', '20221227.txt', '20221228.txt', '20221230.txt', '20230102.txt', '20230105.txt', '20230109.txt', '20230112.txt', '20230113.txt', '20230116.txt', '20230117.txt', '20230118.txt', '20230120.txt', '20230123.txt', '20230124.txt', '20230125.txt', '20230126.txt', '20230127.txt', '20230130.txt', '20230131.txt', '20230201.txt', '20230202.txt', '20230203.txt', '20230206.txt', '20230207.txt', '20230208.txt', '20230209.txt', '20230210.txt', '20230213.txt', '20230214.txt', '20230215.txt', '20230216.txt', '20230217.txt', '20230220.txt', '20230221.txt', '20230222.txt', '20230223.txt', '20230224.txt', '20230227.txt', '20230228.txt', '20230301.txt', '20230302.txt', '20230303.txt', '20230306.txt', '20230307.txt', '20230308.txt', '20230309.txt', '20230310.txt', '20230313.txt', '20230314.txt', '20230315.txt', '20230316.txt', '20230317.txt', '20230320.txt', '20230321.txt', '20230322.txt', '20230323.txt', '20230324.txt', '20230327.txt', '20230328.txt', '20230331.txt', '20230403.txt', '20230404.txt', '20230405.txt', '20230410.txt', '20230411.txt', '20230412.txt', '20230413.txt', '20230414.txt', '20230417.txt', '20230418.txt', '20230419.txt', '20230420.txt', '20230421.txt', '20230428.txt', '20230501.txt', '20230502.txt', '20230503.txt', '20230504.txt', '20230505.txt', '20230508.txt', '20230509.txt', '20230510.txt', '20230511.txt', '20230512.txt', '20230515.txt', '20230516.txt', '20230517.txt', '20230518.txt', '20230519.txt', '20230522.txt', '20230523.txt', '20230524.txt', '20230525.txt', '20230526.txt', '20230529.txt', '20230530.txt', '20230531.txt', '20230601.txt', '20230602.txt', '20230605.txt', '20230606.txt', '20230607.txt', '20230608.txt', '20230609.txt', '20230612.txt', '20230613.txt', '20230614.txt', '20230615.txt', '20230616.txt', '20230619.txt', '20230620.txt', '20230621.txt', '20230623.txt', '20230626.txt', '20230627.txt', '20230628.txt', '20230629.txt', '20230630.txt', '20230703.txt', '20230704.txt', '20230705.txt', '20230706.txt', '20230707.txt', '20230710.txt', '20230711.txt', '20230713.txt', '20230714.txt', '20230717.txt', '20230718.txt', '20230719.txt', '20230720.txt', '20230721.txt', '20230725.txt', '20230726.txt', '20230727.txt', '20230728.txt', '20230731.txt', '20230801.txt', '20230802.txt', '20230803.txt', '20230804.txt', '20230807.txt', '20230808.txt', '20230809.txt', '20230810.txt', '20230811.txt', '20230814.txt', '20230815.txt', '20230816.txt', '20230817.txt', '20230818.txt', '20230821.txt', '20230822.txt', '20230823.txt', '20230824.txt', '20230825.txt', '20230828.txt', '20230829.txt', '20230830.txt', '20230831.txt', '20230904.txt', '20230905.txt', '20230906.txt', '20230907.txt', '20230908.txt', '20230913.txt', '20230914.txt', '20230918.txt', '20230921.txt', '20230926.txt', '20230927.txt', '20230928.txt', '20230929.txt', '20231002.txt', '20231003.txt', '20231004.txt', '20231005.txt', '20231006.txt', '20231009.txt', '20231010.txt', '20231011.txt', '20231013.txt', '20231017.txt', '20231018.txt', '20231019.txt', '20231020.txt', '20231023.txt', '20231024.txt', '20231026.txt', '20231027.txt', '20231030.txt', '20231031.txt', '20231101.txt', '20231103.txt', '20231106.txt', '20231108.txt', '20231109.txt', '20231110.txt', '20231113.txt', '20231114.txt', '20231115.txt', '20231121.txt', '20231122.txt', '20231123.txt', '20231124.txt', '20231127.txt', '20231128.txt', '20231129.txt', '20231130.txt', '20231201.txt', '20231204.txt', '20231205.txt', '20231206.txt', '20231207.txt', '20231208.txt', '20231211.txt', '20231213.txt', '20231214.txt', '20231215.txt', '20231218.txt', '20231219.txt', '20231220.txt', '20231221.txt', '20231222.txt', '20231226.txt', '20231229.txt', '20240102.txt', '20240103.txt', '20240104.txt', '20240105.txt', '20240108.txt', '20240109.txt', '20240110.txt', '20240111.txt', '20240112.txt', '20240115.txt', '20240117.txt', '20240118.txt', '20240119.txt', '20240122.txt', '20240124.txt', '20240125.txt', '20240126.txt', '20240129.txt', '20240131.txt', '20240201.txt', '20240202.txt', '20240206.txt', '20240208.txt', '20240212.txt', '20240213.txt', '20240214.txt', '20240215.txt', '20240216.txt']\n"
     ]
    },
    {
     "name": "stderr",
     "output_type": "stream",
     "text": [
      "  0%|          | 0/1241 [00:00<?, ?it/s]"
     ]
    },
    {
     "name": "stderr",
     "output_type": "stream",
     "text": [
      "100%|██████████| 1241/1241 [00:41<00:00, 29.89it/s]\n"
     ]
    }
   ],
   "source": [
    "text_parser = AMLOParser(PATH)\n",
    "\n",
    "# List of all the text files\n",
    "all_files = os.listdir(PATH)\n",
    "\n",
    "# Get the president's dialogues from a text file\n",
    "new_path = \"C:/Users/fdmol/Desktop/AMLO-NLP/src/data/word_scores/\"\n",
    "\n",
    "for file in tqdm(all_files):\n",
    "    if file.endswith(\".txt\"):\n",
    "        text = text_parser.get_presidents_dialogues(file, remove_stopwords=True)\n",
    "        new_file_path = os.path.join(new_path, file)\n",
    "        new_file_path = new_file_path.replace(\".txt\", \"_word_scores.csv\")\n",
    "        get_most_important_words(text, new_file_path, save=True)"
   ]
  },
  {
   "cell_type": "markdown",
   "metadata": {},
   "source": [
    "### Classification Task"
   ]
  },
  {
   "cell_type": "code",
   "execution_count": 3,
   "metadata": {},
   "outputs": [],
   "source": [
    "# Read the labeled data\n",
    "class TrainingSet:\n",
    "    TRAINING_PATH = \"C:/Users/fdmol/Desktop/AMLO-NLP/src/data/training_data/\"\n",
    "    LABELED_PATH = \"C:/Users/fdmol/Desktop/AMLO-NLP/src/data/amlo_labeling.xlsx\"\n",
    "    TEXT_FILES_PATH = \"C:/Users/fdmol/Desktop/AMLO-NLP/src/data/text_files/\"\n",
    "    DIALOGUES_PATH = \"C:/Users/fdmol/Desktop/AMLO-NLP/src/data/presidents_dialogues/\"\n",
    "\n",
    "    def __init__(self):\n",
    "        self.amlo_parser = AMLOParser(self.TEXT_FILES_PATH)\n",
    "        self.path = LABELED_PATH\n",
    "        self.labeled_data, self.agressive_phrases = self.read_labeled_data()\n",
    "\n",
    "        self.labeled_conference_ids = self.labeled_data[\"conference_id\"].unique()\n",
    "        self.all_files = os.listdir(self.TEXT_FILES_PATH)\n",
    "\n",
    "    def read_labeled_data(self):\n",
    "        \"\"\"\n",
    "        Reads the labeled data and agressive phrases from the excel file\n",
    "        \"\"\"\n",
    "        labeled_data = pd.read_excel(self.path, sheet_name=\"labels\")\n",
    "        agressive_phrases = pd.read_excel(self.path, sheet_name=\"frases_odio\")\n",
    "\n",
    "        labeled_data = labeled_data.dropna()\n",
    "        labeled_data.reset_index(drop=True, inplace=True)\n",
    "\n",
    "        return labeled_data, agressive_phrases\n",
    "\n",
    "    def agressive_phrases_to_txt(self, agressive_phrases, conference_id):\n",
    "        \"\"\"\n",
    "        Parses the utterances from the dataframe and saves them to a txt file\n",
    "        \"\"\"\n",
    "        # Save the agressive phrases to a txt file\n",
    "        agressive_phrases_df = agressive_phrases.loc[\n",
    "            agressive_phrases[\"conference_id\"] == conference_id, :\n",
    "        ]\n",
    "\n",
    "        agressive_phrases_df.reset_index(drop=True, inplace=True)\n",
    "        agressive_phrases_df = agressive_phrases_df.loc[:, [\"phrase\"]]\n",
    "\n",
    "        # Write the text to a file\n",
    "        new_file_path = os.path.join(self.TRAINING_PATH, f\"{conference_id}.txt\")\n",
    "        new_file_path = new_file_path.replace(\".txt\", \"_agressive_phrases.txt\")\n",
    "\n",
    "        with open(new_file_path, \"w\", encoding=\"utf-8\") as f:\n",
    "            for index, row in agressive_phrases_df.iterrows():\n",
    "                phrase = self.amlo_parser.clean_text(row[\"phrase\"])\n",
    "                f.write(phrase + \"\\n\")\n",
    "\n",
    "    def non_agressive_to_txt(self, conference_id):\n",
    "        \"\"\"\n",
    "        Copies the non-agressive phrases to a txt file. Such phrases are under the\n",
    "        president's dialogues folder\n",
    "        \"\"\"\n",
    "        # Save the non-agressive phrases to a txt file\n",
    "        print(f\"Conference {conference_id} is not agressive\")\n",
    "        # Copy file to training data\n",
    "        dialogue_path = os.path.join(\n",
    "            self.DIALOGUES_PATH, f\"{conference_id}_president_dialogues.txt\"\n",
    "        )\n",
    "\n",
    "        with open(dialogue_path, \"r\", encoding=\"utf-8\") as f:\n",
    "            text = f.read()\n",
    "            text = self.amlo_parser.clean_text(text)\n",
    "\n",
    "        new_file_path = os.path.join(\n",
    "            self.TRAINING_PATH, f\"{conference_id}_non_agressive.txt\"\n",
    "        )\n",
    "\n",
    "        with open(new_file_path, \"w\", encoding=\"utf-8\") as f:\n",
    "            f.write(text)\n",
    "\n",
    "    def create_training_set(self):\n",
    "        for file in tqdm(self.all_files):\n",
    "            if file.endswith(\".txt\"):\n",
    "                conference_id = int(re.findall(r\"\\d+\", file)[0])\n",
    "\n",
    "                if conference_id in self.labeled_conference_ids:\n",
    "                    # Get conference label\n",
    "                    conference_label = self.labeled_data.loc[\n",
    "                        self.labeled_data[\"conference_id\"] == conference_id,\n",
    "                        \"is_agressive\",\n",
    "                    ].values[0]\n",
    "\n",
    "                    if conference_label == 1:\n",
    "                        # Get the agressive phrases\n",
    "                        self.agressive_phrases_to_txt(\n",
    "                            self.agressive_phrases, conference_id\n",
    "                        )\n",
    "                    else:\n",
    "                        # Copy the file to the training data\n",
    "                        self.non_agressive_to_txt(conference_id)\n",
    "                else:\n",
    "                    continue"
   ]
  },
  {
   "cell_type": "code",
   "execution_count": 4,
   "metadata": {},
   "outputs": [
    {
     "name": "stderr",
     "output_type": "stream",
     "text": [
      "100%|██████████| 1241/1241 [00:00<00:00, 7401.73it/s]"
     ]
    },
    {
     "name": "stdout",
     "output_type": "stream",
     "text": [
      "Conference 20181207 is not agressive\n",
      "Conference 20190102 is not agressive\n",
      "Conference 20190111 is not agressive\n",
      "Conference 20190227 is not agressive\n",
      "Conference 20200128 is not agressive\n",
      "Conference 20210510 is not agressive\n",
      "Conference 20221125 is not agressive\n"
     ]
    },
    {
     "name": "stderr",
     "output_type": "stream",
     "text": [
      "\n"
     ]
    }
   ],
   "source": [
    "all_files = os.listdir(PATH)\n",
    "\n",
    "training_set = TrainingSet()\n",
    "training_set.create_training_set()"
   ]
  },
  {
   "cell_type": "markdown",
   "metadata": {},
   "source": [
    "### Possible models to use:\n",
    "\n",
    "Summarization:\n",
    "\n",
    "https://huggingface.co/mrm8488/bert2bert_shared-spanish-finetuned-summarization\n",
    "\n",
    "\n",
    "Sentiment Analysis:\n",
    "\n",
    "https://huggingface.co/finiteautomata/beto-sentiment-analysis\n",
    "\n",
    "\n",
    "Emotion Analysis:\n",
    "\n",
    "https://huggingface.co/finiteautomata/beto-emotion-analysis\n"
   ]
  }
 ],
 "metadata": {
  "kernelspec": {
   "display_name": "Python 3",
   "language": "python",
   "name": "python3"
  },
  "language_info": {
   "codemirror_mode": {
    "name": "ipython",
    "version": 3
   },
   "file_extension": ".py",
   "mimetype": "text/x-python",
   "name": "python",
   "nbconvert_exporter": "python",
   "pygments_lexer": "ipython3",
   "version": "3.11.3"
  }
 },
 "nbformat": 4,
 "nbformat_minor": 2
}
