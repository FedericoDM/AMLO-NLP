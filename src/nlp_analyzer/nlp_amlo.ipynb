{
 "cells": [
  {
   "cell_type": "markdown",
   "metadata": {},
   "source": [
    "# AMLO Exploratory Data Analysis"
   ]
  },
  {
   "cell_type": "code",
   "execution_count": 29,
   "metadata": {},
   "outputs": [],
   "source": [
    "import re\n",
    "import os\n",
    "import pandas as pd\n"
   ]
  },
  {
   "cell_type": "code",
   "execution_count": 60,
   "metadata": {},
   "outputs": [],
   "source": [
    "PATH = \"C:/Users/fdmol/Desktop/AMLO-NLP/src/data/text_files/\"\n",
    "REGEX_PATTERNS = [\n",
    "    r\"copyright derechos reservados 2011-2020 - sitio oficial de andrés manuel lópez obrador\",\n",
    "    r\"versión estenográfica de la conferencia de prensa matutina del presidente de méxico, andrés manuel lópez obrador – amlo \\| \\d+/\\d+/\\d+\",\n",
    "    r\" descarga audio: \\d+-\\d+-\\d+ audio conferencia de prensa presidente de méxico palacio nacional,\",\n",
    "]\n",
    "\n",
    "STOPWORDS = [\n",
    "    \"el\",\n",
    "    \"ella\",\n",
    "    \"ellos\",\n",
    "    \"ellas\",\n",
    "    \"con\",\n",
    "    \"contra\",\n",
    "    \"como\",\n",
    "    \"de\",\n",
    "    \"por\",\n",
    "    \"para\",\n",
    "    \"a\",\n",
    "    \"ante\",\n",
    "    \"bajo\",\n",
    "    \"cabe\",\n",
    "    \"con\",\n",
    "    \"contra\",\n",
    "    \"de\",\n",
    "    \"desde\",\n",
    "    \"durante\",\n",
    "    \"en\",\n",
    "    \"entre\",\n",
    "    \"hacia\",\n",
    "    \"hasta\",\n",
    "    \"mediante\",\n",
    "    \"para\",\n",
    "    \"por\",\n",
    "    \"según\",\n",
    "    \"sin\",\n",
    "    \"so\",\n",
    "    \"sobre\",\n",
    "    \"tras\",\n",
    "    \"versus\",\n",
    "    \"vía\",\n",
    "    \"y\",\n",
    "    \"e\",\n",
    "    \"ni\",\n",
    "    \"o\",\n",
    "    \"u\",\n",
    "    \"pero\",\n",
    "    \"aunque\",\n",
    "    \"la\",\n",
    "    \"las\",\n",
    "    \"los\",\n",
    "    \"lo\",\n",
    "    \"un\",\n",
    "    \"una\",\n",
    "    \"unos\",\n",
    "    \"unas\",\n",
    "    \"al\",\n",
    "    \"del\",\n",
    "    \"lo\",\n",
    "    \"le\",\n",
    "    \"les\",\n",
    "    \"me\",\n",
    "    \"te\",\n",
    "    \"se\",\n",
    "    \"nos\",\n",
    "    \"os\",\n",
    "    \"les\",\n",
    "    \"le\",\n",
    "    \"me\",\n",
    "    \"te\",\n",
    "    \"se\",\n",
    "    \"nos\",\n",
    "]\n"
   ]
  },
  {
   "cell_type": "markdown",
   "metadata": {},
   "source": [
    "#### Defining classes and functions"
   ]
  },
  {
   "cell_type": "code",
   "execution_count": 62,
   "metadata": {},
   "outputs": [],
   "source": [
    "class TextParser:\n",
    "    REGEX_PATTERNS = REGEX_PATTERNS\n",
    "    STOPWORDS = STOPWORDS\n",
    "\n",
    "    def __init__(self, path):\n",
    "        self.path = path\n",
    "\n",
    "    def txt_to_list(self, filename):\n",
    "        \"\"\"\n",
    "        Add each line of a text file to a list\n",
    "        \"\"\"\n",
    "\n",
    "        file_path = os.path.join(self.path, filename)\n",
    "        lines = []\n",
    "        with open(file_path, \"r\", encoding=\"utf-8\") as f:\n",
    "            for line in f:\n",
    "                line = line.strip().split()\n",
    "                lines.append(line)\n",
    "\n",
    "        return lines\n",
    "\n",
    "    def file_to_string(self, filename):\n",
    "        \"\"\"\n",
    "        Add each line of a text file to a string\n",
    "        \"\"\"\n",
    "        text = \"\"\n",
    "        file_path = os.path.join(self.path, filename)\n",
    "        with open(file_path, \"r\", encoding=\"utf-8\") as f:\n",
    "            for line in f:\n",
    "                text += line\n",
    "\n",
    "        text = text.strip()\n",
    "        text = text.lower()\n",
    "        text = re.sub(r\"\\s+\", \" \", text)\n",
    "\n",
    "        for pattern in self.REGEX_PATTERNS:\n",
    "            text = re.sub(pattern, \"\", text)\n",
    "\n",
    "        return text\n",
    "\n",
    "    def remove_stopwords(self, text):\n",
    "        \"\"\"\n",
    "        Removes predefined stopwords from a string\n",
    "        \"\"\"\n",
    "        text = text.split()\n",
    "        text = [word for word in text if word not in self.STOPWORDS]\n",
    "        text = \" \".join(text)\n",
    "        return text\n"
   ]
  },
  {
   "cell_type": "code",
   "execution_count": 44,
   "metadata": {},
   "outputs": [
    {
     "name": "stdout",
     "output_type": "stream",
     "text": [
      " 07 de diciembre de 2018 versión estenográfica conferencia de prensa del presidente de méxico, andrés manuel lópez obrador -presidente andrés manuel lópez obrador: buenos días. estamos terminando la reunión de seguridad y ahora informamos que está terminando esta semana. hemos estado de lunes a viernes con estas reuniones, para tratar el asunto que tanto importa, el de la seguridad pública. y lo vamos a seguir haciendo siempre de lunes a viernes, de seis de la mañana en adelante, de seis a siete en promedio. la reunión la presido y participa el secretario de la defensa, el secretario de marina, la secretaria de gobernación, el secretario de seguridad pública. también se está invitando al fiscal general, alejandro gertz, y diariamente estamos recibiendo la información, el reporte de lo acontecido en todo el país. les comentaba que poco a poco estamos ya acercándonos a un buen sistema informativo, a definir un buen sistema de información para contar con elementos, contar con la información veraz y actuar. también, esto que hacemos nosotros, se está replicando en 150 coordinaciones en el país. el propósito es tener 266 coordinaciones. la idea central es trabajar de manera permanente y en forma coordinada. venía pasando que se delegaba este asunto a las distintas instituciones, a las distintas autoridades. ahora es responsabilidad del presidente de la república, responsabilidad directa. estoy asumiendo mi responsabilidad para garantizar la paz y la tranquilidad. lo otro, que es muy importante, es que se está trabajando de manera coordinada. estamos unidos la secretaría de la defensa, la secretaría de marina, la secretaría de seguridad pública. antes, cada institución actuaba por su cuenta. ahora existe ya esta coordinación. cada vez va a funcionar mejor. por eso vamos a tener, antes de que finalice este mes, una reunión nacional de todos los responsables de esta estrategia para definirla muy bien. es importante decirles que la secretaría de la defensa, la secretaría de marina, la secretaría de seguridad pública, tenían sus métodos de trabajo. en el caso de la secretaría de la defensa y de marina, de tiempo atrás, su estrategia, su cadena de mando, ya muy hecha, muy establecida. cuando empieza a agravarse la situación de inseguridad y de violencia, se opta por utilizar el apoyo de estas instituciones, a través de operativos. no sólo en el caso de la defensa, no sólo en el caso de marina, también en el caso de la policía federal. se agrava la situación en un estado y un operativo. reforzar el estado. ahora, nuestra estrategia nuestra es que podamos tener atención permanente en el territorio. por eso, las coordinaciones territoriales, desde luego, sigue la misma estrategia de atención a las responsabilidades de cada institución. es posible que continúen operativos. pero lo básico ahora va a ser el que se atienda la seguridad de los ciudadanos desde el territorio, todos los días, con mando único. porque en esa coordinación participan de todas las dependencias, pero hay un mando operativo en cada coordinación. y se tiene un reporte diario de lo que está sucediendo y diariamente se actúa. ésta es la forma en que estamos trabajando. ya terminamos esta semana. repito y vamos a continuar hacia adelante y se va a ir consolidando cada vez más este sistema de trabajo para garantizar la paz, para garantizar la tranquilidad en el país. en esta semana fue muy notorio el que se mantienen enfrentamientos relacionados con el robo de combustibles. una de las entidades más afectadas por la violencia fue guanajuato y tiene que ver con la refinería de salamanca, con lo que se conoce coloquialmente, popularmente, como el huachicoleo. ya estamos trabajando en una estrategia con ese propósito. yo espero que la semana próxima les presente un plan, porque quiero que todos los ciudadanos conozcan lo que vamos a llevar a cabo. hace unos días, en el zócalo, hablaba yo de solicitar el apoyo de todos para garantizar la paz, la tranquilidad. y hablaba yo del apoyo de las familias. y hablaba yo de pedirles a las madrecitas que nos ayuden con sus hijos. porque las madres son muy buenas, están llenas de sentimiento; las madres que quieren mucho a los hijos, y nunca una madre va a aceptar que un hijo comete un ilícito. siempre, para las madres, los hijos son inocentes, y piensan que es una injusticia la que se comete cuando se detiene a un hijo, a una gente de la familia. entonces, pedirles a todos que nos ayuden, orientando a los jóvenes, que no caigan en la tentación de la delincuencia. ahora va a haber trabajo para todos. vamos a informar bien de que hay empleo para todos los jóvenes. no se va a quedar un joven sin oportunidad de trabajo con el programa de jóvenes construyendo el futuro. entonces, va a haber esta opción, esta alternativa. y tengo que informar bien, y ustedes me van a ayudar como siempre, porque se va a convertir en delito grave el robo de combustible y esto significa que no van a tener derecho a fianza. entonces, es muy importante informar, que se tenga conocimiento de que se van a aplicar leyes más severas para estos delitos. es lo mismo que el delito de corrupción, que no va a tener derecho a fianza. son los cambios. anteriormente se podía. aun cometiendo un robo al erario, salir bajo fianza. ya no va a ser posible, lo mismo el caso del robo de combustible. entonces, es muy importante hacer conciencia, convencer de que hay que cambiar. ya estamos en una etapa nueva, distinta. en el caso de los jóvenes, repito, van a tener posibilidad de trabajar. se va a contratar a jóvenes como aprendices, a dos millones 300 mil jóvenes. ya se está haciendo un censo, casa por casa. van a obtener un sueldo mientras se capacitan, de tres mil 600 pesos mensuales para comenzar. la idea es que tengan esta opción y no tomen el camino de las conductas antisociales. esto es lo que hemos estado haciendo. al mismo tiempo que estamos desahogando temas, tenemos ya una agenda y se está elaborando el presupuesto del año próximo. también, les informo que hoy me traslado a nayarit, voy al norte de nayarit a apoyar a los afectados por el huracán. hice ese compromiso y vamos a estar en el norte de nayarit. mañana vamos a chiapas y pasado mañana a tabasco, y el lunes temprano nos volvemos a encontrar aquí, con ustedes, eso es lo que quería informarles. -pregunta: gracias, presidente. buenos días. mire, en esta semana van dos periodistas asesinados, yo le quiero preguntar, la fiscalía para delitos contra la libertad de expresión tiene una impunidad de 98.5 por ciento en los casos que toma. ¿qué hará diferente, específicamente su gobierno, a lo que hizo el gobierno de calderón y el gobierno de peña nieto, para acabar con esta tragedia que aqueja al gremio periodístico? -presidente andrés manuel lópez obrador: vamos a dar protección a todos los ciudadanos y a todos los periodistas. y van a continuarse las investigaciones de asesinatos que no han sido esclarecidos, que no se ha castigado a los responsables. no se van a cerrar esos expedientes. estamos conscientes de que debe de haber justicia y protección para todos los periodistas éste es un asunto que está viendo alejando encinas, subsecretario de gobernación. -pregunta: gracias, buenos días. isabel gonzález, de grupo imagen. ha dicho, presidente, en esta semana, que se le van a adelantar los recursos federales a los gobernadores, que van a tener mayor presupuesto. pero en el tema de la seguridad, los gobernadores manifestaron su molestia por los llamados superdelegados. ya se les explicaron los malos entendidos, también lo ha dicho. ¿a qué se comprometieron los gobernadores en materia de estado de fuerza? hablando de policías. el talón de aquiles, usted lo ha dicho, en nuestro país es que no hay policías confiables, no hay policías fuertes, no hay policías con espíritu de cuerpo. cuál es la cuota o la responsabilidad, el compromiso de los gobernadores en este sentido, porque mucho de la falta de una buena policía en los estados se debe a que los gobernadores no han hecho su trabajo en este sentido. y me gustaría saber qué va a pasar en la sesión de finales de diciembre del consejo de seguridad pública, que es el máximo órgano justamente, lo marca la constitución, en este sentido. si se contemplan modificaciones en los controles de confianza de los cuerpos de seguridad en los policías. y nada más, únicamente, cómo va el tema de la participación del papa en este proceso de pacificación. gracias. -presidente andrés manuel lópez obrador: acerca del consejo de seguridad pública, hoy precisamente tratamos el tema y se va a convocar a todos los integrantes para la realización de este consejo, que tenemos que integrar por ley. y en este consejo participan los gobernadores. sí vamos a tener una reunión con ese propósito. también para la transferencia de los recursos que tienen que ver con la seguridad pública a los estados. ya estamos tratando este tema. y ahí se va a plantear toda la estrategia de seguridad. se avanzó ahora en la reunión que sostuvimos, porque ya se acepta que funcionen las coordinaciones, en algunos casos, los gobiernos estatales ya están participando en la estrategia de las coordinaciones. yo espero que pronto participen todos y que se sumen esfuerzos y voluntades para garantizar la paz y la tranquilidad. y hay que hacer un trabajo para mejorar las policías municipales y estatales. hay policías buenas, corporaciones de policías que funcionan. hay otras que generan mucha desconfianza. voy a mencionar una policía buena, es mi apreciación, o dos policías, para que no vayan a ver sentimientos. la policía de la ciudad de méxico. yo considero que es una policía que cumple con su función. ahora, estoy seguro, que va a mejorar mucho por la jefa de gobierno, por claudia. va a mejorar mucho esta policía, que tiene 86 mil elementos. que es la policía con más elementos en todo el país, y de las que tienen un promedio, por encima de lo que solicita la onu, es decir, en cuanto a número de policías por habitantes en el caso de la ciudad de méxico. y la otra policía que yo reconozco por su eficacia es la policía de yucatán. ahí hay que destacar que el jefe de la policía en yucatán, de la policía estatal, viene desde el gobierno de cervera pacheco, y han pasado otros gobiernos, ahí ha gobernado el pri, ha gobernado el pan, ahora gobierna el pan, o bueno, un gobernador surgido de las filas del pan, porque se gobierna para todos. pero decidió nombrar al mismo secretario de seguridad pública, ratificarlo en el cargo. debe de llevar como 20 años en seguridad pública. y los resultados son buenos, porque yucatán es de las entidades más seguras del país. entonces, hablo de policías buenas. hay otras que hace falta una revisión. -pregunta: (inaudible) -presidente andrés manuel lópez obrador: sí. sí. yo pienso que aquí, por ejemplo, vamos a estar hablando de estos temas, de dónde las policías no están a la altura de lo que se requiere, de lo que necesitan los ciudadanos. esto tiene mucho que ver con el pintar la raya, la frontera entre autoridad y delincuencia. ya cuando no existe esa frontera se pierde todo. entonces, vamos a ir mejorando poco a poco todo el sistema de seguridad pública. -pregunta: gracias, presidente. buenos días. horacio jiménez, del periódico el universal. si me podría comentar qué espera el presidente con revivir la plataforma méxico. esta plataforma de información de delincuencia organizada, que se va a revivir en la secretaría de seguridad pública. en segundo elemento, presidente, también me gustaría preguntarle: qué opina de esta ley de austeridad, que ya está lista en la cámara de diputados y que se prevé que se apruebe la próxima semana en comisiones y en el pleno, y que prácticamente pone fin a los bonos para todos los servidores públicos e integrantes del poder judicial y organismos desconcentrados. gracias. -presidente andrés manuel lópez obrador: lo de la plataforma méxico continúa, porque es un sistema de información estadística. pero se está modificando, porque ya les explicaba que necesitamos contar con una información diaria que no había. se mandaba el informe y se acumulaba, y era buena la información para 10 días, 15 días, hacia adelante. y nosotros necesitamos saber qué pasa en cada municipio, en cada región, diariamente, para poder tomar decisiones. entonces, estamos haciéndole adecuaciones a este sistema. sobre la iniciativa de ley para la austeridad republicana, yo veo con buenos ojos ese proyecto. ojalá y se apruebe, porque tiene que haber austeridad. el poder es humildad, no fantocherías, no prepotencias, no lujos. entonces, es excesivo lo que se destina a mantener al gobierno. se queda mucho dinero del presupuesto en el gobierno. el gobierno está ensimismado. el presupuesto es para mantener al gobierno y lo que se requiere es que el presupuesto se traslade a la gente, a los ciudadanos. que no se quede en el gobierno. ¿qué hicieron durante todo este tiempo? agrandaron el gobierno. instituciones para todos, comisiones. supuestamente órganos autónomos con muy buenos sueldos para los altos funcionarios públicos y mucho derroche. les voy a dar dos casos. el de la transparencia. cuesta mil millones de pesos mantener ese organismo. se creó y en qué ha contribuido para reducir la corrupción. al contrario, la corrupción creció como nunca, a la par de que se creó este organismo. los sueldos de los del instituto de la transparencia hasta de 300 mil pesos mensuales. otro instituto, el de la evaluación educativa, mil 500 millones de pesos. lo mismo, los altos funcionarios bien atendidos, bien servidos. en el caso del sector energético, órganos reguladores como hongos después de la lluvia: surgieron, aparecieron. organismos reguladores para el gas, para la electricidad, para el petróleo, de energía. los sueldos, también, de 300 mil pesos. bueno, al extremo de que hay funcionarios del sector energético, a partir de la reforma, que tienen derecho a que se les pague una fianza por si cometen un delito con dinero del presupuesto se les protege con confianza. increíble. todo esto se tiene que terminar. y, repito, no puede haber gobierno rico con pueblo pobre. juárez decía: el funcionario tiene que aprender a vivir en la justa medianía. nada de vehículos de lujo, aviones, helicópteros. nada de viáticos para comidas en restaurantes de lujo, vinos, viajes al extranjero sin límites, asesores, también, al por mayor; bonos, hasta bonos por fatiga. todo eso se termina. es una etapa nueva y, que se entienda, la austeridad no es un asunto administrativo. es un asunto de principios y se va a aplicar. -pregunta: gracias, señor presidente. buenos días. miguel alzate, de canal 14. si nos pudiera aclarar, ayer el secretario de turismo y el secretario de comunicaciones y transportes tuvieron ideas encontradas sobre al aeropuerto. torruco decía que en santa lucía iba a operar con vuelos internacionales y jiménez espriú hablaba que tanto la ciudad de méxico como santa lucía iban a tener las dos operacionales nacionales e internacionales, porque si bien este proyecto ya se avaló con la consulta, parece que el gobierno no tiene una idea clara de cuál va a ser su operación. si nos puede aclarar esto. y, también, sobre la estrategia de seguridad que nos hablaba hace un momento, al principio, si tiene algún estado ya con la mira puesta para empezar esta estrategia que están trabajando. gracias. -presidente andrés manuel lópez obrador: acerca de lo del aeropuerto es un proceso que se está resolviendo poco a poco. ya se ha ido avanzando. no quiero yo entrar en polémica sobre el uso que se le va a dar a los aeropuertos. eso se está analizando. se está estudiando. cuando tengamos ya un plan definitivo se les va a notificar. sobre la estrategia de seguridad. e nacional, básicamente. y todos los días vamos aquí a platicar sobre ese tema, a informarles sobre ese tema. -pregunta: presidente, muy buenos días. carla contreras, de canal 11. haciendo un poco mención al tema este de seguridad. ayer se anunció el despliegue de los primeros 50 mil elementos. con qué instrucción llegan estos elementos, presidente, cuál va a ser el primer contacto que tengan con la ciudadanía, dado que es uno de los temas más sensibles que ahorita afectan al país. abordando el tema del turismo. cuando llega la debacle energética, el sector turístico se convierte en uno de los motores de la economía nacional, y hoy ingresan una gran cantidad de recursos al país. ayer se anuncia el cierre del consejo nacional de promoción turística, ¿cómo le va a hacer el nuevo gobierno para garantizar que el turismo se mantenga como uno de los principales sectores de la economía nacional? y, finalmente, su opinión sobre esta decisión de la suprema corte de defender los derechos de las trabajadoras domésticas. de hecho, ya ayer hubo una palomita por parte de la onu para esta decisión, que es histórica para nuestro país, pero usted qué opina. -presidente andrés manuel lópez obrador: acerca del consejo para el fomento al turismo, ya ustedes conocen, se tomó la decisión que esos ingresos que se obtienen por un impuesto que se cobra a los turistas se destine a la construcción del tren maya. y se va a seguir, desde luego, llevando a cabo la promoción turística, a través de las embajadas y de los consulados. este fondo no se manejaba con transparencia. se usaba de manera discrecional para promover eventos de todo tipo. incluso, sin transparencia se entregaba publicidad a ciertos medios. se manejaba desde el extranjero una parte de este dinero. entonces, por eso se va a dejar de utilizar con ese propósito y se va a invertir, precisamente, para el turismo. cuando ustedes tengan en sus manos el presupuesto del año próximo van a encontrar que una de las secretarías que va a aumentar en presupuesto es la secretaría de turismo. va a tener más presupuesto. nada más que este fondo, que no se manejaba con transparencia, va a tener una orientación distinta. yo entiendo que esto no gustó a algunos, pero, como se dice cuando se construyen las obras, ofrecemos disculpas por las molestias que ocasiona esta decisión. eso por lo que corresponde al turismo. lo de la corte, yo también lo veo muy bien. celebro que se garanticen los derechos a las trabajadoras domésticas. todos los derechos. qué bien que se tomó esta decisión. -pregunta: (inaudible) -presidente andrés manuel lópez obrador: van a seguir siendo protegidos los turistas. méxico va a ser más seguro como destino turístico. -pregunta: primero, un pequeño comentario. en lo que dijo ahorita sobre el instituto nacional de transparencia, el inai, solo para comentar que para los periodistas sí ha servido mucho y muchas investigaciones que hemos podido hacer, que revelan corrupción en niveles de gobierno, se hacen porque nos entregan documentos que por otro lado no podríamos tener. no sé si usted tiene un plan de deshacer del instituto, pero me gustaría saber sin habrá forma de accesar a esta información en una forma transparente para el ciudadano y el público. y otro, sobre la situación de los migrantes centroamericanos en tijuana. estaba yo viendo, muchos están durmiendo en carpas, afuera, que no tienen mucha impermeabilidad y hay mucha enfermedad. la situación está medio fea en temas humanitarios y quiero saber si hay un plan para atender a ellos, más allá de lo que están haciendo y que han estado haciendo desde las últimas semanas. -presidente andrés manuel lópez obrador: mire lo que son las cosas. a ustedes les va bien con el instituto de la transparencia, yo la información que tengo es de otro tipo. les voy a dar dos datos. cuando inicia el instituto de la transparencia, allá, por el año 2002, 2003, la primera decisión que toma es mantener bajo reserva, es decir, ocultar la información sobre la condonación de impuestos que hizo el gobierno federal de grandes contribuyentes que, por cierto, se vence ahora el plazo en el 19. la primera decisión importante. y de las últimas fue mantener en secreto el caso de odebrecht. entonces, cada quien tiene su visión. de todas maneras, no desaparece el instituto de la transparencia. pero, sí, espero que, como es un organismo autónomo, haga un esfuerzo de austeridad para reducir los sueldos de los altos funcionarios públicos. lo otro. nosotros estamos muy pendientes de la situación de los migrantes centroamericanos, en tijuana, y cada vez vamos a mejorar, como usted nos plantea, la atención humanitaria. se va a proteger los derechos humanos de los migrantes. están trabajando de manera coordinada la secretaría de gobernación y la secretaría de relaciones exteriores. pero ahora mismo, de acuerdo a lo que me está planteando y su recomendación, que la aceptamos, vamos a mejorar, a buscar la forma de que estén mejor los migrantes, que nos les falte alimentación, que nos les falte atención médica. que tengan todo el apoyo. -pregunta: buenos días, presidente. -presidente andrés manuel lópez obrador: si les parece, nada más nos vamos con tres, porque vamos a viajar. -pregunta: para preguntarle o, mejor dicho, pedirle una descripción, un detalle sobre esta estrategia que usted ha anunciado en sus últimos discursos y ahora mismo, esta estrategia de hablar con las familias. usted ha dicho, hablar con las familias todos los días. ¿lo ha hecho?, ¿cuál es, digamos, el modelo que ha seguido? y ¿cuáles son los resultados hasta ahora obtenidos? soy daniel blancas de la crónica. buenos días. -presidente andrés manuel lópez obrador: lo vamos a seguir haciendo. nos vamos a seguir comunicando. estas conferencias tienen ese propósito. no solo contestar todas sus dudas, inquietudes, sus preguntas, lo que ustedes quieran saber para, al mismo tiempo, transmitir a los ciudadanos, garantizar el derecho a la información. sino, también, que nos permitan comunicarnos con los ciudadanos, con la gente, porque el cambio lo tenemos que hacer con la participación de todas y de todos. no es asunto de un solo hombre, no solo es asunto del presidente, no solo es asunto del gobierno. es un asunto de todas y de todos. entonces, yo estoy seguro de que me van a ayudar mucho las familias, me van a ayudar mucho los adultos mayores. por ejemplo, vamos a reeditar la cartilla moral de alfonso reyes para fortalecer valores culturales, morales, espirituales. y otros documentos, la misma constitución moral que se va a elaborar, que ya hablamos que se va a hacer en un congreso con la participación de todas, de todos. esos documentos se los voy a enviar a los adultos mayores para que nos ayuden, orientando en la familia; hablando con los nietos sobre la importancia de mantener principios, de mantener ideales, de mantener valores. entonces, ¿por qué se los voy a enviar a ellos? no me va a costar trabajo porque se está levantando un censo de todos los adultos mayores que tienen el derecho a recibir una pensión. entonces, les voy a pedir que de manera voluntaria, en el tiempo que les quede libre, ayuden a hablar con sus familiares, con sus nietos. todo esto lo voy a hacer. y esta conferencia, este diálogo circular, nos va a ayudar mucho, porque se va a saber hasta el más apartado rincón del país, se va a abrir paso la información, ya sea por medios convencionales: periódicos, la radio, la televisión, las redes sociales. que se informe a los ciudadanos. repito, garantizar el derecho a la información. ustedes son comunicólogos. saben que no es fácil que una información se transmita. a veces hay un hecho importante, una noticia y se enteran muy pocos. uno piensa que si hay una noticia se van a enterar la mitad de los ciudadanos. pues no. hay veces que son noticias importantes y se alcanzan a enterar el 20 por ciento de los ciudadanos. entonces, sí necesitamos que cada vez haya más información. éste es el propósito de este encuentro con ustedes, que se permite que las familias se enteren. imagínense, se aprueba la ley para que sea delito grave el robo de combustible. se aprueba y se aplica, porque ahora el que se robe 10 litros va a ser consignado sin derecho a fianza. es mejor que se sepa, que haya la información en todo, porque aquí vamos a estar informando sobre esto. por qué tenemos que tomar estas medidas. porque, aun cuando no se tiene todavía una cifra exacta, se calcula que se roban de 50 a 70 mil millones de pesos al año de combustible. entonces, es muchísimo lo que pierde la hacienda pública, dinero de todos los mexicanos. entonces, tenemos que tomar estas decisiones. al mismo tiempo, no es nada más endurecer las leyes, sino dar opciones, que los jóvenes tengan trabajo, que haya bienestar. eso es lo que se está proponiendo. -pregunta: buenos días, presidente. jaime obrajero, reportero de w radio. yo quiero reportar el tema de los derechos plenos de las trabajadoras y trabajadores domésticos. preguntarle si su gobierno sí va a ratificar el convenio 189 de la organización internacional del trabajo, que precisamente cedió a eso, porque eso debió haber ocurrido desde hace cuatro años y son poco más de 2 millones los trabajadores domésticos, trabajadoras domésticas, la mayoría mujeres. si su gobierno piensa ratificarlo y cuándo podría darse esto. -presidente andrés manuel lópez obrador: lo vamos a hacer. se va a ratificar el convenio. voy a hablar con la secretaria del trabajo, luisa maría albores, para ponernos de acuerdo y cumplir con este acuerdo. -pregunta: señor presidente, buenos días. urbano barrera, del diario ovaciones. yo quisiera preguntarle si dentro de su plan de austeridad aún contempla las recompensas, el sistema de recompensas, si se va a hacer esa ayuda, ese pago, a los testigos protegidos, que se les da un salario, casa-habitación, todo esto para poder avanzar en el combate a la delincuencia. la segunda es: el subsecretario encinas dijo que se va a beneficiar a quien entregue información valiosa con el caso ayotzinapa. ¿se va a respetar todavía esa recompensa, máxima de 30 millones de pesos, en méxico? y la otra. tocando el tema de los huachicoleros. la sociedad, todos los automovilistas también sufren un robo de combustible cada que vamos a las estaciones de servicio, a llenar el tanque. el delito de robo desde que se expende, ¿también va a ser delito grave, cuando nos roban el 10 por ciento de la gasolina, que nosotros pagamos, pero que no se nos suministra al momento de llevar el automóvil? gracias. -presidente andrés manuel lópez obrador: en el primer caso. todo lo que tiene que ver con la justicia para conocer la verdad de ayotzinapa va a haber protección a testigos y es un plan independiente de la austeridad, que se va a continuar, que se va a llevar a cabo. si se requieren recompensas, lo que se necesite, eso lo va a decidir la comisión y es parte del propósito de que haya justicia, de que se conozca el paradero de los jóvenes y se castigue a los responsables. eso es otra cosa. en el caso del delito de robo de combustible, incluye a los que extraen y a los que distribuyen el combustible. cuando tengamos ya la aprobación definitiva de la ley, se las vamos a entregar y vamos a hablar bien sobre estos delitos, básicamente. la secretaría de economía tiene, a su vez, la responsabilidad de vigilar que se den litros completos y kilos completos. esa es una función. aunque estamos llamando a los prestadores de servicios a que actúen con responsabilidad. y, al mismo tiempo, estamos por aprobar o el poder legislativo está por aprobar, porque hay una iniciativa de reforma de una ley, mejor dicho, no es una iniciativa de reforma, es una ley de confianza ciudadana para que la supervisión se haga a través de un padrón, que se va a ir integrando, porque cada prestador de servicio, el dueño de una tienda, el dueño de un comercio va a decir que, bajo promesa, bajo compromiso de decir verdad, va a cumplir con la ley, con los reglamentos. y sólo van a ser supervisados quienes salgan en un sorteo. de todos los que se inscriban en ese padrón, un porcentaje que aparezca en el sorteo va a ser supervisado, y se les va a llevar a cabo esa supervisión con el acompañamiento de las cámaras. si se salen mal, van a ser sancionados, entre otras cosas, van a tener que ser supervisados permanentemente. si salen bien, si son buenos ciudadanos, van a recibir un reconocimiento del presidente de la república por estar cumpliendo con su responsabilidad. -pregunta: gracias. buenos días, presidente. preguntarle sobre el tema del balance de seguridad. estamos por terminar una semana, ¿cuáles son los estados que reportaron mayores índices de inseguridad y si hubo una disminución? por un lado. por el otro, ¿cuál es su opinión referente a la castración química? ¿cree que sea la solución para evitar los delitos de violación, precisamente? -presidente andrés manuel lópez obrador: no. ninguna medida de ese tipo es solución. hay que atender las causas. y cómo vamos en esta semana. hay que considerar que todavía no contamos con información suficiente. pero sí fue notorio el que hubieron más delitos en la semana guanajuato, eso sí se los puedo garantizar, también, en otras entidades. pero ahí se registraron más homicidios, por ejemplo. -pregunta: presidente, buenos días. david pérez de tejada, de informe 24. ahora que va a visitar chiapas, ya como presidente constitucional, ¿cuál es la estrategia ante la grave crisis que padece el estado, sobre todo en educación y salud?, ¿qué es lo que se va a hacer? y qué opina ante la solicitud de varios chiapanecos que, inclusive, han recolectado firmas, donde piden juicio político por corrupción para el casi, exgobernador, y senador manuel velazco. -presidente andrés manuel lópez obrador: en los primeros casos, de salud y educación, ya estamos trabajando. les comentaba yo de que pronto se va a dar a conocer el plan de salud, que va a iniciar, precisamente, en el sureste, en chiapas. en lo educativo, ayer, tuve una reunión con el secretario de educación, esteban moctezuma, con todo su equipo, y también se está avanzando. acerca de la denuncia. los ciudadanos son libres, hay instancias. pueden proceder, si tienen los elementos. eso es lo que puedo comentar. muchísimas gracias. nos vemos el lunes. y los que van a nayarit, nos vemos más tarde. gracias, gracias. – – – 0 – – – © .\n"
     ]
    }
   ],
   "source": [
    "text_parser = TextParser(PATH)\n",
    "\n",
    "text = text_parser.file_to_string(\"20181207.txt\")\n",
    "print(text)\n"
   ]
  },
  {
   "cell_type": "code",
   "execution_count": 58,
   "metadata": {},
   "outputs": [
    {
     "name": "stdout",
     "output_type": "stream",
     "text": [
      "     Word     Score\n",
      "309    de  0.558941\n",
      "971   que  0.416275\n",
      "666    la  0.326375\n",
      "391    el  0.271653\n",
      "1050   se  0.265790\n",
      "690   los  0.189571\n",
      "402    en  0.185662\n",
      "433    es  0.127032\n",
      "1211   va  0.115306\n",
      "218   con  0.111397\n"
     ]
    }
   ],
   "source": [
    "# Use TF-IDF to find the most important words in the text\n",
    "\n",
    "from sklearn.feature_extraction.text import TfidfVectorizer\n",
    "from sklearn.metrics.pairwise import cosine_similarity\n",
    "\n",
    "# Create a TfidfVectorizer\n",
    "tfidf_vectorizer = TfidfVectorizer()\n",
    "\n",
    "# Apply the vectorizer\n",
    "tfidf_matrix = tfidf_vectorizer.fit_transform([text])\n",
    "\n",
    "# Print the result\n",
    "scores = tfidf_matrix.toarray()[0]\n",
    "words = tfidf_vectorizer.get_feature_names_out()\n",
    "\n",
    "# Create a DataFrame with the result\n",
    "df = pd.DataFrame({\"Word\": words, \"Score\": scores})\n",
    "df.sort_values(\"Score\", ascending=False, inplace=True)\n",
    "print(df.head(10))\n"
   ]
  },
  {
   "cell_type": "code",
   "execution_count": 61,
   "metadata": {},
   "outputs": [],
   "source": [
    "df.to_csv(\"C:/Users/fdmol/Desktop/AMLO-NLP/src/data/word_scores.csv\", index=False)"
   ]
  }
 ],
 "metadata": {
  "kernelspec": {
   "display_name": "Python 3",
   "language": "python",
   "name": "python3"
  },
  "language_info": {
   "codemirror_mode": {
    "name": "ipython",
    "version": 3
   },
   "file_extension": ".py",
   "mimetype": "text/x-python",
   "name": "python",
   "nbconvert_exporter": "python",
   "pygments_lexer": "ipython3",
   "version": "3.11.3"
  }
 },
 "nbformat": 4,
 "nbformat_minor": 2
}
