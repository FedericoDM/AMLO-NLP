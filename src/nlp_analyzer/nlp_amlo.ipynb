{
 "cells": [
  {
   "cell_type": "markdown",
   "metadata": {},
   "source": [
    "# AMLO Exploratory Data Analysis"
   ]
  },
  {
   "cell_type": "code",
   "execution_count": 14,
   "metadata": {},
   "outputs": [],
   "source": [
    "import re\n",
    "import os\n",
    "import pandas as pd\n",
    "from tqdm import tqdm\n",
    "\n",
    "from sklearn.feature_extraction.text import TfidfVectorizer\n",
    "\n",
    "from amlo_parser import AMLOParser\n",
    "from training_set import TrainingSet"
   ]
  },
  {
   "cell_type": "markdown",
   "metadata": {},
   "source": [
    "#### CONSTANTS"
   ]
  },
  {
   "cell_type": "code",
   "execution_count": 15,
   "metadata": {},
   "outputs": [],
   "source": [
    "PATH = \"C:/Users/fdmol/Desktop/AMLO-NLP/src/data/text_files/\"\n",
    "LABELED_PATH = \"C:/Users/fdmol/Desktop/AMLO-NLP/src/data/amlo_labeling.xlsx\""
   ]
  },
  {
   "cell_type": "markdown",
   "metadata": {},
   "source": [
    "### Pipeline"
   ]
  },
  {
   "cell_type": "markdown",
   "metadata": {},
   "source": [
    "### Classification Task"
   ]
  },
  {
   "cell_type": "code",
   "execution_count": 16,
   "metadata": {},
   "outputs": [
    {
     "name": "stderr",
     "output_type": "stream",
     "text": [
      " 21%|██▏       | 266/1246 [00:00<00:00, 2531.07it/s]"
     ]
    },
    {
     "name": "stdout",
     "output_type": "stream",
     "text": [
      "Conference 20181207 is not agressive\n",
      "Conference 20190102 is not agressive\n",
      "Conference 20190111 is not agressive\n",
      "Conference 20190227 is not agressive\n",
      "Conference 20200128 is not agressive\n",
      "Conference 20210510 is not agressive\n"
     ]
    },
    {
     "name": "stderr",
     "output_type": "stream",
     "text": [
      "100%|██████████| 1246/1246 [00:00<00:00, 3618.92it/s]"
     ]
    },
    {
     "name": "stdout",
     "output_type": "stream",
     "text": [
      "Conference 20221125 is not agressive\n"
     ]
    },
    {
     "name": "stderr",
     "output_type": "stream",
     "text": [
      "\n"
     ]
    }
   ],
   "source": [
    "all_files = os.listdir(PATH)\n",
    "\n",
    "training_set = TrainingSet(remove_stopwords=True)\n",
    "training_set.create_training_set()"
   ]
  },
  {
   "cell_type": "markdown",
   "metadata": {},
   "source": [
    "### REGRESSION TASK"
   ]
  },
  {
   "cell_type": "code",
   "execution_count": 29,
   "metadata": {},
   "outputs": [],
   "source": [
    "import os\n",
    "import numpy as np\n",
    "\n",
    "from sklearn.feature_extraction.text import TfidfVectorizer\n",
    "from sklearn.model_selection import train_test_split\n",
    "\n",
    "\n",
    "from sklearn.preprocessing import MinMaxScaler\n",
    "\n",
    "\n",
    "from sklearn.metrics import mean_squared_error, r2_score\n",
    "\n",
    "import xgboost as xgb"
   ]
  },
  {
   "cell_type": "code",
   "execution_count": 30,
   "metadata": {},
   "outputs": [],
   "source": [
    "def create_regression_training_df(folder_path, dialogues_path):\n",
    "    \"\"\"\n",
    "    Creates a DataFrame with the training data for the classification model\n",
    "    \"\"\"\n",
    "\n",
    "    # Initialize an empty list to store data\n",
    "    data = []\n",
    "\n",
    "    # Iterate through each file in the folder\n",
    "    for file in os.listdir(folder_path):\n",
    "        if file.endswith(\".txt\"):\n",
    "            # Determine the label based on the file name\n",
    "            label = 0 if \"non\" in file else 1\n",
    "            id = int(re.findall(r\"\\d+\", file)[0])\n",
    "            # Read the text file\n",
    "            with open(os.path.join(folder_path, file), \"r\", encoding=\"utf-8\") as f:\n",
    "                text = f.read()\n",
    "            if label == 1:\n",
    "                # Get text from president's dialogues\n",
    "                with open(\n",
    "                    os.path.join(dialogues_path, f\"{id}_president_dialogues.txt\"),\n",
    "                    \"r\",\n",
    "                    encoding=\"utf-8\",\n",
    "                ) as f:\n",
    "                    dialogues = f.read()\n",
    "\n",
    "                # Ratio of agressive phrases\n",
    "                length_agressive = len(text.split())\n",
    "                length_total = len(dialogues.split())\n",
    "\n",
    "                ratio = length_agressive / length_total\n",
    "\n",
    "                data.append({\"id\": id, \"text\": text, \"score\": ratio})\n",
    "\n",
    "            else:\n",
    "                continue\n",
    "\n",
    "    # Convert the list to a DataFrame\n",
    "    df = pd.DataFrame(data)\n",
    "\n",
    "    return df"
   ]
  },
  {
   "cell_type": "code",
   "execution_count": 31,
   "metadata": {},
   "outputs": [],
   "source": [
    "def train_xgboost(df):\n",
    "    \"\"\"\n",
    "    Trains an XGBoost model to predict\n",
    "    the score of agressivity\n",
    "    \"\"\"\n",
    "\n",
    "    # Import the XGBoost library\n",
    "    tfidf_vectorizer = TfidfVectorizer(max_features=1000)\n",
    "\n",
    "    # Fit and transform the 'text' column\n",
    "    X = tfidf_vectorizer.fit_transform(df[\"text\"])\n",
    "\n",
    "    # Assuming 'label' is your target variable\n",
    "    y = df[\"score\"]\n",
    "\n",
    "    # Assuming `X` is your matrix of embeddings and `y` is your vector of normalized aggressivity scores\n",
    "    X_train, X_test, y_train, y_test = train_test_split(\n",
    "        X, y, test_size=0.2, random_state=42\n",
    "    )\n",
    "    # Create the DMatrix\n",
    "    dtrain = xgb.DMatrix(X_train, label=y_train)\n",
    "    dtest = xgb.DMatrix(X_test, label=y_test)\n",
    "\n",
    "    # Define the parameters\n",
    "    param = {\n",
    "        \"max_depth\": 8,\n",
    "        \"eta\": 0.15,\n",
    "        \"objective\": \"reg:squarederror\",\n",
    "        \"eval_metric\": \"rmse\",\n",
    "    }\n",
    "\n",
    "    # Train the model\n",
    "    num_round = 250\n",
    "    bst = xgb.train(param, dtrain, num_round)\n",
    "\n",
    "    # Make predictions\n",
    "    y_pred = bst.predict(dtest)\n",
    "\n",
    "    # Evaluate the model\n",
    "    mse = mean_squared_error(y_test, y_pred)\n",
    "    r2 = r2_score(y_test, y_pred)\n",
    "\n",
    "    print(f\"Mean Squared Error: {mse}\")\n",
    "    print(f\"R^2 Score: {r2}\")\n",
    "\n",
    "    return bst, tfidf_vectorizer"
   ]
  },
  {
   "cell_type": "code",
   "execution_count": 32,
   "metadata": {},
   "outputs": [],
   "source": [
    "def create_unseen_df(training_set, df):\n",
    "    # Now, let us do it for the entire dataset\n",
    "    data = []\n",
    "\n",
    "    labeled_ids = df[\"id\"].values\n",
    "\n",
    "    # Iterate through each file in the folder\n",
    "    for file in os.listdir(training_set.DIALOGUES_PATH):\n",
    "        if file.endswith(\".txt\"):\n",
    "            # Determine the label based on the file name\n",
    "            conference_id = int(re.findall(r\"\\d+\", file)[0])\n",
    "\n",
    "            if conference_id not in labeled_ids:\n",
    "                # Read the text file\n",
    "                with open(\n",
    "                    os.path.join(training_set.DIALOGUES_PATH, file),\n",
    "                    \"r\",\n",
    "                    encoding=\"utf-8\",\n",
    "                ) as f:\n",
    "                    text = f.read()\n",
    "                    data.append({\"id\": conference_id, \"text\": text})\n",
    "\n",
    "    unseen_df = pd.DataFrame(data)\n",
    "\n",
    "    return unseen_df"
   ]
  },
  {
   "cell_type": "code",
   "execution_count": 33,
   "metadata": {},
   "outputs": [],
   "source": [
    "def predict_unseen_data(model, unseen_df, tfidf_vectorizer, regression=False):\n",
    "    \"\"\"\n",
    "    Predicts the labels for the unseen data\n",
    "    \"\"\"\n",
    "    # Fit and transform the 'text' column\n",
    "    X_unseen = tfidf_vectorizer.fit_transform(unseen_df[\"text\"])\n",
    "\n",
    "    # Make predictions on the unseen data\n",
    "    y_unseen = model.predict(X_unseen)\n",
    "\n",
    "    # Add the predictions to the DataFrame\n",
    "    if regression:\n",
    "        unseen_df[\"score\"] = y_unseen\n",
    "    else:\n",
    "        unseen_df[\"label\"] = y_unseen\n",
    "\n",
    "    return unseen_df"
   ]
  },
  {
   "cell_type": "code",
   "execution_count": 34,
   "metadata": {},
   "outputs": [],
   "source": [
    "def predict_xgboost(model, unseen_df, tfidf_vectorizer):\n",
    "    \"\"\"\n",
    "    Predicts the labels for the unseen data\n",
    "    \"\"\"\n",
    "    # Fit and transform the 'text' column\n",
    "    X_unseen = tfidf_vectorizer.fit_transform(unseen_df[\"text\"])\n",
    "\n",
    "    # Create the DMatrix\n",
    "    d_unseen = xgb.DMatrix(X_unseen)\n",
    "\n",
    "    # Make predictions\n",
    "    y_unseen = model.predict(d_unseen)\n",
    "\n",
    "    # Add the predictions to the DataFrame\n",
    "    unseen_df[\"score\"] = y_unseen\n",
    "\n",
    "    return unseen_df"
   ]
  },
  {
   "cell_type": "markdown",
   "metadata": {},
   "source": [
    "#### MODELING PIPELINE"
   ]
  },
  {
   "cell_type": "code",
   "execution_count": 35,
   "metadata": {},
   "outputs": [],
   "source": [
    "# Specify the path to your training data folder\n",
    "folder_path = \"C:/Users/fdmol/Desktop/AMLO-NLP/src/data/training_data/\""
   ]
  },
  {
   "cell_type": "code",
   "execution_count": 37,
   "metadata": {},
   "outputs": [
    {
     "name": "stdout",
     "output_type": "stream",
     "text": [
      "Mean Squared Error: 0.0020967836410646984\n",
      "R^2 Score: 0.04109913896256623\n"
     ]
    }
   ],
   "source": [
    "# Train the XGBoost model\n",
    "\n",
    "training_df = create_regression_training_df(\n",
    "    \"C:/Users/fdmol/Desktop/AMLO-NLP/src/data/training_data/\",\n",
    "    \"C:/Users/fdmol/Desktop/AMLO-NLP/src/data/presidents_dialogues/\",\n",
    ")\n",
    "\n",
    "xgboost_model, tfidf_vectorizer = train_xgboost(training_df)\n",
    "\n",
    "# Create the unseen data DataFrame\n",
    "unseen_df = create_unseen_df(training_set, training_df)\n",
    "\n",
    "# Predict the labels for the unseen data\n",
    "results_df = predict_xgboost(xgboost_model, unseen_df, tfidf_vectorizer)\n",
    "\n",
    "# Concat the results and the training data\n",
    "\n",
    "complete_df = pd.concat([training_df, results_df], ignore_index=True)\n",
    "\n",
    "scaler = MinMaxScaler()\n",
    "\n",
    "# Normalize the score\n",
    "scores = np.array(complete_df[\"score\"]).reshape(-1, 1)\n",
    "\n",
    "scaler.fit(scores)\n",
    "\n",
    "complete_df[\"score\"] = scaler.transform(scores)\n",
    "\n",
    "complete_df.head()\n",
    "\n",
    "# Save the results to a CSV file\n",
    "\n",
    "# Add a column with the length of the text\n",
    "\n",
    "complete_df[\"num_words\"] = complete_df[\"text\"].apply(lambda x: len(x.split()))\n",
    "\n",
    "complete_df.to_csv(\n",
    "    \"C:/Users/fdmol/Desktop/AMLO-NLP/src/data/xgb_agressivity_scores.csv\", index=False\n",
    ")"
   ]
  },
  {
   "cell_type": "code",
   "execution_count": 38,
   "metadata": {},
   "outputs": [],
   "source": [
    "# Remove text column\n",
    "complete_df = complete_df.drop(\"text\", axis=1)\n",
    "\n",
    "# Save the results to a CSV file\n",
    "complete_df.to_csv(\n",
    "    \"C:/Users/fdmol/Desktop/AMLO-NLP/src/data/xgb_agressivity_scores_no_words.csv\",\n",
    "    index=False,\n",
    ")"
   ]
  },
  {
   "cell_type": "code",
   "execution_count": 41,
   "metadata": {},
   "outputs": [
    {
     "data": {
      "text/html": [
       "<div>\n",
       "<style scoped>\n",
       "    .dataframe tbody tr th:only-of-type {\n",
       "        vertical-align: middle;\n",
       "    }\n",
       "\n",
       "    .dataframe tbody tr th {\n",
       "        vertical-align: top;\n",
       "    }\n",
       "\n",
       "    .dataframe thead th {\n",
       "        text-align: right;\n",
       "    }\n",
       "</style>\n",
       "<table border=\"1\" class=\"dataframe\">\n",
       "  <thead>\n",
       "    <tr style=\"text-align: right;\">\n",
       "      <th></th>\n",
       "      <th>id</th>\n",
       "      <th>text</th>\n",
       "      <th>score</th>\n",
       "    </tr>\n",
       "  </thead>\n",
       "  <tbody>\n",
       "    <tr>\n",
       "      <th>0</th>\n",
       "      <td>20190325</td>\n",
       "      <td>existe prensa fifi, invención, existe partido ...</td>\n",
       "      <td>0.012907</td>\n",
       "    </tr>\n",
       "    <tr>\n",
       "      <th>1</th>\n",
       "      <td>20190430</td>\n",
       "      <td>jesús explicaba significado política neolibera...</td>\n",
       "      <td>0.088387</td>\n",
       "    </tr>\n",
       "    <tr>\n",
       "      <th>2</th>\n",
       "      <td>20191218</td>\n",
       "      <td>otras organizaciones supuestamente independien...</td>\n",
       "      <td>0.010309</td>\n",
       "    </tr>\n",
       "    <tr>\n",
       "      <th>3</th>\n",
       "      <td>20200113</td>\n",
       "      <td>política educativa estaba orientada dejar merc...</td>\n",
       "      <td>0.046207</td>\n",
       "    </tr>\n",
       "    <tr>\n",
       "      <th>4</th>\n",
       "      <td>20201125</td>\n",
       "      <td>sí, bueno, general decirles toda violencia pad...</td>\n",
       "      <td>0.109625</td>\n",
       "    </tr>\n",
       "    <tr>\n",
       "      <th>5</th>\n",
       "      <td>20210219</td>\n",
       "      <td>mire: ‘asfixia crisis gas economía mexicana’. ...</td>\n",
       "      <td>0.044498</td>\n",
       "    </tr>\n",
       "    <tr>\n",
       "      <th>6</th>\n",
       "      <td>20210324</td>\n",
       "      <td>único quiero quede claro nosotros permitimos r...</td>\n",
       "      <td>0.055479</td>\n",
       "    </tr>\n",
       "    <tr>\n",
       "      <th>7</th>\n",
       "      <td>20210430</td>\n",
       "      <td>van ver frase textual tribunal cuando dice ine...</td>\n",
       "      <td>0.047199</td>\n",
       "    </tr>\n",
       "    <tr>\n",
       "      <th>8</th>\n",
       "      <td>20210719</td>\n",
       "      <td>antes atendían sentidas demandas,\\nguerrero to...</td>\n",
       "      <td>0.156428</td>\n",
       "    </tr>\n",
       "    <tr>\n",
       "      <th>9</th>\n",
       "      <td>20210810</td>\n",
       "      <td>no, está bien tribunal, demostrado actuar rect...</td>\n",
       "      <td>0.092878</td>\n",
       "    </tr>\n",
       "    <tr>\n",
       "      <th>10</th>\n",
       "      <td>20211004</td>\n",
       "      <td>esto tiene doctrina hipocresía pues bastante e...</td>\n",
       "      <td>0.014890</td>\n",
       "    </tr>\n",
       "    <tr>\n",
       "      <th>11</th>\n",
       "      <td>20211011</td>\n",
       "      <td>hay quienes quieren, beneficia marco legal act...</td>\n",
       "      <td>0.218548</td>\n",
       "    </tr>\n",
       "    <tr>\n",
       "      <th>12</th>\n",
       "      <td>20211215</td>\n",
       "      <td>todo periodo neoliberal, discurso demagógico p...</td>\n",
       "      <td>0.094286</td>\n",
       "    </tr>\n",
       "    <tr>\n",
       "      <th>13</th>\n",
       "      <td>20211222</td>\n",
       "      <td>muchos años, méxico compraba gasolinas, produc...</td>\n",
       "      <td>0.072223</td>\n",
       "    </tr>\n",
       "    <tr>\n",
       "      <th>14</th>\n",
       "      <td>20211223</td>\n",
       "      <td>prevaleció mucho tiempo idea podían resolverse...</td>\n",
       "      <td>0.031349</td>\n",
       "    </tr>\n",
       "    <tr>\n",
       "      <th>15</th>\n",
       "      <td>20220211</td>\n",
       "      <td>pues buen tema. verdad, quiero hacer, tener op...</td>\n",
       "      <td>0.107094</td>\n",
       "    </tr>\n",
       "    <tr>\n",
       "      <th>16</th>\n",
       "      <td>20220413</td>\n",
       "      <td>bueno, pues estamos esperando loret mola infor...</td>\n",
       "      <td>0.063601</td>\n",
       "    </tr>\n",
       "    <tr>\n",
       "      <th>17</th>\n",
       "      <td>20220603</td>\n",
       "      <td>luego nosotros opusimos eso, entregaron  conce...</td>\n",
       "      <td>0.253695</td>\n",
       "    </tr>\n",
       "    <tr>\n",
       "      <th>18</th>\n",
       "      <td>20230310</td>\n",
       "      <td>nada más quede claro: nosotros espiamos nadie,...</td>\n",
       "      <td>0.134803</td>\n",
       "    </tr>\n",
       "    <tr>\n",
       "      <th>19</th>\n",
       "      <td>20230719</td>\n",
       "      <td>hoy miércoles, día destina informar quién quié...</td>\n",
       "      <td>0.071518</td>\n",
       "    </tr>\n",
       "    <tr>\n",
       "      <th>20</th>\n",
       "      <td>20230814</td>\n",
       "      <td>estamos caso especial gobernadora muy reaccion...</td>\n",
       "      <td>0.034222</td>\n",
       "    </tr>\n",
       "    <tr>\n",
       "      <th>21</th>\n",
       "      <td>20231023</td>\n",
       "      <td>comparto defiendan privilegios hace muy injust...</td>\n",
       "      <td>0.204708</td>\n",
       "    </tr>\n",
       "  </tbody>\n",
       "</table>\n",
       "</div>"
      ],
      "text/plain": [
       "          id                                               text     score\n",
       "0   20190325  existe prensa fifi, invención, existe partido ...  0.012907\n",
       "1   20190430  jesús explicaba significado política neolibera...  0.088387\n",
       "2   20191218  otras organizaciones supuestamente independien...  0.010309\n",
       "3   20200113  política educativa estaba orientada dejar merc...  0.046207\n",
       "4   20201125  sí, bueno, general decirles toda violencia pad...  0.109625\n",
       "5   20210219  mire: ‘asfixia crisis gas economía mexicana’. ...  0.044498\n",
       "6   20210324  único quiero quede claro nosotros permitimos r...  0.055479\n",
       "7   20210430  van ver frase textual tribunal cuando dice ine...  0.047199\n",
       "8   20210719  antes atendían sentidas demandas,\\nguerrero to...  0.156428\n",
       "9   20210810  no, está bien tribunal, demostrado actuar rect...  0.092878\n",
       "10  20211004  esto tiene doctrina hipocresía pues bastante e...  0.014890\n",
       "11  20211011  hay quienes quieren, beneficia marco legal act...  0.218548\n",
       "12  20211215  todo periodo neoliberal, discurso demagógico p...  0.094286\n",
       "13  20211222  muchos años, méxico compraba gasolinas, produc...  0.072223\n",
       "14  20211223  prevaleció mucho tiempo idea podían resolverse...  0.031349\n",
       "15  20220211  pues buen tema. verdad, quiero hacer, tener op...  0.107094\n",
       "16  20220413  bueno, pues estamos esperando loret mola infor...  0.063601\n",
       "17  20220603  luego nosotros opusimos eso, entregaron  conce...  0.253695\n",
       "18  20230310  nada más quede claro: nosotros espiamos nadie,...  0.134803\n",
       "19  20230719  hoy miércoles, día destina informar quién quié...  0.071518\n",
       "20  20230814  estamos caso especial gobernadora muy reaccion...  0.034222\n",
       "21  20231023  comparto defiendan privilegios hace muy injust...  0.204708"
      ]
     },
     "execution_count": 41,
     "metadata": {},
     "output_type": "execute_result"
    }
   ],
   "source": [
    "training_df"
   ]
  },
  {
   "cell_type": "code",
   "execution_count": 39,
   "metadata": {},
   "outputs": [
    {
     "data": {
      "text/plain": [
       "Text(0.5, 1.0, 'Distribution of Aggressivity Scores')"
      ]
     },
     "execution_count": 39,
     "metadata": {},
     "output_type": "execute_result"
    },
    {
     "data": {
      "image/png": "[encoded data removed]",
      "text/plain": [
       "<Figure size 640x480 with 1 Axes>"
      ]
     },
     "metadata": {},
     "output_type": "display_data"
    }
   ],
   "source": [
    "# Plot histogram of the scores\n",
    "\n",
    "import matplotlib.pyplot as plt\n",
    "import seaborn as sns\n",
    "\n",
    "sns.set()\n",
    "plt.hist(complete_df[\"score\"], bins=20)\n",
    "plt.xlabel(\"Score\")\n",
    "plt.ylabel(\"Frequency\")\n",
    "plt.title(\"Distribution of Aggressivity Scores\")"
   ]
  },
  {
   "cell_type": "markdown",
   "metadata": {},
   "source": [
    "### Possible models to use:\n",
    "\n",
    "Summarization:\n",
    "\n",
    "https://huggingface.co/mrm8488/bert2bert_shared-spanish-finetuned-summarization\n",
    "\n",
    "\n",
    "Sentiment Analysis:\n",
    "\n",
    "https://huggingface.co/finiteautomata/beto-sentiment-analysis\n",
    "\n",
    "\n",
    "Emotion Analysis:\n",
    "\n",
    "https://huggingface.co/finiteautomata/beto-emotion-analysis\n"
   ]
  }
 ],
 "metadata": {
  "kernelspec": {
   "display_name": "Python 3",
   "language": "python",
   "name": "python3"
  },
  "language_info": {
   "codemirror_mode": {
    "name": "ipython",
    "version": 3
   },
   "file_extension": ".py",
   "mimetype": "text/x-python",
   "name": "python",
   "nbconvert_exporter": "python",
   "pygments_lexer": "ipython3",
   "version": "3.11.3"
  }
 },
 "nbformat": 4,
 "nbformat_minor": 2
}
