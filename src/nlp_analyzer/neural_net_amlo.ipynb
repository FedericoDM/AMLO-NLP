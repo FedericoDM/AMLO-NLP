{
 "cells": [
  {
   "cell_type": "markdown",
   "metadata": {},
   "source": [
    "# AMLO Exploratory Data Analysis"
   ]
  },
  {
   "cell_type": "code",
   "execution_count": 61,
   "metadata": {},
   "outputs": [],
   "source": [
    "import os\n",
    "from collections import Counter\n",
    "\n",
    "import numpy as np\n",
    "import pandas as pd\n",
    "import torch\n",
    "import torch.nn as nn\n",
    "import torch.nn.functional as F\n",
    "import torch.optim as optim\n",
    "from torch.nn.utils.rnn import pad_sequence\n",
    "from torch.utils.data import DataLoader, Dataset\n",
    "from tqdm import tqdm\n",
    "\n",
    "# Local imports\n",
    "from training_set import TrainingSet\n",
    "from xgb_model import XGBoost"
   ]
  },
  {
   "cell_type": "markdown",
   "metadata": {},
   "source": [
    "#### CONSTANTS"
   ]
  },
  {
   "cell_type": "code",
   "execution_count": 62,
   "metadata": {},
   "outputs": [],
   "source": [
    "PATH = \"C:/Users/fdmol/Desktop/AMLO-NLP/src/data/text_files/\"\n",
    "LABELED_PATH = \"C:/Users/fdmol/Desktop/AMLO-NLP/src/data/amlo_labeling.xlsx\""
   ]
  },
  {
   "cell_type": "markdown",
   "metadata": {},
   "source": [
    "### Pipeline"
   ]
  },
  {
   "cell_type": "markdown",
   "metadata": {},
   "source": [
    "Create training set, along with its correspoding txt files"
   ]
  },
  {
   "cell_type": "code",
   "execution_count": 63,
   "metadata": {},
   "outputs": [
    {
     "name": "stderr",
     "output_type": "stream",
     "text": [
      " 47%|████▋     | 587/1246 [00:00<00:00, 5863.95it/s]"
     ]
    },
    {
     "name": "stdout",
     "output_type": "stream",
     "text": [
      "Conference 20181207 is not agressive\n",
      "Conference 20190102 is not agressive\n",
      "Conference 20190111 is not agressive\n",
      "Conference 20190227 is not agressive\n",
      "Conference 20200128 is not agressive\n",
      "Conference 20210510 is not agressive\n",
      "Conference 20221125 is not agressive\n"
     ]
    },
    {
     "name": "stderr",
     "output_type": "stream",
     "text": [
      "100%|██████████| 1246/1246 [00:00<00:00, 5468.31it/s]\n"
     ]
    }
   ],
   "source": [
    "all_files = os.listdir(PATH)\n",
    "\n",
    "training_set = TrainingSet(remove_stopwords=True)\n",
    "training_set.create_training_set()"
   ]
  },
  {
   "cell_type": "code",
   "execution_count": 64,
   "metadata": {},
   "outputs": [],
   "source": [
    "# Specify the path to your training data folder\n",
    "folder_path = \"C:/Users/fdmol/Desktop/AMLO-NLP/src/data/training_data/\"\n",
    "\n",
    "param = {\n",
    "    \"max_depth\": 8,\n",
    "    \"eta\": 0.15,\n",
    "    \"objective\": \"reg:squarederror\",\n",
    "    \"eval_metric\": \"rmse\",\n",
    "}\n",
    "\n",
    "\n",
    "xgb_model = XGBoost(\n",
    "    folder_path=folder_path,\n",
    "    dialogues_path=training_set.DIALOGUES_PATH,\n",
    "    xgb_params=param,\n",
    ")\n",
    "\n",
    "\n",
    "xgb_model.create_regression_training_df()\n",
    "xgb_model.create_unseen_df()\n"
   ]
  },
  {
   "cell_type": "code",
   "execution_count": 65,
   "metadata": {},
   "outputs": [],
   "source": [
    "training_df = xgb_model.training_df\n",
    "unseen_df = xgb_model.unseen_df\n"
   ]
  },
  {
   "cell_type": "markdown",
   "metadata": {},
   "source": [
    "### Trying to implement a NNet model"
   ]
  },
  {
   "cell_type": "code",
   "execution_count": 66,
   "metadata": {},
   "outputs": [],
   "source": [
    "def build_vocab(texts, tokenizer, min_freq=1):\n",
    "    \"\"\"\n",
    "    Builds a vocabulary from the given texts based on frequency.\n",
    "\n",
    "    Args:\n",
    "    - texts (list of str): List of text samples.\n",
    "    - tokenizer (callable): Function to tokenize text.\n",
    "    - min_freq (int): Minimum frequency for a word to be included in the vocab.\n",
    "\n",
    "    Returns:\n",
    "    - vocab (dict): Mapping of word to unique index.\n",
    "    \"\"\"\n",
    "    # Tokenize all texts and count word frequencies\n",
    "    counter = Counter(token for text in texts for token in tokenizer(text))\n",
    "\n",
    "    # Filter words by min_freq and assign unique indices\n",
    "    vocab = {\n",
    "        word: i + 2\n",
    "        for i, (word, freq) in enumerate(counter.items())\n",
    "        if freq >= min_freq\n",
    "    }  # Start indexing from 2\n",
    "\n",
    "    # Special tokens\n",
    "    vocab[\"<pad>\"] = 0  # Padding token\n",
    "    vocab[\"<unk>\"] = 1  # Unknown word token\n",
    "\n",
    "    return vocab\n",
    "\n",
    "\n",
    "# Example tokenizer function\n",
    "def tokenizer(text):\n",
    "    return text.split()"
   ]
  },
  {
   "cell_type": "code",
   "execution_count": 67,
   "metadata": {},
   "outputs": [],
   "source": [
    "class AggressivityDataset(Dataset):\n",
    "    def __init__(self, texts, vocab, scores=None):\n",
    "        \"\"\"\n",
    "        texts: List of text data\n",
    "        vocab: A dictionary mapping tokens to indices\n",
    "        scores: List of aggressivity scores (for training data); None for unseen data\n",
    "        \"\"\"\n",
    "        self.texts = [self.numericalize(text, vocab) for text in texts]\n",
    "        self.scores = scores\n",
    "\n",
    "    def numericalize(self, text, vocab):\n",
    "        # Simple tokenization and numericalization based on the provided vocab\n",
    "        tokenized = (\n",
    "            text.lower().split()\n",
    "        )  # Simple whitespace tokenization, adjust as needed\n",
    "        return [\n",
    "            vocab.get(token, 0) for token in tokenized\n",
    "        ]  # 0 as the index for unknown words\n",
    "\n",
    "    def __len__(self):\n",
    "        return len(self.texts)\n",
    "\n",
    "    def __getitem__(self, idx):\n",
    "        item = {\"text\": self.texts[idx]}\n",
    "        if self.scores is not None:  # Handle cases where scores might not be available\n",
    "            item[\"score\"] = self.scores[idx]\n",
    "        return item\n",
    "\n",
    "\n",
    "def collate_fn(batch):\n",
    "    text_sequences = [\n",
    "        torch.tensor(item[\"text\"], dtype=torch.long) for item in batch\n",
    "    ]  # Convert each sequence to a tensor\n",
    "    scores = torch.tensor([item[\"score\"] for item in batch], dtype=torch.float)\n",
    "\n",
    "    # Pad the sequences to have the same length\n",
    "    text_sequences_padded = pad_sequence(\n",
    "        text_sequences, batch_first=True, padding_value=0\n",
    "    )\n",
    "\n",
    "    return {\"text\": text_sequences_padded, \"score\": scores}"
   ]
  },
  {
   "cell_type": "code",
   "execution_count": 68,
   "metadata": {},
   "outputs": [],
   "source": [
    "# Build vocab from your training_df['text']\n",
    "vocab = build_vocab(training_df[\"text\"].tolist(), tokenizer)\n",
    "\n",
    "training_dataset = AggressivityDataset(\n",
    "    training_df[\"text\"].tolist(), vocab, training_df[\"score\"].tolist()\n",
    ")\n",
    "\n",
    "\n",
    "unseen_dataset = AggressivityDataset(unseen_df[\"text\"].tolist(), vocab, scores=None)\n",
    "\n",
    "batch_size = 32  # Adjust batch size according to your need"
   ]
  },
  {
   "cell_type": "code",
   "execution_count": 69,
   "metadata": {},
   "outputs": [],
   "source": [
    "train_loader = DataLoader(\n",
    "    training_dataset, batch_size=batch_size, shuffle=True, collate_fn=collate_fn\n",
    ")\n",
    "unseen_loader = DataLoader(\n",
    "    unseen_dataset, batch_size=32, shuffle=False, collate_fn=collate_fn\n",
    ")"
   ]
  },
  {
   "cell_type": "markdown",
   "metadata": {},
   "source": [
    "## Define Neural Network model"
   ]
  },
  {
   "cell_type": "code",
   "execution_count": 70,
   "metadata": {},
   "outputs": [],
   "source": [
    "class NeuralRegressor(nn.Module):\n",
    "    def __init__(self, vocab_size, embedding_dim):\n",
    "        super(NeuralRegressor, self).__init__()\n",
    "        self.embedding = nn.Embedding(vocab_size, embedding_dim, padding_idx=0)\n",
    "        self.fc = nn.Linear(embedding_dim, 1)\n",
    "\n",
    "    def forward(self, x):\n",
    "        embedded = self.embedding(x)\n",
    "        pooled = F.avg_pool2d(embedded, (embedded.shape[1], 1)).squeeze(\n",
    "            1\n",
    "        )  # Average pooling\n",
    "        output = self.fc(pooled)\n",
    "        return output"
   ]
  },
  {
   "cell_type": "code",
   "execution_count": 60,
   "metadata": {},
   "outputs": [
    {
     "name": "stdout",
     "output_type": "stream",
     "text": [
      "Epoch 1, Loss: 0.0055724638514220715\n",
      "Epoch 2, Loss: 0.005368649493902922\n",
      "Epoch 3, Loss: 0.0051779067143797874\n",
      "Epoch 4, Loss: 0.004998402204364538\n",
      "Epoch 5, Loss: 0.004828650038689375\n",
      "Epoch 6, Loss: 0.004667455796152353\n",
      "Epoch 7, Loss: 0.004513794556260109\n",
      "Epoch 8, Loss: 0.00436673779040575\n",
      "Epoch 9, Loss: 0.004225453827530146\n",
      "Epoch 10, Loss: 0.0040892343968153\n",
      "Epoch 11, Loss: 0.003957508131861687\n",
      "Epoch 12, Loss: 0.0038298284634947777\n",
      "Epoch 13, Loss: 0.003705863608047366\n",
      "Epoch 14, Loss: 0.003585378173738718\n",
      "Epoch 15, Loss: 0.003468212904408574\n",
      "Epoch 16, Loss: 0.003354267915710807\n",
      "Epoch 17, Loss: 0.0032434870954602957\n",
      "Epoch 18, Loss: 0.0031358483247458935\n",
      "Epoch 19, Loss: 0.0030313502065837383\n",
      "Epoch 20, Loss: 0.0029300020541995764\n",
      "Epoch 21, Loss: 0.002831819234415889\n",
      "Epoch 22, Loss: 0.00273680966347456\n",
      "Epoch 23, Loss: 0.002644962863996625\n",
      "Epoch 24, Loss: 0.002556247403845191\n",
      "Epoch 25, Loss: 0.0024706004187464714\n",
      "Epoch 26, Loss: 0.002387929242104292\n",
      "Epoch 27, Loss: 0.002308111870661378\n",
      "Epoch 28, Loss: 0.002231005346402526\n",
      "Epoch 29, Loss: 0.0021564513444900513\n",
      "Epoch 30, Loss: 0.0020842873491346836\n",
      "Epoch 31, Loss: 0.0020143589936196804\n",
      "Epoch 32, Loss: 0.0019465272780507803\n",
      "Epoch 33, Loss: 0.0018806755542755127\n",
      "Epoch 34, Loss: 0.0018167125526815653\n",
      "Epoch 35, Loss: 0.0017545707523822784\n",
      "Epoch 36, Loss: 0.001694203820079565\n",
      "Epoch 37, Loss: 0.001635575550608337\n",
      "Epoch 38, Loss: 0.0015786564908921719\n",
      "Epoch 39, Loss: 0.0015234136953949928\n",
      "Epoch 40, Loss: 0.0014698063023388386\n",
      "Epoch 41, Loss: 0.0014177813427522779\n",
      "Epoch 42, Loss: 0.0013672770000994205\n",
      "Epoch 43, Loss: 0.0013182213297113776\n",
      "Epoch 44, Loss: 0.0012705413391813636\n",
      "Epoch 45, Loss: 0.0012241676449775696\n",
      "Epoch 46, Loss: 0.0011790393618866801\n",
      "Epoch 47, Loss: 0.0011351103894412518\n",
      "Epoch 48, Loss: 0.0010923475492745638\n",
      "Epoch 49, Loss: 0.001050731516443193\n",
      "Epoch 50, Loss: 0.0010102513479068875\n",
      "Epoch 51, Loss: 0.0009709004661999643\n",
      "Epoch 52, Loss: 0.0009326710714958608\n",
      "Epoch 53, Loss: 0.0008955519879236817\n",
      "Epoch 54, Loss: 0.0008595261024311185\n",
      "Epoch 55, Loss: 0.000824572634883225\n",
      "Epoch 56, Loss: 0.0007906701066531241\n",
      "Epoch 57, Loss: 0.0007577995420433581\n",
      "Epoch 58, Loss: 0.000725946098100394\n",
      "Epoch 59, Loss: 0.0006951031973585486\n",
      "Epoch 60, Loss: 0.0006652689771726727\n",
      "Epoch 61, Loss: 0.0006364447181113064\n",
      "Epoch 62, Loss: 0.0006086321664042771\n",
      "Epoch 63, Loss: 0.0005818298668600619\n",
      "Epoch 64, Loss: 0.000556032347958535\n",
      "Epoch 65, Loss: 0.0005312287830747664\n",
      "Epoch 66, Loss: 0.0005074059590697289\n",
      "Epoch 67, Loss: 0.00048454967327415943\n",
      "Epoch 68, Loss: 0.0004626465670298785\n",
      "Epoch 69, Loss: 0.0004416855226736516\n",
      "Epoch 70, Loss: 0.00042165652848780155\n",
      "Epoch 71, Loss: 0.00040255009662359953\n",
      "Epoch 72, Loss: 0.00038435455644503236\n",
      "Epoch 73, Loss: 0.00036705489037558436\n",
      "Epoch 74, Loss: 0.00035063186078332365\n",
      "Epoch 75, Loss: 0.0003350628539919853\n",
      "Epoch 76, Loss: 0.00032032272429205477\n",
      "Epoch 77, Loss: 0.00030638548196293414\n",
      "Epoch 78, Loss: 0.0002932247007265687\n",
      "Epoch 79, Loss: 0.0002808141871355474\n",
      "Epoch 80, Loss: 0.00026912681641988456\n",
      "Epoch 81, Loss: 0.0002581339795142412\n",
      "Epoch 82, Loss: 0.00024780473904684186\n",
      "Epoch 83, Loss: 0.00023810639686416835\n",
      "Epoch 84, Loss: 0.00022900447947904468\n",
      "Epoch 85, Loss: 0.00022046451340429485\n",
      "Epoch 86, Loss: 0.0002124522434314713\n",
      "Epoch 87, Loss: 0.00020493505871854722\n",
      "Epoch 88, Loss: 0.0001978812797460705\n",
      "Epoch 89, Loss: 0.00019126063853036612\n",
      "Epoch 90, Loss: 0.0001850434491643682\n",
      "Epoch 91, Loss: 0.00017920072423294187\n",
      "Epoch 92, Loss: 0.00017370433488395065\n",
      "Epoch 93, Loss: 0.00016852763656061143\n",
      "Epoch 94, Loss: 0.0001636457454878837\n",
      "Epoch 95, Loss: 0.00015903574239928275\n",
      "Epoch 96, Loss: 0.00015467646881006658\n",
      "Epoch 97, Loss: 0.00015054871619213372\n",
      "Epoch 98, Loss: 0.00014663426554761827\n",
      "Epoch 99, Loss: 0.0001429160765837878\n",
      "Epoch 100, Loss: 0.00013937830226495862\n"
     ]
    }
   ],
   "source": [
    "device = torch.device(\"cuda\" if torch.cuda.is_available() else \"cpu\")\n",
    "model = NeuralRegressor(vocab_size=len(vocab) + 1, embedding_dim=100).to(device)\n",
    "\n",
    "criterion = nn.MSELoss()\n",
    "optimizer = optim.Adam(model.parameters(), lr=0.001)\n",
    "\n",
    "num_epochs = 100\n",
    "\n",
    "for epoch in range(num_epochs):\n",
    "    model.train()\n",
    "    for batch in train_loader:\n",
    "        inputs, targets = batch[\"text\"].to(device), batch[\"score\"].to(device)\n",
    "\n",
    "        optimizer.zero_grad()\n",
    "        outputs = model(inputs).squeeze(1)\n",
    "        loss = criterion(outputs, targets)\n",
    "        loss.backward()\n",
    "        optimizer.step()\n",
    "\n",
    "    print(f\"Epoch {epoch+1}, Loss: {loss.item()}\")"
   ]
  },
  {
   "cell_type": "markdown",
   "metadata": {},
   "source": [
    "### Predict score"
   ]
  },
  {
   "cell_type": "code",
   "execution_count": 71,
   "metadata": {},
   "outputs": [
    {
     "ename": "KeyError",
     "evalue": "'score'",
     "output_type": "error",
     "traceback": [
      "\u001b[1;31m---------------------------------------------------------------------------\u001b[0m",
      "\u001b[1;31mKeyError\u001b[0m                                  Traceback (most recent call last)",
      "Cell \u001b[1;32mIn[71], line 6\u001b[0m\n\u001b[0;32m      4\u001b[0m predictions \u001b[38;5;241m=\u001b[39m []\n\u001b[0;32m      5\u001b[0m \u001b[38;5;28;01mwith\u001b[39;00m torch\u001b[38;5;241m.\u001b[39mno_grad():\n\u001b[1;32m----> 6\u001b[0m     \u001b[38;5;28;01mfor\u001b[39;00m batch \u001b[38;5;129;01min\u001b[39;00m unseen_loader:\n\u001b[0;32m      7\u001b[0m         inputs \u001b[38;5;241m=\u001b[39m batch[\u001b[38;5;124m\"\u001b[39m\u001b[38;5;124mtext\u001b[39m\u001b[38;5;124m\"\u001b[39m]\u001b[38;5;241m.\u001b[39mto(device)\n\u001b[0;32m      8\u001b[0m         outputs \u001b[38;5;241m=\u001b[39m model(inputs)\u001b[38;5;241m.\u001b[39msqueeze(\u001b[38;5;241m1\u001b[39m)\n",
      "File \u001b[1;32mc:\\Users\\fdmol\\AppData\\Local\\Programs\\Python\\Python311\\Lib\\site-packages\\torch\\utils\\data\\dataloader.py:630\u001b[0m, in \u001b[0;36m_BaseDataLoaderIter.__next__\u001b[1;34m(self)\u001b[0m\n\u001b[0;32m    627\u001b[0m \u001b[38;5;28;01mif\u001b[39;00m \u001b[38;5;28mself\u001b[39m\u001b[38;5;241m.\u001b[39m_sampler_iter \u001b[38;5;129;01mis\u001b[39;00m \u001b[38;5;28;01mNone\u001b[39;00m:\n\u001b[0;32m    628\u001b[0m     \u001b[38;5;66;03m# TODO(https://github.com/pytorch/pytorch/issues/76750)\u001b[39;00m\n\u001b[0;32m    629\u001b[0m     \u001b[38;5;28mself\u001b[39m\u001b[38;5;241m.\u001b[39m_reset()  \u001b[38;5;66;03m# type: ignore[call-arg]\u001b[39;00m\n\u001b[1;32m--> 630\u001b[0m data \u001b[38;5;241m=\u001b[39m \u001b[38;5;28;43mself\u001b[39;49m\u001b[38;5;241;43m.\u001b[39;49m\u001b[43m_next_data\u001b[49m\u001b[43m(\u001b[49m\u001b[43m)\u001b[49m\n\u001b[0;32m    631\u001b[0m \u001b[38;5;28mself\u001b[39m\u001b[38;5;241m.\u001b[39m_num_yielded \u001b[38;5;241m+\u001b[39m\u001b[38;5;241m=\u001b[39m \u001b[38;5;241m1\u001b[39m\n\u001b[0;32m    632\u001b[0m \u001b[38;5;28;01mif\u001b[39;00m \u001b[38;5;28mself\u001b[39m\u001b[38;5;241m.\u001b[39m_dataset_kind \u001b[38;5;241m==\u001b[39m _DatasetKind\u001b[38;5;241m.\u001b[39mIterable \u001b[38;5;129;01mand\u001b[39;00m \\\n\u001b[0;32m    633\u001b[0m         \u001b[38;5;28mself\u001b[39m\u001b[38;5;241m.\u001b[39m_IterableDataset_len_called \u001b[38;5;129;01mis\u001b[39;00m \u001b[38;5;129;01mnot\u001b[39;00m \u001b[38;5;28;01mNone\u001b[39;00m \u001b[38;5;129;01mand\u001b[39;00m \\\n\u001b[0;32m    634\u001b[0m         \u001b[38;5;28mself\u001b[39m\u001b[38;5;241m.\u001b[39m_num_yielded \u001b[38;5;241m>\u001b[39m \u001b[38;5;28mself\u001b[39m\u001b[38;5;241m.\u001b[39m_IterableDataset_len_called:\n",
      "File \u001b[1;32mc:\\Users\\fdmol\\AppData\\Local\\Programs\\Python\\Python311\\Lib\\site-packages\\torch\\utils\\data\\dataloader.py:674\u001b[0m, in \u001b[0;36m_SingleProcessDataLoaderIter._next_data\u001b[1;34m(self)\u001b[0m\n\u001b[0;32m    672\u001b[0m \u001b[38;5;28;01mdef\u001b[39;00m \u001b[38;5;21m_next_data\u001b[39m(\u001b[38;5;28mself\u001b[39m):\n\u001b[0;32m    673\u001b[0m     index \u001b[38;5;241m=\u001b[39m \u001b[38;5;28mself\u001b[39m\u001b[38;5;241m.\u001b[39m_next_index()  \u001b[38;5;66;03m# may raise StopIteration\u001b[39;00m\n\u001b[1;32m--> 674\u001b[0m     data \u001b[38;5;241m=\u001b[39m \u001b[38;5;28;43mself\u001b[39;49m\u001b[38;5;241;43m.\u001b[39;49m\u001b[43m_dataset_fetcher\u001b[49m\u001b[38;5;241;43m.\u001b[39;49m\u001b[43mfetch\u001b[49m\u001b[43m(\u001b[49m\u001b[43mindex\u001b[49m\u001b[43m)\u001b[49m  \u001b[38;5;66;03m# may raise StopIteration\u001b[39;00m\n\u001b[0;32m    675\u001b[0m     \u001b[38;5;28;01mif\u001b[39;00m \u001b[38;5;28mself\u001b[39m\u001b[38;5;241m.\u001b[39m_pin_memory:\n\u001b[0;32m    676\u001b[0m         data \u001b[38;5;241m=\u001b[39m _utils\u001b[38;5;241m.\u001b[39mpin_memory\u001b[38;5;241m.\u001b[39mpin_memory(data, \u001b[38;5;28mself\u001b[39m\u001b[38;5;241m.\u001b[39m_pin_memory_device)\n",
      "File \u001b[1;32mc:\\Users\\fdmol\\AppData\\Local\\Programs\\Python\\Python311\\Lib\\site-packages\\torch\\utils\\data\\_utils\\fetch.py:54\u001b[0m, in \u001b[0;36m_MapDatasetFetcher.fetch\u001b[1;34m(self, possibly_batched_index)\u001b[0m\n\u001b[0;32m     52\u001b[0m \u001b[38;5;28;01melse\u001b[39;00m:\n\u001b[0;32m     53\u001b[0m     data \u001b[38;5;241m=\u001b[39m \u001b[38;5;28mself\u001b[39m\u001b[38;5;241m.\u001b[39mdataset[possibly_batched_index]\n\u001b[1;32m---> 54\u001b[0m \u001b[38;5;28;01mreturn\u001b[39;00m \u001b[38;5;28;43mself\u001b[39;49m\u001b[38;5;241;43m.\u001b[39;49m\u001b[43mcollate_fn\u001b[49m\u001b[43m(\u001b[49m\u001b[43mdata\u001b[49m\u001b[43m)\u001b[49m\n",
      "Cell \u001b[1;32mIn[67], line 34\u001b[0m, in \u001b[0;36mcollate_fn\u001b[1;34m(batch)\u001b[0m\n\u001b[0;32m     30\u001b[0m \u001b[38;5;28;01mdef\u001b[39;00m \u001b[38;5;21mcollate_fn\u001b[39m(batch):\n\u001b[0;32m     31\u001b[0m     text_sequences \u001b[38;5;241m=\u001b[39m [\n\u001b[0;32m     32\u001b[0m         torch\u001b[38;5;241m.\u001b[39mtensor(item[\u001b[38;5;124m\"\u001b[39m\u001b[38;5;124mtext\u001b[39m\u001b[38;5;124m\"\u001b[39m], dtype\u001b[38;5;241m=\u001b[39mtorch\u001b[38;5;241m.\u001b[39mlong) \u001b[38;5;28;01mfor\u001b[39;00m item \u001b[38;5;129;01min\u001b[39;00m batch\n\u001b[0;32m     33\u001b[0m     ]  \u001b[38;5;66;03m# Convert each sequence to a tensor\u001b[39;00m\n\u001b[1;32m---> 34\u001b[0m     scores \u001b[38;5;241m=\u001b[39m torch\u001b[38;5;241m.\u001b[39mtensor(\u001b[43m[\u001b[49m\u001b[43mitem\u001b[49m\u001b[43m[\u001b[49m\u001b[38;5;124;43m\"\u001b[39;49m\u001b[38;5;124;43mscore\u001b[39;49m\u001b[38;5;124;43m\"\u001b[39;49m\u001b[43m]\u001b[49m\u001b[43m \u001b[49m\u001b[38;5;28;43;01mfor\u001b[39;49;00m\u001b[43m \u001b[49m\u001b[43mitem\u001b[49m\u001b[43m \u001b[49m\u001b[38;5;129;43;01min\u001b[39;49;00m\u001b[43m \u001b[49m\u001b[43mbatch\u001b[49m\u001b[43m]\u001b[49m, dtype\u001b[38;5;241m=\u001b[39mtorch\u001b[38;5;241m.\u001b[39mfloat)\n\u001b[0;32m     36\u001b[0m     \u001b[38;5;66;03m# Pad the sequences to have the same length\u001b[39;00m\n\u001b[0;32m     37\u001b[0m     text_sequences_padded \u001b[38;5;241m=\u001b[39m pad_sequence(\n\u001b[0;32m     38\u001b[0m         text_sequences, batch_first\u001b[38;5;241m=\u001b[39m\u001b[38;5;28;01mTrue\u001b[39;00m, padding_value\u001b[38;5;241m=\u001b[39m\u001b[38;5;241m0\u001b[39m\n\u001b[0;32m     39\u001b[0m     )\n",
      "Cell \u001b[1;32mIn[67], line 34\u001b[0m, in \u001b[0;36m<listcomp>\u001b[1;34m(.0)\u001b[0m\n\u001b[0;32m     30\u001b[0m \u001b[38;5;28;01mdef\u001b[39;00m \u001b[38;5;21mcollate_fn\u001b[39m(batch):\n\u001b[0;32m     31\u001b[0m     text_sequences \u001b[38;5;241m=\u001b[39m [\n\u001b[0;32m     32\u001b[0m         torch\u001b[38;5;241m.\u001b[39mtensor(item[\u001b[38;5;124m\"\u001b[39m\u001b[38;5;124mtext\u001b[39m\u001b[38;5;124m\"\u001b[39m], dtype\u001b[38;5;241m=\u001b[39mtorch\u001b[38;5;241m.\u001b[39mlong) \u001b[38;5;28;01mfor\u001b[39;00m item \u001b[38;5;129;01min\u001b[39;00m batch\n\u001b[0;32m     33\u001b[0m     ]  \u001b[38;5;66;03m# Convert each sequence to a tensor\u001b[39;00m\n\u001b[1;32m---> 34\u001b[0m     scores \u001b[38;5;241m=\u001b[39m torch\u001b[38;5;241m.\u001b[39mtensor([\u001b[43mitem\u001b[49m\u001b[43m[\u001b[49m\u001b[38;5;124;43m\"\u001b[39;49m\u001b[38;5;124;43mscore\u001b[39;49m\u001b[38;5;124;43m\"\u001b[39;49m\u001b[43m]\u001b[49m \u001b[38;5;28;01mfor\u001b[39;00m item \u001b[38;5;129;01min\u001b[39;00m batch], dtype\u001b[38;5;241m=\u001b[39mtorch\u001b[38;5;241m.\u001b[39mfloat)\n\u001b[0;32m     36\u001b[0m     \u001b[38;5;66;03m# Pad the sequences to have the same length\u001b[39;00m\n\u001b[0;32m     37\u001b[0m     text_sequences_padded \u001b[38;5;241m=\u001b[39m pad_sequence(\n\u001b[0;32m     38\u001b[0m         text_sequences, batch_first\u001b[38;5;241m=\u001b[39m\u001b[38;5;28;01mTrue\u001b[39;00m, padding_value\u001b[38;5;241m=\u001b[39m\u001b[38;5;241m0\u001b[39m\n\u001b[0;32m     39\u001b[0m     )\n",
      "\u001b[1;31mKeyError\u001b[0m: 'score'"
     ]
    }
   ],
   "source": [
    "model.eval()\n",
    "\n",
    "# Predict on the unseen data\n",
    "predictions = []\n",
    "with torch.no_grad():\n",
    "    for batch in unseen_loader:\n",
    "        inputs = batch[\"text\"].to(device)\n",
    "        outputs = model(inputs).squeeze(1)\n",
    "        predictions.extend(outputs.cpu().numpy())\n",
    "\n",
    "unseen_df[\"predicted_score\"] = predictions\n"
   ]
  }
 ],
 "metadata": {
  "kernelspec": {
   "display_name": "Python 3",
   "language": "python",
   "name": "python3"
  },
  "language_info": {
   "codemirror_mode": {
    "name": "ipython",
    "version": 3
   },
   "file_extension": ".py",
   "mimetype": "text/x-python",
   "name": "python",
   "nbconvert_exporter": "python",
   "pygments_lexer": "ipython3",
   "version": "3.11.3"
  }
 },
 "nbformat": 4,
 "nbformat_minor": 2
}
