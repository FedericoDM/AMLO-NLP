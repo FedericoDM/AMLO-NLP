{
 "cells": [
  {
   "cell_type": "markdown",
   "metadata": {},
   "source": [
    "# Neural Network Model - Aggressivity Score Prediction"
   ]
  },
  {
   "cell_type": "code",
   "execution_count": 1,
   "metadata": {},
   "outputs": [],
   "source": [
    "import os\n",
    "import numpy as np\n",
    "import pandas as pd\n",
    "\n",
    "\n",
    "# For viz\n",
    "import matplotlib.pyplot as plt\n",
    "import seaborn as sns\n",
    "\n",
    "# Local imports\n",
    "from utils.training_set import TrainingSet\n",
    "from xgb_model import XGBoost\n",
    "from utils.torch_utils import DataPreprocessor\n",
    "from neural_network import NeuralTrainer"
   ]
  },
  {
   "cell_type": "markdown",
   "metadata": {},
   "source": [
    "#### CONSTANTS"
   ]
  },
  {
   "cell_type": "code",
   "execution_count": 2,
   "metadata": {},
   "outputs": [],
   "source": [
    "PATH = \"C:/Users/fdmol/Desktop/AMLO-NLP/src/data/text_files/\"\n",
    "LABELED_PATH = \"C:/Users/fdmol/Desktop/AMLO-NLP/src/data/amlo_labeling.xlsx\"\n",
    "DATA_PATH = \"C:/Users/fdmol/Desktop/AMLO-NLP/src/data/\""
   ]
  },
  {
   "cell_type": "markdown",
   "metadata": {},
   "source": [
    "### Pipeline"
   ]
  },
  {
   "cell_type": "markdown",
   "metadata": {},
   "source": [
    "Create training set, along with its correspoding txt files"
   ]
  },
  {
   "cell_type": "code",
   "execution_count": 3,
   "metadata": {},
   "outputs": [
    {
     "name": "stderr",
     "output_type": "stream",
     "text": [
      "100%|██████████| 1246/1246 [00:00<00:00, 7338.82it/s]"
     ]
    },
    {
     "name": "stdout",
     "output_type": "stream",
     "text": [
      "Conference 20181207 is not agressive\n",
      "Conference 20190102 is not agressive\n",
      "Conference 20190111 is not agressive\n",
      "Conference 20190227 is not agressive\n",
      "Conference 20200128 is not agressive\n",
      "Conference 20210510 is not agressive\n",
      "Conference 20221125 is not agressive\n"
     ]
    },
    {
     "name": "stderr",
     "output_type": "stream",
     "text": [
      "\n"
     ]
    }
   ],
   "source": [
    "all_files = os.listdir(PATH)\n",
    "\n",
    "training_set = TrainingSet(remove_stopwords=True)\n",
    "training_set.create_training_set()"
   ]
  },
  {
   "cell_type": "code",
   "execution_count": 4,
   "metadata": {},
   "outputs": [],
   "source": [
    "# Specify the path to your training data folder\n",
    "folder_path = \"C:/Users/fdmol/Desktop/AMLO-NLP/src/data/training_data/\"\n",
    "\n",
    "param = {\n",
    "    \"max_depth\": 8,\n",
    "    \"eta\": 0.15,\n",
    "    \"objective\": \"reg:squarederror\",\n",
    "    \"eval_metric\": \"rmse\",\n",
    "}\n",
    "\n",
    "\n",
    "xgb_model = XGBoost(\n",
    "    folder_path=folder_path,\n",
    "    dialogues_path=training_set.DIALOGUES_PATH,\n",
    "    xgb_params=param,\n",
    ")\n",
    "\n",
    "\n",
    "xgb_model.create_regression_training_df()\n",
    "xgb_model.create_unseen_df()"
   ]
  },
  {
   "cell_type": "code",
   "execution_count": 5,
   "metadata": {},
   "outputs": [],
   "source": [
    "training_df = xgb_model.training_df\n",
    "unseen_df = xgb_model.unseen_df"
   ]
  },
  {
   "cell_type": "markdown",
   "metadata": {},
   "source": [
    "### Trying to implement a NNet model"
   ]
  },
  {
   "cell_type": "code",
   "execution_count": 6,
   "metadata": {},
   "outputs": [],
   "source": [
    "data_preprocessor = DataPreprocessor(training_df, unseen_df)\n",
    "train_loader, unseen_loader = data_preprocessor.prepare_data()\n",
    "vocab = data_preprocessor.vocab"
   ]
  },
  {
   "cell_type": "code",
   "execution_count": 7,
   "metadata": {},
   "outputs": [
    {
     "name": "stderr",
     "output_type": "stream",
     "text": [
      "c:\\Users\\fdmol\\AppData\\Local\\Programs\\Python\\Python311\\Lib\\site-packages\\tqdm\\auto.py:21: TqdmWarning: IProgress not found. Please update jupyter and ipywidgets. See https://ipywidgets.readthedocs.io/en/stable/user_install.html\n",
      "  from .autonotebook import tqdm as notebook_tqdm\n"
     ]
    },
    {
     "name": "stdout",
     "output_type": "stream",
     "text": [
      "Epoch 1/100, Loss: 0.0185\n",
      "Epoch 2/100, Loss: 0.0179\n",
      "Epoch 3/100, Loss: 0.0174\n",
      "Epoch 4/100, Loss: 0.0169\n",
      "Epoch 5/100, Loss: 0.0165\n",
      "Epoch 6/100, Loss: 0.0160\n",
      "Epoch 7/100, Loss: 0.0156\n",
      "Epoch 8/100, Loss: 0.0152\n",
      "Epoch 9/100, Loss: 0.0148\n",
      "Epoch 10/100, Loss: 0.0144\n",
      "Epoch 11/100, Loss: 0.0140\n",
      "Epoch 12/100, Loss: 0.0137\n",
      "Epoch 13/100, Loss: 0.0134\n",
      "Epoch 14/100, Loss: 0.0130\n",
      "Epoch 15/100, Loss: 0.0127\n",
      "Epoch 16/100, Loss: 0.0124\n",
      "Epoch 17/100, Loss: 0.0121\n",
      "Epoch 18/100, Loss: 0.0118\n",
      "Epoch 19/100, Loss: 0.0115\n",
      "Epoch 20/100, Loss: 0.0112\n",
      "Epoch 21/100, Loss: 0.0110\n",
      "Epoch 22/100, Loss: 0.0107\n",
      "Epoch 23/100, Loss: 0.0104\n",
      "Epoch 24/100, Loss: 0.0101\n",
      "Epoch 25/100, Loss: 0.0099\n",
      "Epoch 26/100, Loss: 0.0096\n",
      "Epoch 27/100, Loss: 0.0093\n",
      "Epoch 28/100, Loss: 0.0091\n",
      "Epoch 29/100, Loss: 0.0088\n",
      "Epoch 30/100, Loss: 0.0085\n",
      "Epoch 31/100, Loss: 0.0083\n",
      "Epoch 32/100, Loss: 0.0080\n",
      "Epoch 33/100, Loss: 0.0078\n",
      "Epoch 34/100, Loss: 0.0075\n",
      "Epoch 35/100, Loss: 0.0072\n",
      "Epoch 36/100, Loss: 0.0070\n",
      "Epoch 37/100, Loss: 0.0068\n",
      "Epoch 38/100, Loss: 0.0065\n",
      "Epoch 39/100, Loss: 0.0063\n",
      "Epoch 40/100, Loss: 0.0060\n",
      "Epoch 41/100, Loss: 0.0058\n",
      "Epoch 42/100, Loss: 0.0056\n",
      "Epoch 43/100, Loss: 0.0054\n",
      "Epoch 44/100, Loss: 0.0051\n",
      "Epoch 45/100, Loss: 0.0049\n",
      "Epoch 46/100, Loss: 0.0047\n",
      "Epoch 47/100, Loss: 0.0045\n",
      "Epoch 48/100, Loss: 0.0043\n",
      "Epoch 49/100, Loss: 0.0041\n",
      "Epoch 50/100, Loss: 0.0039\n",
      "Epoch 51/100, Loss: 0.0037\n",
      "Epoch 52/100, Loss: 0.0035\n",
      "Epoch 53/100, Loss: 0.0034\n",
      "Epoch 54/100, Loss: 0.0032\n",
      "Epoch 55/100, Loss: 0.0030\n",
      "Epoch 56/100, Loss: 0.0028\n",
      "Epoch 57/100, Loss: 0.0027\n",
      "Epoch 58/100, Loss: 0.0025\n",
      "Epoch 59/100, Loss: 0.0024\n",
      "Epoch 60/100, Loss: 0.0022\n",
      "Epoch 61/100, Loss: 0.0021\n",
      "Epoch 62/100, Loss: 0.0020\n",
      "Epoch 63/100, Loss: 0.0018\n",
      "Epoch 64/100, Loss: 0.0017\n",
      "Epoch 65/100, Loss: 0.0016\n",
      "Epoch 66/100, Loss: 0.0015\n",
      "Epoch 67/100, Loss: 0.0014\n",
      "Epoch 68/100, Loss: 0.0013\n",
      "Epoch 69/100, Loss: 0.0012\n",
      "Epoch 70/100, Loss: 0.0011\n",
      "Epoch 71/100, Loss: 0.0010\n",
      "Epoch 72/100, Loss: 0.0009\n",
      "Epoch 73/100, Loss: 0.0008\n",
      "Epoch 74/100, Loss: 0.0008\n",
      "Epoch 75/100, Loss: 0.0007\n",
      "Epoch 76/100, Loss: 0.0006\n",
      "Epoch 77/100, Loss: 0.0006\n",
      "Epoch 78/100, Loss: 0.0005\n",
      "Epoch 79/100, Loss: 0.0005\n",
      "Epoch 80/100, Loss: 0.0005\n",
      "Epoch 81/100, Loss: 0.0004\n",
      "Epoch 82/100, Loss: 0.0004\n",
      "Epoch 83/100, Loss: 0.0004\n",
      "Epoch 84/100, Loss: 0.0003\n",
      "Epoch 85/100, Loss: 0.0003\n",
      "Epoch 86/100, Loss: 0.0003\n",
      "Epoch 87/100, Loss: 0.0003\n",
      "Epoch 88/100, Loss: 0.0002\n",
      "Epoch 89/100, Loss: 0.0002\n",
      "Epoch 90/100, Loss: 0.0002\n",
      "Epoch 91/100, Loss: 0.0002\n",
      "Epoch 92/100, Loss: 0.0002\n",
      "Epoch 93/100, Loss: 0.0002\n",
      "Epoch 94/100, Loss: 0.0002\n",
      "Epoch 95/100, Loss: 0.0002\n",
      "Epoch 96/100, Loss: 0.0002\n",
      "Epoch 97/100, Loss: 0.0002\n",
      "Epoch 98/100, Loss: 0.0002\n",
      "Epoch 99/100, Loss: 0.0001\n",
      "Epoch 100/100, Loss: 0.0001\n"
     ]
    }
   ],
   "source": [
    "# Note: num_epochs and batch_size are in the constants file\n",
    "# Other hyperparameters are still in the neural_network file\n",
    "\n",
    "neural_trainer = NeuralTrainer(\n",
    "    vocab, train_loader, unseen_loader, training_df, unseen_df\n",
    ")\n",
    "\n",
    "neural_trainer.train_model()\n",
    "neural_trainer.predict_unseen_data()\n",
    "neural_trainer.scale_data()"
   ]
  },
  {
   "cell_type": "code",
   "execution_count": 8,
   "metadata": {},
   "outputs": [
    {
     "data": {
      "text/plain": [
       "Text(0.5, 1.0, 'Distribution of Aggressivity Scores - Neural Net Model')"
      ]
     },
     "execution_count": 8,
     "metadata": {},
     "output_type": "execute_result"
    },
    {
     "data": {
      "image/png": "[encoded data removed]",
      "text/plain": [
       "<Figure size 640x480 with 1 Axes>"
      ]
     },
     "metadata": {},
     "output_type": "display_data"
    }
   ],
   "source": [
    "# Histogram of the scores\n",
    "sns.set()\n",
    "plt.hist(neural_trainer.nnet_agressivity_scores[\"score\"], bins=25)\n",
    "plt.xlabel(\"Score\")\n",
    "plt.ylabel(\"Frequency\")\n",
    "plt.title(\"Distribution of Aggressivity Scores - Neural Net Model\")"
   ]
  },
  {
   "cell_type": "markdown",
   "metadata": {},
   "source": [
    "### Add this score to the complete dataset"
   ]
  },
  {
   "cell_type": "code",
   "execution_count": 9,
   "metadata": {},
   "outputs": [],
   "source": [
    "complete_dataset_BDD = pd.read_csv(f\"{DATA_PATH}complete_dataset_BDD.csv\")\n",
    "\n",
    "neural_trainer.nnet_agressivity_scores.rename(\n",
    "    columns={\"score\": \"nnet_score\"}, inplace=True\n",
    ")"
   ]
  },
  {
   "cell_type": "code",
   "execution_count": 11,
   "metadata": {},
   "outputs": [],
   "source": [
    "complete_dataset_BDD = pd.merge(\n",
    "    complete_dataset_BDD,\n",
    "    neural_trainer.nnet_agressivity_scores[[\"id\", \"nnet_score\"]],\n",
    "    on=\"id\",\n",
    "    how=\"left\",\n",
    ")\n",
    "\n",
    "# complete_dataset_BDD.to_csv(f\"{DATA_PATH}complete_dataset_BDD.csv\", index=False)"
   ]
  }
 ],
 "metadata": {
  "kernelspec": {
   "display_name": "Python 3",
   "language": "python",
   "name": "python3"
  },
  "language_info": {
   "codemirror_mode": {
    "name": "ipython",
    "version": 3
   },
   "file_extension": ".py",
   "mimetype": "text/x-python",
   "name": "python",
   "nbconvert_exporter": "python",
   "pygments_lexer": "ipython3",
   "version": "3.11.3"
  }
 },
 "nbformat": 4,
 "nbformat_minor": 2
}
