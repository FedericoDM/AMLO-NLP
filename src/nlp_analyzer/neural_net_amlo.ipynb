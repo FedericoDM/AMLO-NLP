{
 "cells": [
  {
   "cell_type": "markdown",
   "metadata": {},
   "source": [
    "# AMLO Exploratory Data Analysis"
   ]
  },
  {
   "cell_type": "code",
   "execution_count": 32,
   "metadata": {},
   "outputs": [],
   "source": [
    "import os\n",
    "from collections import Counter\n",
    "\n",
    "import numpy as np\n",
    "import pandas as pd\n",
    "import torch\n",
    "import torch.nn as nn\n",
    "import torch.nn.functional as F\n",
    "import torch.optim as optim\n",
    "from torch.nn.utils.rnn import pad_sequence\n",
    "from torch.utils.data import DataLoader, Dataset\n",
    "from tqdm import tqdm\n",
    "\n",
    "# Minmaxscaler\n",
    "from sklearn.preprocessing import MinMaxScaler\n",
    "\n",
    "# Local imports\n",
    "from training_set import TrainingSet\n",
    "from xgb_model import XGBoost\n",
    "\n",
    "# For viz\n",
    "import matplotlib.pyplot as plt\n",
    "import seaborn as sns"
   ]
  },
  {
   "cell_type": "markdown",
   "metadata": {},
   "source": [
    "#### CONSTANTS"
   ]
  },
  {
   "cell_type": "code",
   "execution_count": 30,
   "metadata": {},
   "outputs": [],
   "source": [
    "PATH = \"C:/Users/fdmol/Desktop/AMLO-NLP/src/data/text_files/\"\n",
    "LABELED_PATH = \"C:/Users/fdmol/Desktop/AMLO-NLP/src/data/amlo_labeling.xlsx\"\n",
    "DATA_PATH = \"C:/Users/fdmol/Desktop/AMLO-NLP/src/data/\""
   ]
  },
  {
   "cell_type": "markdown",
   "metadata": {},
   "source": [
    "### Pipeline"
   ]
  },
  {
   "cell_type": "markdown",
   "metadata": {},
   "source": [
    "Create training set, along with its correspoding txt files"
   ]
  },
  {
   "cell_type": "code",
   "execution_count": 17,
   "metadata": {},
   "outputs": [
    {
     "name": "stderr",
     "output_type": "stream",
     "text": [
      " 39%|███▉      | 490/1246 [00:00<00:00, 4866.47it/s]"
     ]
    },
    {
     "name": "stdout",
     "output_type": "stream",
     "text": [
      "Conference 20181207 is not agressive\n",
      "Conference 20190102 is not agressive\n",
      "Conference 20190111 is not agressive\n",
      "Conference 20190227 is not agressive\n",
      "Conference 20200128 is not agressive\n",
      "Conference 20210510 is not agressive\n"
     ]
    },
    {
     "name": "stderr",
     "output_type": "stream",
     "text": [
      "100%|██████████| 1246/1246 [00:00<00:00, 4723.02it/s]"
     ]
    },
    {
     "name": "stdout",
     "output_type": "stream",
     "text": [
      "Conference 20221125 is not agressive\n"
     ]
    },
    {
     "name": "stderr",
     "output_type": "stream",
     "text": [
      "\n"
     ]
    }
   ],
   "source": [
    "all_files = os.listdir(PATH)\n",
    "\n",
    "training_set = TrainingSet(remove_stopwords=True)\n",
    "training_set.create_training_set()"
   ]
  },
  {
   "cell_type": "code",
   "execution_count": 18,
   "metadata": {},
   "outputs": [],
   "source": [
    "# Specify the path to your training data folder\n",
    "folder_path = \"C:/Users/fdmol/Desktop/AMLO-NLP/src/data/training_data/\"\n",
    "\n",
    "param = {\n",
    "    \"max_depth\": 8,\n",
    "    \"eta\": 0.15,\n",
    "    \"objective\": \"reg:squarederror\",\n",
    "    \"eval_metric\": \"rmse\",\n",
    "}\n",
    "\n",
    "\n",
    "xgb_model = XGBoost(\n",
    "    folder_path=folder_path,\n",
    "    dialogues_path=training_set.DIALOGUES_PATH,\n",
    "    xgb_params=param,\n",
    ")\n",
    "\n",
    "\n",
    "xgb_model.create_regression_training_df()\n",
    "xgb_model.create_unseen_df()"
   ]
  },
  {
   "cell_type": "code",
   "execution_count": 19,
   "metadata": {},
   "outputs": [],
   "source": [
    "training_df = xgb_model.training_df\n",
    "unseen_df = xgb_model.unseen_df"
   ]
  },
  {
   "cell_type": "markdown",
   "metadata": {},
   "source": [
    "### Trying to implement a NNet model"
   ]
  },
  {
   "cell_type": "code",
   "execution_count": 20,
   "metadata": {},
   "outputs": [],
   "source": [
    "def build_vocab(texts, tokenizer, min_freq=1):\n",
    "    \"\"\"\n",
    "    Builds a vocabulary from the given texts based on frequency.\n",
    "\n",
    "    Args:\n",
    "    - texts (list of str): List of text samples.\n",
    "    - tokenizer (callable): Function to tokenize text.\n",
    "    - min_freq (int): Minimum frequency for a word to be included in the vocab.\n",
    "\n",
    "    Returns:\n",
    "    - vocab (dict): Mapping of word to unique index.\n",
    "    \"\"\"\n",
    "    # Tokenize all texts and count word frequencies\n",
    "    counter = Counter(token for text in texts for token in tokenizer(text))\n",
    "\n",
    "    # Filter words by min_freq and assign unique indices\n",
    "    vocab = {\n",
    "        word: i + 2\n",
    "        for i, (word, freq) in enumerate(counter.items())\n",
    "        if freq >= min_freq\n",
    "    }  # Start indexing from 2\n",
    "\n",
    "    # Special tokens\n",
    "    vocab[\"<pad>\"] = 0  # Padding token\n",
    "    vocab[\"<unk>\"] = 1  # Unknown word token\n",
    "\n",
    "    return vocab\n",
    "\n",
    "\n",
    "# Example tokenizer function\n",
    "def tokenizer(text):\n",
    "    return text.split()"
   ]
  },
  {
   "cell_type": "code",
   "execution_count": 21,
   "metadata": {},
   "outputs": [],
   "source": [
    "class AggressivityDataset(Dataset):\n",
    "    def __init__(self, texts, vocab, scores=None):\n",
    "        \"\"\"\n",
    "        texts: List of text data\n",
    "        vocab: A dictionary mapping tokens to indices\n",
    "        scores: List of aggressivity scores (for training data); None for unseen data\n",
    "        \"\"\"\n",
    "        self.texts = [self.numericalize(text, vocab) for text in texts]\n",
    "        self.scores = scores\n",
    "\n",
    "    def numericalize(self, text, vocab):\n",
    "        # Simple tokenization and numericalization based on the provided vocab\n",
    "        tokenized = (\n",
    "            text.lower().split()\n",
    "        )  # Simple whitespace tokenization, adjust as needed\n",
    "        return [\n",
    "            vocab.get(token, 0) for token in tokenized\n",
    "        ]  # 0 as the index for unknown words\n",
    "\n",
    "    def __len__(self):\n",
    "        return len(self.texts)\n",
    "\n",
    "    def __getitem__(self, idx):\n",
    "        item = {\"text\": self.texts[idx]}\n",
    "        if self.scores is not None:  # Handle cases where scores might not be available\n",
    "            item[\"score\"] = self.scores[idx]\n",
    "        return item\n",
    "\n",
    "\n",
    "def collate_fn(batch):\n",
    "    text_sequences = [\n",
    "        torch.tensor(item[\"text\"], dtype=torch.long) for item in batch\n",
    "    ]  # Ensure conversion to tensor\n",
    "    # Check if 'score' key exists and handle accordingly\n",
    "    scores = (\n",
    "        torch.tensor([item[\"score\"] for item in batch], dtype=torch.float)\n",
    "        if \"score\" in batch[0]\n",
    "        else None\n",
    "    )\n",
    "\n",
    "    text_sequences_padded = pad_sequence(\n",
    "        text_sequences, batch_first=True, padding_value=0\n",
    "    )\n",
    "\n",
    "    return (\n",
    "        (text_sequences_padded, scores) if scores is not None else text_sequences_padded\n",
    "    )"
   ]
  },
  {
   "cell_type": "code",
   "execution_count": 22,
   "metadata": {},
   "outputs": [],
   "source": [
    "# Build vocab from your training_df['text']\n",
    "vocab = build_vocab(training_df[\"text\"].tolist(), tokenizer)\n",
    "\n",
    "training_dataset = AggressivityDataset(\n",
    "    training_df[\"text\"].tolist(), vocab, training_df[\"score\"].tolist()\n",
    ")\n",
    "\n",
    "\n",
    "unseen_dataset = AggressivityDataset(unseen_df[\"text\"].tolist(), vocab, scores=None)\n",
    "\n",
    "batch_size = 32"
   ]
  },
  {
   "cell_type": "code",
   "execution_count": 23,
   "metadata": {},
   "outputs": [],
   "source": [
    "train_loader = DataLoader(\n",
    "    training_dataset, batch_size=batch_size, shuffle=True, collate_fn=collate_fn\n",
    ")\n",
    "unseen_loader = DataLoader(\n",
    "    unseen_dataset, batch_size=32, shuffle=False, collate_fn=collate_fn\n",
    ")"
   ]
  },
  {
   "cell_type": "markdown",
   "metadata": {},
   "source": [
    "## Define Neural Network model"
   ]
  },
  {
   "cell_type": "code",
   "execution_count": 24,
   "metadata": {},
   "outputs": [],
   "source": [
    "class NeuralRegressor(nn.Module):\n",
    "    def __init__(self, vocab_size, embedding_dim):\n",
    "        super(NeuralRegressor, self).__init__()\n",
    "        self.embedding = nn.Embedding(vocab_size, embedding_dim, padding_idx=0)\n",
    "        self.fc = nn.Linear(embedding_dim, 1)\n",
    "\n",
    "    def forward(self, x):\n",
    "        embedded = self.embedding(x)\n",
    "        pooled = F.avg_pool2d(embedded, (embedded.shape[1], 1)).squeeze(\n",
    "            1\n",
    "        )  # Average pooling\n",
    "        output = self.fc(pooled)\n",
    "        return output"
   ]
  },
  {
   "cell_type": "code",
   "execution_count": 48,
   "metadata": {},
   "outputs": [],
   "source": [
    "def train_model(vocab, train_loader, num_epochs=100):\n",
    "    \"\"\"\n",
    "    This function wraps the entire training process: data loading, model creation,\n",
    "    \"\"\"\n",
    "    device = torch.device(\"cuda\" if torch.cuda.is_available() else \"cpu\")\n",
    "\n",
    "    model = NeuralRegressor(vocab_size=len(vocab) + 1, embedding_dim=100).to(device)\n",
    "\n",
    "    criterion = nn.MSELoss()\n",
    "\n",
    "    optimizer = optim.Adam(model.parameters(), lr=0.001)\n",
    "\n",
    "\n",
    "    for epoch in range(num_epochs):\n",
    "\n",
    "\n",
    "        model.train()\n",
    "\n",
    "\n",
    "        for batch in train_loader:\n",
    "\n",
    "\n",
    "            inputs, targets = (\n",
    "                batch  # Here, batch directly unpacks into inputs and targets\n",
    "            )\n",
    "\n",
    "\n",
    "            inputs, targets = inputs.to(device), targets.to(device)\n",
    "\n",
    "            optimizer.zero_grad()\n",
    "\n",
    "            outputs = model(inputs).squeeze(1)\n",
    "\n",
    "            loss = criterion(outputs, targets)\n",
    "\n",
    "            loss.backward()\n",
    "\n",
    "            optimizer.step()\n",
    "\n",
    "\n",
    "        print(f\"Epoch {epoch+1}/{num_epochs}, Loss: {loss.item():.4f}\")"
   ]
  },
  {
   "cell_type": "markdown",
   "metadata": {},
   "source": [
    "### Predict score"
   ]
  },
  {
   "cell_type": "code",
   "execution_count": 26,
   "metadata": {},
   "outputs": [],
   "source": [
    "with torch.no_grad():\n",
    "    predictions = []\n",
    "    for inputs in unseen_loader:  # No targets here\n",
    "        inputs = inputs.to(device)  # Ensure inputs are on the correct device\n",
    "        outputs = model(inputs).squeeze(1)\n",
    "        predictions.extend(outputs.cpu().numpy())"
   ]
  },
  {
   "cell_type": "code",
   "execution_count": 33,
   "metadata": {},
   "outputs": [],
   "source": [
    "unseen_df[\"score\"] = predictions\n",
    "\n",
    "nnet_agressivity_scores = pd.concat([training_df, unseen_df], axis=0)\n",
    "\n",
    "scaler = MinMaxScaler()\n",
    "# Normalize the score\n",
    "scores = np.array(nnet_agressivity_scores[\"score\"]).reshape(-1, 1)\n",
    "scaler.fit(scores)\n",
    "nnet_agressivity_scores[\"score\"] = scaler.transform(scores)\n",
    "nnet_agressivity_scores.to_csv(f\"{DATA_PATH}nnet_agressivity_scores.csv\", index=False)"
   ]
  },
  {
   "cell_type": "code",
   "execution_count": 34,
   "metadata": {},
   "outputs": [
    {
     "data": {
      "text/plain": [
       "Text(0.5, 1.0, 'Distribution of Aggressivity Scores - Neural Net Model')"
      ]
     },
     "execution_count": 34,
     "metadata": {},
     "output_type": "execute_result"
    },
    {
     "data": {
      "image/png": "[encoded data removed]",
      "text/plain": [
       "<Figure size 640x480 with 1 Axes>"
      ]
     },
     "metadata": {},
     "output_type": "display_data"
    }
   ],
   "source": [
    "# Histogram of the scores\n",
    "sns.set()\n",
    "plt.hist(nnet_agressivity_scores[\"score\"], bins=25)\n",
    "plt.xlabel(\"Score\")\n",
    "plt.ylabel(\"Frequency\")\n",
    "plt.title(\"Distribution of Aggressivity Scores - Neural Net Model\")"
   ]
  },
  {
   "cell_type": "markdown",
   "metadata": {},
   "source": [
    "### Add this score to the complete dataset"
   ]
  },
  {
   "cell_type": "code",
   "execution_count": 43,
   "metadata": {},
   "outputs": [],
   "source": [
    "complete_dataset_BDD = pd.read_csv(f\"{DATA_PATH}complete_dataset_BDD.csv\")\n",
    "\n",
    "nnet_agressivity_scores.rename(columns={\"score\": \"nnet_score\"}, inplace=True)"
   ]
  },
  {
   "cell_type": "code",
   "execution_count": 47,
   "metadata": {},
   "outputs": [],
   "source": [
    "complete_dataset_BDD = pd.merge(\n",
    "    complete_dataset_BDD,\n",
    "    nnet_agressivity_scores[[\"id\", \"nnet_score\"]],\n",
    "    on=\"id\",\n",
    "    how=\"left\",\n",
    ")\n",
    "\n",
    "complete_dataset_BDD.to_csv(f\"{DATA_PATH}complete_dataset_BDD.csv\", index=False)"
   ]
  }
 ],
 "metadata": {
  "kernelspec": {
   "display_name": "Python 3",
   "language": "python",
   "name": "python3"
  },
  "language_info": {
   "codemirror_mode": {
    "name": "ipython",
    "version": 3
   },
   "file_extension": ".py",
   "mimetype": "text/x-python",
   "name": "python",
   "nbconvert_exporter": "python",
   "pygments_lexer": "ipython3",
   "version": "3.11.3"
  }
 },
 "nbformat": 4,
 "nbformat_minor": 2
}
